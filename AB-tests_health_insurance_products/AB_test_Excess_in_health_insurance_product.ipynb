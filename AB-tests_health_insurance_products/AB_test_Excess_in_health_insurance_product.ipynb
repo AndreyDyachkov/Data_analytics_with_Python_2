{
  "nbformat": 4,
  "nbformat_minor": 0,
  "metadata": {
    "colab": {
      "provenance": [],
      "toc_visible": true,
      "mount_file_id": "1AL9F6z5DNF688Xq41cvdmy_2AisNeDU1",
      "authorship_tag": "ABX9TyNt/okhLuAoY3N/0gBcRU6w",
      "include_colab_link": true
    },
    "kernelspec": {
      "name": "python3",
      "display_name": "Python 3"
    },
    "language_info": {
      "name": "python"
    }
  },
  "cells": [
    {
      "cell_type": "markdown",
      "metadata": {
        "id": "view-in-github",
        "colab_type": "text"
      },
      "source": [
        "<a href=\"https://colab.research.google.com/github/AndreyDyachkov/Data_analytics_with_Python_2/blob/main/AB-tests_health_insurance_products/AB_test_Excess_in_health_insurance_product.ipynb\" target=\"_parent\"><img src=\"https://colab.research.google.com/assets/colab-badge.svg\" alt=\"Open In Colab\"/></a>"
      ]
    },
    {
      "cell_type": "markdown",
      "source": [
        "# A/B test of a product modification. Estimation of the effect of the deductible on a health insurance product"
      ],
      "metadata": {
        "id": "u6MhpgWvh-Bv"
      }
    },
    {
      "cell_type": "markdown",
      "source": [
        "### Goal"
      ],
      "metadata": {
        "id": "aVQHraGUVTin"
      }
    },
    {
      "cell_type": "markdown",
      "source": [
        "Estimate the impact of excess on average loss per customer per month and frequency for a health insurance product. In this case, frequency is the number of policyholders who visited a clinic in a month divided by the number of all policyholders. The excess was added in order to decrease loss, therefore  the average loss per customer per month and frequency should be decreased as well."
      ],
      "metadata": {
        "id": "3SVZAzWgVfu_"
      }
    },
    {
      "cell_type": "markdown",
      "source": [
        "### Tasks"
      ],
      "metadata": {
        "id": "itamg6a-VdIw"
      }
    },
    {
      "cell_type": "markdown",
      "source": [
        "1. Find the clients (legal entities) which were added deductible at the renewal of their contracts.\n",
        "2. Estimates the change of the average loss per policyholder per month before and after implementing the deductible.\n",
        "3. Compare the average loss per unique policyholder before the deductible and after implementing it.\n",
        "4. Compare the percentage of policyholders who visited healthcare facilities before the deductible and after it.\n",
        "5. Calculate statistical significance of the differences."
      ],
      "metadata": {
        "id": "JwaRzOpmWPp_"
      }
    },
    {
      "cell_type": "markdown",
      "source": [
        "Data source: data on the amount of payment for each policy per month for each clinic, including those where the deductible was working.\n",
        "\n"
      ],
      "metadata": {
        "id": "9Vzvj9DaV1y0"
      }
    },
    {
      "cell_type": "markdown",
      "source": [
        "### Results"
      ],
      "metadata": {
        "id": "SVnj61RRiMO1"
      }
    },
    {
      "cell_type": "markdown",
      "source": [
        "10% excess significantly decreased both indicators. The number of policyholders visiting health facilities dropped by 53% after adding an excess to the product. The difference is statistically significant (p<0.01). The average loss per policyholder dropped by 27% and the difference is statistically significant (p < 0.05)."
      ],
      "metadata": {
        "id": "xI8Xm_eKiQXk"
      }
    },
    {
      "cell_type": "markdown",
      "source": [
        "### Imports and data processing"
      ],
      "metadata": {
        "id": "M-tBM52sjE87"
      }
    },
    {
      "cell_type": "code",
      "execution_count": null,
      "metadata": {
        "id": "IVb9U_6HuV_f"
      },
      "outputs": [],
      "source": [
        "import pandas as pd\n",
        "import numpy as np\n",
        "\n",
        "from scipy import stats as st\n",
        "\n",
        "import matplotlib.pyplot as plt\n",
        "import seaborn as sns"
      ]
    },
    {
      "cell_type": "code",
      "source": [
        "df = pd.read_excel('/content/drive/MyDrive/Colab Notebooks/Data_analytics_with_Python_2/AB-tests_health_insurance_products/data/deductible_data.xlsx')\n",
        "df.head()"
      ],
      "metadata": {
        "colab": {
          "base_uri": "https://localhost:8080/",
          "height": 206
        },
        "id": "4F5F5k0e698-",
        "outputId": "743f90ac-cc19-4ea0-9e4e-e72f33238cd4"
      },
      "execution_count": null,
      "outputs": [
        {
          "output_type": "execute_result",
          "data": {
            "text/plain": [
              "  HOLDING MedOrg.Company_name MedOrg._entity     CODE    BEGDATE CloseEndDate  \\\n",
              "0     NaN          company_17         entity  1483029 2016-08-01   2017-07-31   \n",
              "1     NaN          company_17         entity  1483029 2016-08-01   2017-07-31   \n",
              "2     NaN          company_17         entity  1483029 2016-08-01   2017-07-31   \n",
              "3     NaN          company_17         entity  1483029 2016-08-01   2017-07-31   \n",
              "4     NaN          company_17         entity  1483029 2016-08-01   2017-07-31   \n",
              "\n",
              "           POLCODE  type  Loss YearMonthnumber  \n",
              "0  047-2016-G/0037  fact   630         2017/02  \n",
              "1  047-2016-G/0050  fact   630         2017/02  \n",
              "2  047-2016-G/0053  fact  1260         2017/02  \n",
              "3  047-2016-G/0066  fact   630         2017/02  \n",
              "4  047-2016-G/0127  fact   630         2017/02  "
            ],
            "text/html": [
              "\n",
              "  <div id=\"df-573e9259-f578-48b5-b8f1-251d6cc1141d\">\n",
              "    <div class=\"colab-df-container\">\n",
              "      <div>\n",
              "<style scoped>\n",
              "    .dataframe tbody tr th:only-of-type {\n",
              "        vertical-align: middle;\n",
              "    }\n",
              "\n",
              "    .dataframe tbody tr th {\n",
              "        vertical-align: top;\n",
              "    }\n",
              "\n",
              "    .dataframe thead th {\n",
              "        text-align: right;\n",
              "    }\n",
              "</style>\n",
              "<table border=\"1\" class=\"dataframe\">\n",
              "  <thead>\n",
              "    <tr style=\"text-align: right;\">\n",
              "      <th></th>\n",
              "      <th>HOLDING</th>\n",
              "      <th>MedOrg.Company_name</th>\n",
              "      <th>MedOrg._entity</th>\n",
              "      <th>CODE</th>\n",
              "      <th>BEGDATE</th>\n",
              "      <th>CloseEndDate</th>\n",
              "      <th>POLCODE</th>\n",
              "      <th>type</th>\n",
              "      <th>Loss</th>\n",
              "      <th>YearMonthnumber</th>\n",
              "    </tr>\n",
              "  </thead>\n",
              "  <tbody>\n",
              "    <tr>\n",
              "      <th>0</th>\n",
              "      <td>NaN</td>\n",
              "      <td>company_17</td>\n",
              "      <td>entity</td>\n",
              "      <td>1483029</td>\n",
              "      <td>2016-08-01</td>\n",
              "      <td>2017-07-31</td>\n",
              "      <td>047-2016-G/0037</td>\n",
              "      <td>fact</td>\n",
              "      <td>630</td>\n",
              "      <td>2017/02</td>\n",
              "    </tr>\n",
              "    <tr>\n",
              "      <th>1</th>\n",
              "      <td>NaN</td>\n",
              "      <td>company_17</td>\n",
              "      <td>entity</td>\n",
              "      <td>1483029</td>\n",
              "      <td>2016-08-01</td>\n",
              "      <td>2017-07-31</td>\n",
              "      <td>047-2016-G/0050</td>\n",
              "      <td>fact</td>\n",
              "      <td>630</td>\n",
              "      <td>2017/02</td>\n",
              "    </tr>\n",
              "    <tr>\n",
              "      <th>2</th>\n",
              "      <td>NaN</td>\n",
              "      <td>company_17</td>\n",
              "      <td>entity</td>\n",
              "      <td>1483029</td>\n",
              "      <td>2016-08-01</td>\n",
              "      <td>2017-07-31</td>\n",
              "      <td>047-2016-G/0053</td>\n",
              "      <td>fact</td>\n",
              "      <td>1260</td>\n",
              "      <td>2017/02</td>\n",
              "    </tr>\n",
              "    <tr>\n",
              "      <th>3</th>\n",
              "      <td>NaN</td>\n",
              "      <td>company_17</td>\n",
              "      <td>entity</td>\n",
              "      <td>1483029</td>\n",
              "      <td>2016-08-01</td>\n",
              "      <td>2017-07-31</td>\n",
              "      <td>047-2016-G/0066</td>\n",
              "      <td>fact</td>\n",
              "      <td>630</td>\n",
              "      <td>2017/02</td>\n",
              "    </tr>\n",
              "    <tr>\n",
              "      <th>4</th>\n",
              "      <td>NaN</td>\n",
              "      <td>company_17</td>\n",
              "      <td>entity</td>\n",
              "      <td>1483029</td>\n",
              "      <td>2016-08-01</td>\n",
              "      <td>2017-07-31</td>\n",
              "      <td>047-2016-G/0127</td>\n",
              "      <td>fact</td>\n",
              "      <td>630</td>\n",
              "      <td>2017/02</td>\n",
              "    </tr>\n",
              "  </tbody>\n",
              "</table>\n",
              "</div>\n",
              "      <button class=\"colab-df-convert\" onclick=\"convertToInteractive('df-573e9259-f578-48b5-b8f1-251d6cc1141d')\"\n",
              "              title=\"Convert this dataframe to an interactive table.\"\n",
              "              style=\"display:none;\">\n",
              "        \n",
              "  <svg xmlns=\"http://www.w3.org/2000/svg\" height=\"24px\"viewBox=\"0 0 24 24\"\n",
              "       width=\"24px\">\n",
              "    <path d=\"M0 0h24v24H0V0z\" fill=\"none\"/>\n",
              "    <path d=\"M18.56 5.44l.94 2.06.94-2.06 2.06-.94-2.06-.94-.94-2.06-.94 2.06-2.06.94zm-11 1L8.5 8.5l.94-2.06 2.06-.94-2.06-.94L8.5 2.5l-.94 2.06-2.06.94zm10 10l.94 2.06.94-2.06 2.06-.94-2.06-.94-.94-2.06-.94 2.06-2.06.94z\"/><path d=\"M17.41 7.96l-1.37-1.37c-.4-.4-.92-.59-1.43-.59-.52 0-1.04.2-1.43.59L10.3 9.45l-7.72 7.72c-.78.78-.78 2.05 0 2.83L4 21.41c.39.39.9.59 1.41.59.51 0 1.02-.2 1.41-.59l7.78-7.78 2.81-2.81c.8-.78.8-2.07 0-2.86zM5.41 20L4 18.59l7.72-7.72 1.47 1.35L5.41 20z\"/>\n",
              "  </svg>\n",
              "      </button>\n",
              "      \n",
              "  <style>\n",
              "    .colab-df-container {\n",
              "      display:flex;\n",
              "      flex-wrap:wrap;\n",
              "      gap: 12px;\n",
              "    }\n",
              "\n",
              "    .colab-df-convert {\n",
              "      background-color: #E8F0FE;\n",
              "      border: none;\n",
              "      border-radius: 50%;\n",
              "      cursor: pointer;\n",
              "      display: none;\n",
              "      fill: #1967D2;\n",
              "      height: 32px;\n",
              "      padding: 0 0 0 0;\n",
              "      width: 32px;\n",
              "    }\n",
              "\n",
              "    .colab-df-convert:hover {\n",
              "      background-color: #E2EBFA;\n",
              "      box-shadow: 0px 1px 2px rgba(60, 64, 67, 0.3), 0px 1px 3px 1px rgba(60, 64, 67, 0.15);\n",
              "      fill: #174EA6;\n",
              "    }\n",
              "\n",
              "    [theme=dark] .colab-df-convert {\n",
              "      background-color: #3B4455;\n",
              "      fill: #D2E3FC;\n",
              "    }\n",
              "\n",
              "    [theme=dark] .colab-df-convert:hover {\n",
              "      background-color: #434B5C;\n",
              "      box-shadow: 0px 1px 3px 1px rgba(0, 0, 0, 0.15);\n",
              "      filter: drop-shadow(0px 1px 2px rgba(0, 0, 0, 0.3));\n",
              "      fill: #FFFFFF;\n",
              "    }\n",
              "  </style>\n",
              "\n",
              "      <script>\n",
              "        const buttonEl =\n",
              "          document.querySelector('#df-573e9259-f578-48b5-b8f1-251d6cc1141d button.colab-df-convert');\n",
              "        buttonEl.style.display =\n",
              "          google.colab.kernel.accessAllowed ? 'block' : 'none';\n",
              "\n",
              "        async function convertToInteractive(key) {\n",
              "          const element = document.querySelector('#df-573e9259-f578-48b5-b8f1-251d6cc1141d');\n",
              "          const dataTable =\n",
              "            await google.colab.kernel.invokeFunction('convertToInteractive',\n",
              "                                                     [key], {});\n",
              "          if (!dataTable) return;\n",
              "\n",
              "          const docLinkHtml = 'Like what you see? Visit the ' +\n",
              "            '<a target=\"_blank\" href=https://colab.research.google.com/notebooks/data_table.ipynb>data table notebook</a>'\n",
              "            + ' to learn more about interactive tables.';\n",
              "          element.innerHTML = '';\n",
              "          dataTable['output_type'] = 'display_data';\n",
              "          await google.colab.output.renderOutput(dataTable, element);\n",
              "          const docLink = document.createElement('div');\n",
              "          docLink.innerHTML = docLinkHtml;\n",
              "          element.appendChild(docLink);\n",
              "        }\n",
              "      </script>\n",
              "    </div>\n",
              "  </div>\n",
              "  "
            ]
          },
          "metadata": {},
          "execution_count": 4
        }
      ]
    },
    {
      "cell_type": "code",
      "source": [
        "df.columns = ['group','company','entity','contract_id','start_date','end_date','policy_id','type','loss','year_month']\n",
        "df.head()"
      ],
      "metadata": {
        "colab": {
          "base_uri": "https://localhost:8080/",
          "height": 206
        },
        "id": "RR3F_APc7KkT",
        "outputId": "7853dee7-bc2f-4804-fb48-16f1aefc2bbe"
      },
      "execution_count": null,
      "outputs": [
        {
          "output_type": "execute_result",
          "data": {
            "text/plain": [
              "  group     company  entity  contract_id start_date   end_date  \\\n",
              "0   NaN  company_17  entity      1483029 2016-08-01 2017-07-31   \n",
              "1   NaN  company_17  entity      1483029 2016-08-01 2017-07-31   \n",
              "2   NaN  company_17  entity      1483029 2016-08-01 2017-07-31   \n",
              "3   NaN  company_17  entity      1483029 2016-08-01 2017-07-31   \n",
              "4   NaN  company_17  entity      1483029 2016-08-01 2017-07-31   \n",
              "\n",
              "         policy_id  type  loss year_month  \n",
              "0  047-2016-G/0037  fact   630    2017/02  \n",
              "1  047-2016-G/0050  fact   630    2017/02  \n",
              "2  047-2016-G/0053  fact  1260    2017/02  \n",
              "3  047-2016-G/0066  fact   630    2017/02  \n",
              "4  047-2016-G/0127  fact   630    2017/02  "
            ],
            "text/html": [
              "\n",
              "  <div id=\"df-a8e0fd0c-8c26-4e7f-9907-5d3fa69aed15\">\n",
              "    <div class=\"colab-df-container\">\n",
              "      <div>\n",
              "<style scoped>\n",
              "    .dataframe tbody tr th:only-of-type {\n",
              "        vertical-align: middle;\n",
              "    }\n",
              "\n",
              "    .dataframe tbody tr th {\n",
              "        vertical-align: top;\n",
              "    }\n",
              "\n",
              "    .dataframe thead th {\n",
              "        text-align: right;\n",
              "    }\n",
              "</style>\n",
              "<table border=\"1\" class=\"dataframe\">\n",
              "  <thead>\n",
              "    <tr style=\"text-align: right;\">\n",
              "      <th></th>\n",
              "      <th>group</th>\n",
              "      <th>company</th>\n",
              "      <th>entity</th>\n",
              "      <th>contract_id</th>\n",
              "      <th>start_date</th>\n",
              "      <th>end_date</th>\n",
              "      <th>policy_id</th>\n",
              "      <th>type</th>\n",
              "      <th>loss</th>\n",
              "      <th>year_month</th>\n",
              "    </tr>\n",
              "  </thead>\n",
              "  <tbody>\n",
              "    <tr>\n",
              "      <th>0</th>\n",
              "      <td>NaN</td>\n",
              "      <td>company_17</td>\n",
              "      <td>entity</td>\n",
              "      <td>1483029</td>\n",
              "      <td>2016-08-01</td>\n",
              "      <td>2017-07-31</td>\n",
              "      <td>047-2016-G/0037</td>\n",
              "      <td>fact</td>\n",
              "      <td>630</td>\n",
              "      <td>2017/02</td>\n",
              "    </tr>\n",
              "    <tr>\n",
              "      <th>1</th>\n",
              "      <td>NaN</td>\n",
              "      <td>company_17</td>\n",
              "      <td>entity</td>\n",
              "      <td>1483029</td>\n",
              "      <td>2016-08-01</td>\n",
              "      <td>2017-07-31</td>\n",
              "      <td>047-2016-G/0050</td>\n",
              "      <td>fact</td>\n",
              "      <td>630</td>\n",
              "      <td>2017/02</td>\n",
              "    </tr>\n",
              "    <tr>\n",
              "      <th>2</th>\n",
              "      <td>NaN</td>\n",
              "      <td>company_17</td>\n",
              "      <td>entity</td>\n",
              "      <td>1483029</td>\n",
              "      <td>2016-08-01</td>\n",
              "      <td>2017-07-31</td>\n",
              "      <td>047-2016-G/0053</td>\n",
              "      <td>fact</td>\n",
              "      <td>1260</td>\n",
              "      <td>2017/02</td>\n",
              "    </tr>\n",
              "    <tr>\n",
              "      <th>3</th>\n",
              "      <td>NaN</td>\n",
              "      <td>company_17</td>\n",
              "      <td>entity</td>\n",
              "      <td>1483029</td>\n",
              "      <td>2016-08-01</td>\n",
              "      <td>2017-07-31</td>\n",
              "      <td>047-2016-G/0066</td>\n",
              "      <td>fact</td>\n",
              "      <td>630</td>\n",
              "      <td>2017/02</td>\n",
              "    </tr>\n",
              "    <tr>\n",
              "      <th>4</th>\n",
              "      <td>NaN</td>\n",
              "      <td>company_17</td>\n",
              "      <td>entity</td>\n",
              "      <td>1483029</td>\n",
              "      <td>2016-08-01</td>\n",
              "      <td>2017-07-31</td>\n",
              "      <td>047-2016-G/0127</td>\n",
              "      <td>fact</td>\n",
              "      <td>630</td>\n",
              "      <td>2017/02</td>\n",
              "    </tr>\n",
              "  </tbody>\n",
              "</table>\n",
              "</div>\n",
              "      <button class=\"colab-df-convert\" onclick=\"convertToInteractive('df-a8e0fd0c-8c26-4e7f-9907-5d3fa69aed15')\"\n",
              "              title=\"Convert this dataframe to an interactive table.\"\n",
              "              style=\"display:none;\">\n",
              "        \n",
              "  <svg xmlns=\"http://www.w3.org/2000/svg\" height=\"24px\"viewBox=\"0 0 24 24\"\n",
              "       width=\"24px\">\n",
              "    <path d=\"M0 0h24v24H0V0z\" fill=\"none\"/>\n",
              "    <path d=\"M18.56 5.44l.94 2.06.94-2.06 2.06-.94-2.06-.94-.94-2.06-.94 2.06-2.06.94zm-11 1L8.5 8.5l.94-2.06 2.06-.94-2.06-.94L8.5 2.5l-.94 2.06-2.06.94zm10 10l.94 2.06.94-2.06 2.06-.94-2.06-.94-.94-2.06-.94 2.06-2.06.94z\"/><path d=\"M17.41 7.96l-1.37-1.37c-.4-.4-.92-.59-1.43-.59-.52 0-1.04.2-1.43.59L10.3 9.45l-7.72 7.72c-.78.78-.78 2.05 0 2.83L4 21.41c.39.39.9.59 1.41.59.51 0 1.02-.2 1.41-.59l7.78-7.78 2.81-2.81c.8-.78.8-2.07 0-2.86zM5.41 20L4 18.59l7.72-7.72 1.47 1.35L5.41 20z\"/>\n",
              "  </svg>\n",
              "      </button>\n",
              "      \n",
              "  <style>\n",
              "    .colab-df-container {\n",
              "      display:flex;\n",
              "      flex-wrap:wrap;\n",
              "      gap: 12px;\n",
              "    }\n",
              "\n",
              "    .colab-df-convert {\n",
              "      background-color: #E8F0FE;\n",
              "      border: none;\n",
              "      border-radius: 50%;\n",
              "      cursor: pointer;\n",
              "      display: none;\n",
              "      fill: #1967D2;\n",
              "      height: 32px;\n",
              "      padding: 0 0 0 0;\n",
              "      width: 32px;\n",
              "    }\n",
              "\n",
              "    .colab-df-convert:hover {\n",
              "      background-color: #E2EBFA;\n",
              "      box-shadow: 0px 1px 2px rgba(60, 64, 67, 0.3), 0px 1px 3px 1px rgba(60, 64, 67, 0.15);\n",
              "      fill: #174EA6;\n",
              "    }\n",
              "\n",
              "    [theme=dark] .colab-df-convert {\n",
              "      background-color: #3B4455;\n",
              "      fill: #D2E3FC;\n",
              "    }\n",
              "\n",
              "    [theme=dark] .colab-df-convert:hover {\n",
              "      background-color: #434B5C;\n",
              "      box-shadow: 0px 1px 3px 1px rgba(0, 0, 0, 0.15);\n",
              "      filter: drop-shadow(0px 1px 2px rgba(0, 0, 0, 0.3));\n",
              "      fill: #FFFFFF;\n",
              "    }\n",
              "  </style>\n",
              "\n",
              "      <script>\n",
              "        const buttonEl =\n",
              "          document.querySelector('#df-a8e0fd0c-8c26-4e7f-9907-5d3fa69aed15 button.colab-df-convert');\n",
              "        buttonEl.style.display =\n",
              "          google.colab.kernel.accessAllowed ? 'block' : 'none';\n",
              "\n",
              "        async function convertToInteractive(key) {\n",
              "          const element = document.querySelector('#df-a8e0fd0c-8c26-4e7f-9907-5d3fa69aed15');\n",
              "          const dataTable =\n",
              "            await google.colab.kernel.invokeFunction('convertToInteractive',\n",
              "                                                     [key], {});\n",
              "          if (!dataTable) return;\n",
              "\n",
              "          const docLinkHtml = 'Like what you see? Visit the ' +\n",
              "            '<a target=\"_blank\" href=https://colab.research.google.com/notebooks/data_table.ipynb>data table notebook</a>'\n",
              "            + ' to learn more about interactive tables.';\n",
              "          element.innerHTML = '';\n",
              "          dataTable['output_type'] = 'display_data';\n",
              "          await google.colab.output.renderOutput(dataTable, element);\n",
              "          const docLink = document.createElement('div');\n",
              "          docLink.innerHTML = docLinkHtml;\n",
              "          element.appendChild(docLink);\n",
              "        }\n",
              "      </script>\n",
              "    </div>\n",
              "  </div>\n",
              "  "
            ]
          },
          "metadata": {},
          "execution_count": 5
        }
      ]
    },
    {
      "cell_type": "code",
      "source": [
        "df.info()"
      ],
      "metadata": {
        "colab": {
          "base_uri": "https://localhost:8080/"
        },
        "id": "sb9fpRzA1OyA",
        "outputId": "c7fb7867-e0a9-45e1-9690-886bf816f898"
      },
      "execution_count": null,
      "outputs": [
        {
          "output_type": "stream",
          "name": "stdout",
          "text": [
            "<class 'pandas.core.frame.DataFrame'>\n",
            "RangeIndex: 1078 entries, 0 to 1077\n",
            "Data columns (total 10 columns):\n",
            " #   Column       Non-Null Count  Dtype         \n",
            "---  ------       --------------  -----         \n",
            " 0   group        701 non-null    object        \n",
            " 1   company      1078 non-null   object        \n",
            " 2   entity       1078 non-null   object        \n",
            " 3   contract_id  1078 non-null   int64         \n",
            " 4   start_date   1078 non-null   datetime64[ns]\n",
            " 5   end_date     1078 non-null   datetime64[ns]\n",
            " 6   policy_id    1078 non-null   object        \n",
            " 7   type         1078 non-null   object        \n",
            " 8   loss         1078 non-null   int64         \n",
            " 9   year_month   1078 non-null   object        \n",
            "dtypes: datetime64[ns](2), int64(2), object(6)\n",
            "memory usage: 84.3+ KB\n"
          ]
        }
      ]
    },
    {
      "cell_type": "markdown",
      "source": [
        "### EDA"
      ],
      "metadata": {
        "id": "sRnUMHkeh-8d"
      }
    },
    {
      "cell_type": "code",
      "source": [
        "df['loss'].describe()"
      ],
      "metadata": {
        "colab": {
          "base_uri": "https://localhost:8080/"
        },
        "id": "Y1ic9zrs0he1",
        "outputId": "d436df83-0355-4a10-a25e-e5a344ccace7"
      },
      "execution_count": null,
      "outputs": [
        {
          "output_type": "execute_result",
          "data": {
            "text/plain": [
              "count     1078.000000\n",
              "mean      7640.271800\n",
              "std       7023.229052\n",
              "min        490.000000\n",
              "25%       2500.000000\n",
              "50%       5480.000000\n",
              "75%      10394.500000\n",
              "max      51550.000000\n",
              "Name: loss, dtype: float64"
            ]
          },
          "metadata": {},
          "execution_count": 7
        }
      ]
    },
    {
      "cell_type": "markdown",
      "source": [
        "Presumably, it is a right-skewed distribution."
      ],
      "metadata": {
        "id": "BQSINngVh-_f"
      }
    },
    {
      "cell_type": "markdown",
      "source": [
        "Let's draw a histogram."
      ],
      "metadata": {
        "id": "wzM0mqX-h_C4"
      }
    },
    {
      "cell_type": "code",
      "source": [
        "df.plot(kind='hist', y='loss', bins=10, grid=True, figsize=(9,3), title='Distribution of losses')\n",
        "plt.xlabel('loss')\n",
        "plt.ylabel('Frequency')\n",
        "plt.show()"
      ],
      "metadata": {
        "colab": {
          "base_uri": "https://localhost:8080/",
          "height": 333
        },
        "id": "w2u_rpZS0zfz",
        "outputId": "d3c99de4-10e0-4d44-ccba-07b11ebc10b1"
      },
      "execution_count": null,
      "outputs": [
        {
          "output_type": "display_data",
          "data": {
            "text/plain": [
              "<Figure size 900x300 with 1 Axes>"
            ],
            "image/png": "[encoded data removed]"
          },
          "metadata": {}
        }
      ]
    },
    {
      "cell_type": "markdown",
      "source": [
        "and a boxplot to show changes by year"
      ],
      "metadata": {
        "id": "MRuN4Rnoh_F2"
      }
    },
    {
      "cell_type": "code",
      "source": [
        "plt.figure(figsize=(9,3))\n",
        "sns.boxplot(x=df['year_month'].str[:4], y='loss', data=df.sort_values(by='year_month'), palette='rainbow').set(\n",
        "    xlabel='years',\n",
        "    ylabel='loss')\n",
        "plt.title('Loss over years')\n",
        "plt.show()"
      ],
      "metadata": {
        "colab": {
          "base_uri": "https://localhost:8080/",
          "height": 333
        },
        "id": "S3SwT3eG0_UN",
        "outputId": "f61c6be0-3eb5-43a3-d968-b6848e04ef5f"
      },
      "execution_count": null,
      "outputs": [
        {
          "output_type": "display_data",
          "data": {
            "text/plain": [
              "<Figure size 900x300 with 1 Axes>"
            ],
            "image/png": "[encoded data removed]"
          },
          "metadata": {}
        }
      ]
    },
    {
      "cell_type": "markdown",
      "source": [
        "We can see a lognormal distribution on the histogram, typical for losses. The median changes quite a lot over the years. There are some outliers, which we will remove."
      ],
      "metadata": {
        "id": "fHNzre4x2gwk"
      }
    },
    {
      "cell_type": "code",
      "source": [
        "fixed_df = df[(df['loss'] < 35000)]"
      ],
      "metadata": {
        "id": "lS_rsoke2uql"
      },
      "execution_count": null,
      "outputs": []
    },
    {
      "cell_type": "markdown",
      "source": [
        "Let's convert a lognormal distribution to normal in order to apply statistical tests afterwards"
      ],
      "metadata": {
        "id": "WEN9m-Rn3n4m"
      }
    },
    {
      "cell_type": "code",
      "source": [
        "fixed_df['ln_loss'] = np.log(fixed_df['loss'])\n",
        "fixed_df.head()"
      ],
      "metadata": {
        "colab": {
          "base_uri": "https://localhost:8080/",
          "height": 310
        },
        "id": "MbgxIMnb3v3k",
        "outputId": "9277d3cc-3e77-4e7c-b20a-da37bc1ba4e1"
      },
      "execution_count": null,
      "outputs": [
        {
          "output_type": "stream",
          "name": "stderr",
          "text": [
            "<ipython-input-11-6d33006d5698>:1: SettingWithCopyWarning: \n",
            "A value is trying to be set on a copy of a slice from a DataFrame.\n",
            "Try using .loc[row_indexer,col_indexer] = value instead\n",
            "\n",
            "See the caveats in the documentation: https://pandas.pydata.org/pandas-docs/stable/user_guide/indexing.html#returning-a-view-versus-a-copy\n",
            "  fixed_df['ln_loss'] = np.log(fixed_df['loss'])\n"
          ]
        },
        {
          "output_type": "execute_result",
          "data": {
            "text/plain": [
              "  group     company  entity  contract_id start_date   end_date  \\\n",
              "0   NaN  company_17  entity      1483029 2016-08-01 2017-07-31   \n",
              "1   NaN  company_17  entity      1483029 2016-08-01 2017-07-31   \n",
              "2   NaN  company_17  entity      1483029 2016-08-01 2017-07-31   \n",
              "3   NaN  company_17  entity      1483029 2016-08-01 2017-07-31   \n",
              "4   NaN  company_17  entity      1483029 2016-08-01 2017-07-31   \n",
              "\n",
              "         policy_id  type  loss year_month   ln_loss  \n",
              "0  047-2016-G/0037  fact   630    2017/02  6.445720  \n",
              "1  047-2016-G/0050  fact   630    2017/02  6.445720  \n",
              "2  047-2016-G/0053  fact  1260    2017/02  7.138867  \n",
              "3  047-2016-G/0066  fact   630    2017/02  6.445720  \n",
              "4  047-2016-G/0127  fact   630    2017/02  6.445720  "
            ],
            "text/html": [
              "\n",
              "  <div id=\"df-24c344c5-393e-4a04-b16c-4e7d5e911fd0\">\n",
              "    <div class=\"colab-df-container\">\n",
              "      <div>\n",
              "<style scoped>\n",
              "    .dataframe tbody tr th:only-of-type {\n",
              "        vertical-align: middle;\n",
              "    }\n",
              "\n",
              "    .dataframe tbody tr th {\n",
              "        vertical-align: top;\n",
              "    }\n",
              "\n",
              "    .dataframe thead th {\n",
              "        text-align: right;\n",
              "    }\n",
              "</style>\n",
              "<table border=\"1\" class=\"dataframe\">\n",
              "  <thead>\n",
              "    <tr style=\"text-align: right;\">\n",
              "      <th></th>\n",
              "      <th>group</th>\n",
              "      <th>company</th>\n",
              "      <th>entity</th>\n",
              "      <th>contract_id</th>\n",
              "      <th>start_date</th>\n",
              "      <th>end_date</th>\n",
              "      <th>policy_id</th>\n",
              "      <th>type</th>\n",
              "      <th>loss</th>\n",
              "      <th>year_month</th>\n",
              "      <th>ln_loss</th>\n",
              "    </tr>\n",
              "  </thead>\n",
              "  <tbody>\n",
              "    <tr>\n",
              "      <th>0</th>\n",
              "      <td>NaN</td>\n",
              "      <td>company_17</td>\n",
              "      <td>entity</td>\n",
              "      <td>1483029</td>\n",
              "      <td>2016-08-01</td>\n",
              "      <td>2017-07-31</td>\n",
              "      <td>047-2016-G/0037</td>\n",
              "      <td>fact</td>\n",
              "      <td>630</td>\n",
              "      <td>2017/02</td>\n",
              "      <td>6.445720</td>\n",
              "    </tr>\n",
              "    <tr>\n",
              "      <th>1</th>\n",
              "      <td>NaN</td>\n",
              "      <td>company_17</td>\n",
              "      <td>entity</td>\n",
              "      <td>1483029</td>\n",
              "      <td>2016-08-01</td>\n",
              "      <td>2017-07-31</td>\n",
              "      <td>047-2016-G/0050</td>\n",
              "      <td>fact</td>\n",
              "      <td>630</td>\n",
              "      <td>2017/02</td>\n",
              "      <td>6.445720</td>\n",
              "    </tr>\n",
              "    <tr>\n",
              "      <th>2</th>\n",
              "      <td>NaN</td>\n",
              "      <td>company_17</td>\n",
              "      <td>entity</td>\n",
              "      <td>1483029</td>\n",
              "      <td>2016-08-01</td>\n",
              "      <td>2017-07-31</td>\n",
              "      <td>047-2016-G/0053</td>\n",
              "      <td>fact</td>\n",
              "      <td>1260</td>\n",
              "      <td>2017/02</td>\n",
              "      <td>7.138867</td>\n",
              "    </tr>\n",
              "    <tr>\n",
              "      <th>3</th>\n",
              "      <td>NaN</td>\n",
              "      <td>company_17</td>\n",
              "      <td>entity</td>\n",
              "      <td>1483029</td>\n",
              "      <td>2016-08-01</td>\n",
              "      <td>2017-07-31</td>\n",
              "      <td>047-2016-G/0066</td>\n",
              "      <td>fact</td>\n",
              "      <td>630</td>\n",
              "      <td>2017/02</td>\n",
              "      <td>6.445720</td>\n",
              "    </tr>\n",
              "    <tr>\n",
              "      <th>4</th>\n",
              "      <td>NaN</td>\n",
              "      <td>company_17</td>\n",
              "      <td>entity</td>\n",
              "      <td>1483029</td>\n",
              "      <td>2016-08-01</td>\n",
              "      <td>2017-07-31</td>\n",
              "      <td>047-2016-G/0127</td>\n",
              "      <td>fact</td>\n",
              "      <td>630</td>\n",
              "      <td>2017/02</td>\n",
              "      <td>6.445720</td>\n",
              "    </tr>\n",
              "  </tbody>\n",
              "</table>\n",
              "</div>\n",
              "      <button class=\"colab-df-convert\" onclick=\"convertToInteractive('df-24c344c5-393e-4a04-b16c-4e7d5e911fd0')\"\n",
              "              title=\"Convert this dataframe to an interactive table.\"\n",
              "              style=\"display:none;\">\n",
              "        \n",
              "  <svg xmlns=\"http://www.w3.org/2000/svg\" height=\"24px\"viewBox=\"0 0 24 24\"\n",
              "       width=\"24px\">\n",
              "    <path d=\"M0 0h24v24H0V0z\" fill=\"none\"/>\n",
              "    <path d=\"M18.56 5.44l.94 2.06.94-2.06 2.06-.94-2.06-.94-.94-2.06-.94 2.06-2.06.94zm-11 1L8.5 8.5l.94-2.06 2.06-.94-2.06-.94L8.5 2.5l-.94 2.06-2.06.94zm10 10l.94 2.06.94-2.06 2.06-.94-2.06-.94-.94-2.06-.94 2.06-2.06.94z\"/><path d=\"M17.41 7.96l-1.37-1.37c-.4-.4-.92-.59-1.43-.59-.52 0-1.04.2-1.43.59L10.3 9.45l-7.72 7.72c-.78.78-.78 2.05 0 2.83L4 21.41c.39.39.9.59 1.41.59.51 0 1.02-.2 1.41-.59l7.78-7.78 2.81-2.81c.8-.78.8-2.07 0-2.86zM5.41 20L4 18.59l7.72-7.72 1.47 1.35L5.41 20z\"/>\n",
              "  </svg>\n",
              "      </button>\n",
              "      \n",
              "  <style>\n",
              "    .colab-df-container {\n",
              "      display:flex;\n",
              "      flex-wrap:wrap;\n",
              "      gap: 12px;\n",
              "    }\n",
              "\n",
              "    .colab-df-convert {\n",
              "      background-color: #E8F0FE;\n",
              "      border: none;\n",
              "      border-radius: 50%;\n",
              "      cursor: pointer;\n",
              "      display: none;\n",
              "      fill: #1967D2;\n",
              "      height: 32px;\n",
              "      padding: 0 0 0 0;\n",
              "      width: 32px;\n",
              "    }\n",
              "\n",
              "    .colab-df-convert:hover {\n",
              "      background-color: #E2EBFA;\n",
              "      box-shadow: 0px 1px 2px rgba(60, 64, 67, 0.3), 0px 1px 3px 1px rgba(60, 64, 67, 0.15);\n",
              "      fill: #174EA6;\n",
              "    }\n",
              "\n",
              "    [theme=dark] .colab-df-convert {\n",
              "      background-color: #3B4455;\n",
              "      fill: #D2E3FC;\n",
              "    }\n",
              "\n",
              "    [theme=dark] .colab-df-convert:hover {\n",
              "      background-color: #434B5C;\n",
              "      box-shadow: 0px 1px 3px 1px rgba(0, 0, 0, 0.15);\n",
              "      filter: drop-shadow(0px 1px 2px rgba(0, 0, 0, 0.3));\n",
              "      fill: #FFFFFF;\n",
              "    }\n",
              "  </style>\n",
              "\n",
              "      <script>\n",
              "        const buttonEl =\n",
              "          document.querySelector('#df-24c344c5-393e-4a04-b16c-4e7d5e911fd0 button.colab-df-convert');\n",
              "        buttonEl.style.display =\n",
              "          google.colab.kernel.accessAllowed ? 'block' : 'none';\n",
              "\n",
              "        async function convertToInteractive(key) {\n",
              "          const element = document.querySelector('#df-24c344c5-393e-4a04-b16c-4e7d5e911fd0');\n",
              "          const dataTable =\n",
              "            await google.colab.kernel.invokeFunction('convertToInteractive',\n",
              "                                                     [key], {});\n",
              "          if (!dataTable) return;\n",
              "\n",
              "          const docLinkHtml = 'Like what you see? Visit the ' +\n",
              "            '<a target=\"_blank\" href=https://colab.research.google.com/notebooks/data_table.ipynb>data table notebook</a>'\n",
              "            + ' to learn more about interactive tables.';\n",
              "          element.innerHTML = '';\n",
              "          dataTable['output_type'] = 'display_data';\n",
              "          await google.colab.output.renderOutput(dataTable, element);\n",
              "          const docLink = document.createElement('div');\n",
              "          docLink.innerHTML = docLinkHtml;\n",
              "          element.appendChild(docLink);\n",
              "        }\n",
              "      </script>\n",
              "    </div>\n",
              "  </div>\n",
              "  "
            ]
          },
          "metadata": {},
          "execution_count": 11
        }
      ]
    },
    {
      "cell_type": "code",
      "source": [
        "fixed_df.plot(kind='hist', y='ln_loss', bins=10, grid=True, figsize=(9,3), title='Natural logarithm of loss')\n",
        "plt.xlabel('ln_loss')\n",
        "plt.ylabel('frequency')\n",
        "plt.show()"
      ],
      "metadata": {
        "colab": {
          "base_uri": "https://localhost:8080/",
          "height": 333
        },
        "id": "O84oOhMR31pt",
        "outputId": "01788cb7-0953-4256-94d9-3dd9fd51cd75"
      },
      "execution_count": null,
      "outputs": [
        {
          "output_type": "display_data",
          "data": {
            "text/plain": [
              "<Figure size 900x300 with 1 Axes>"
            ],
            "image/png": "[encoded data removed]"
          },
          "metadata": {}
        }
      ]
    },
    {
      "cell_type": "markdown",
      "source": [
        "We've got a normal distribution (more or less)"
      ],
      "metadata": {
        "id": "Hd9WV_Mr3-TV"
      }
    },
    {
      "cell_type": "markdown",
      "source": [
        "### Find right clients to assess"
      ],
      "metadata": {
        "id": "v2rtg6Tq4Hvk"
      }
    },
    {
      "cell_type": "markdown",
      "source": [
        "Get companies having an excess in their contracts"
      ],
      "metadata": {
        "id": "5WOEOHEZJQLA"
      }
    },
    {
      "cell_type": "code",
      "source": [
        "target_companies = fixed_df[fixed_df['type']=='deductible']['company'].unique()\n",
        "target_companies"
      ],
      "metadata": {
        "colab": {
          "base_uri": "https://localhost:8080/"
        },
        "id": "tCnrm_1S7m0v",
        "outputId": "188d44e8-56ac-4266-c47b-8fb32eb864c2"
      },
      "execution_count": null,
      "outputs": [
        {
          "output_type": "execute_result",
          "data": {
            "text/plain": [
              "array(['company_6', 'company_21'], dtype=object)"
            ]
          },
          "metadata": {},
          "execution_count": 13
        }
      ]
    },
    {
      "cell_type": "code",
      "source": [
        "df_target_companies = fixed_df[fixed_df['company'].isin(target_companies)]\n",
        "df_target_companies.head()"
      ],
      "metadata": {
        "colab": {
          "base_uri": "https://localhost:8080/",
          "height": 206
        },
        "id": "a04Jg43JJZ6l",
        "outputId": "86d2cbc8-ff7e-41b0-8c91-993ef202fadf"
      },
      "execution_count": null,
      "outputs": [
        {
          "output_type": "execute_result",
          "data": {
            "text/plain": [
              "       group     company  entity  contract_id start_date   end_date  \\\n",
              "47       NaN   company_6  entity      1482204 2016-08-01 2017-07-31   \n",
              "120      NaN   company_6  entity      1482204 2016-08-01 2017-07-31   \n",
              "177      NaN   company_6  entity      1482204 2016-08-01 2017-07-31   \n",
              "301  group_2  company_21  entity      5787757 2017-08-01 2018-07-31   \n",
              "349  group_2  company_21  entity      5787757 2017-08-01 2018-07-31   \n",
              "\n",
              "               policy_id  type  loss year_month   ln_loss  \n",
              "47       045-2016-G/0003  fact  2890    2017/05  7.969012  \n",
              "120      045-2016-G/0003  fact  4950    2017/06  8.507143  \n",
              "177      045-2016-G/0003  fact  6830    2017/07  8.829080  \n",
              "301  1-16-02-0044-GVMI/7  fact  4440    2017/09  8.398410  \n",
              "349  1-16-02-0044-GVMI/7  fact  7700    2017/10  8.948976  "
            ],
            "text/html": [
              "\n",
              "  <div id=\"df-6d80f3bf-45d4-44ac-a813-240d5afd2216\">\n",
              "    <div class=\"colab-df-container\">\n",
              "      <div>\n",
              "<style scoped>\n",
              "    .dataframe tbody tr th:only-of-type {\n",
              "        vertical-align: middle;\n",
              "    }\n",
              "\n",
              "    .dataframe tbody tr th {\n",
              "        vertical-align: top;\n",
              "    }\n",
              "\n",
              "    .dataframe thead th {\n",
              "        text-align: right;\n",
              "    }\n",
              "</style>\n",
              "<table border=\"1\" class=\"dataframe\">\n",
              "  <thead>\n",
              "    <tr style=\"text-align: right;\">\n",
              "      <th></th>\n",
              "      <th>group</th>\n",
              "      <th>company</th>\n",
              "      <th>entity</th>\n",
              "      <th>contract_id</th>\n",
              "      <th>start_date</th>\n",
              "      <th>end_date</th>\n",
              "      <th>policy_id</th>\n",
              "      <th>type</th>\n",
              "      <th>loss</th>\n",
              "      <th>year_month</th>\n",
              "      <th>ln_loss</th>\n",
              "    </tr>\n",
              "  </thead>\n",
              "  <tbody>\n",
              "    <tr>\n",
              "      <th>47</th>\n",
              "      <td>NaN</td>\n",
              "      <td>company_6</td>\n",
              "      <td>entity</td>\n",
              "      <td>1482204</td>\n",
              "      <td>2016-08-01</td>\n",
              "      <td>2017-07-31</td>\n",
              "      <td>045-2016-G/0003</td>\n",
              "      <td>fact</td>\n",
              "      <td>2890</td>\n",
              "      <td>2017/05</td>\n",
              "      <td>7.969012</td>\n",
              "    </tr>\n",
              "    <tr>\n",
              "      <th>120</th>\n",
              "      <td>NaN</td>\n",
              "      <td>company_6</td>\n",
              "      <td>entity</td>\n",
              "      <td>1482204</td>\n",
              "      <td>2016-08-01</td>\n",
              "      <td>2017-07-31</td>\n",
              "      <td>045-2016-G/0003</td>\n",
              "      <td>fact</td>\n",
              "      <td>4950</td>\n",
              "      <td>2017/06</td>\n",
              "      <td>8.507143</td>\n",
              "    </tr>\n",
              "    <tr>\n",
              "      <th>177</th>\n",
              "      <td>NaN</td>\n",
              "      <td>company_6</td>\n",
              "      <td>entity</td>\n",
              "      <td>1482204</td>\n",
              "      <td>2016-08-01</td>\n",
              "      <td>2017-07-31</td>\n",
              "      <td>045-2016-G/0003</td>\n",
              "      <td>fact</td>\n",
              "      <td>6830</td>\n",
              "      <td>2017/07</td>\n",
              "      <td>8.829080</td>\n",
              "    </tr>\n",
              "    <tr>\n",
              "      <th>301</th>\n",
              "      <td>group_2</td>\n",
              "      <td>company_21</td>\n",
              "      <td>entity</td>\n",
              "      <td>5787757</td>\n",
              "      <td>2017-08-01</td>\n",
              "      <td>2018-07-31</td>\n",
              "      <td>1-16-02-0044-GVMI/7</td>\n",
              "      <td>fact</td>\n",
              "      <td>4440</td>\n",
              "      <td>2017/09</td>\n",
              "      <td>8.398410</td>\n",
              "    </tr>\n",
              "    <tr>\n",
              "      <th>349</th>\n",
              "      <td>group_2</td>\n",
              "      <td>company_21</td>\n",
              "      <td>entity</td>\n",
              "      <td>5787757</td>\n",
              "      <td>2017-08-01</td>\n",
              "      <td>2018-07-31</td>\n",
              "      <td>1-16-02-0044-GVMI/7</td>\n",
              "      <td>fact</td>\n",
              "      <td>7700</td>\n",
              "      <td>2017/10</td>\n",
              "      <td>8.948976</td>\n",
              "    </tr>\n",
              "  </tbody>\n",
              "</table>\n",
              "</div>\n",
              "      <button class=\"colab-df-convert\" onclick=\"convertToInteractive('df-6d80f3bf-45d4-44ac-a813-240d5afd2216')\"\n",
              "              title=\"Convert this dataframe to an interactive table.\"\n",
              "              style=\"display:none;\">\n",
              "        \n",
              "  <svg xmlns=\"http://www.w3.org/2000/svg\" height=\"24px\"viewBox=\"0 0 24 24\"\n",
              "       width=\"24px\">\n",
              "    <path d=\"M0 0h24v24H0V0z\" fill=\"none\"/>\n",
              "    <path d=\"M18.56 5.44l.94 2.06.94-2.06 2.06-.94-2.06-.94-.94-2.06-.94 2.06-2.06.94zm-11 1L8.5 8.5l.94-2.06 2.06-.94-2.06-.94L8.5 2.5l-.94 2.06-2.06.94zm10 10l.94 2.06.94-2.06 2.06-.94-2.06-.94-.94-2.06-.94 2.06-2.06.94z\"/><path d=\"M17.41 7.96l-1.37-1.37c-.4-.4-.92-.59-1.43-.59-.52 0-1.04.2-1.43.59L10.3 9.45l-7.72 7.72c-.78.78-.78 2.05 0 2.83L4 21.41c.39.39.9.59 1.41.59.51 0 1.02-.2 1.41-.59l7.78-7.78 2.81-2.81c.8-.78.8-2.07 0-2.86zM5.41 20L4 18.59l7.72-7.72 1.47 1.35L5.41 20z\"/>\n",
              "  </svg>\n",
              "      </button>\n",
              "      \n",
              "  <style>\n",
              "    .colab-df-container {\n",
              "      display:flex;\n",
              "      flex-wrap:wrap;\n",
              "      gap: 12px;\n",
              "    }\n",
              "\n",
              "    .colab-df-convert {\n",
              "      background-color: #E8F0FE;\n",
              "      border: none;\n",
              "      border-radius: 50%;\n",
              "      cursor: pointer;\n",
              "      display: none;\n",
              "      fill: #1967D2;\n",
              "      height: 32px;\n",
              "      padding: 0 0 0 0;\n",
              "      width: 32px;\n",
              "    }\n",
              "\n",
              "    .colab-df-convert:hover {\n",
              "      background-color: #E2EBFA;\n",
              "      box-shadow: 0px 1px 2px rgba(60, 64, 67, 0.3), 0px 1px 3px 1px rgba(60, 64, 67, 0.15);\n",
              "      fill: #174EA6;\n",
              "    }\n",
              "\n",
              "    [theme=dark] .colab-df-convert {\n",
              "      background-color: #3B4455;\n",
              "      fill: #D2E3FC;\n",
              "    }\n",
              "\n",
              "    [theme=dark] .colab-df-convert:hover {\n",
              "      background-color: #434B5C;\n",
              "      box-shadow: 0px 1px 3px 1px rgba(0, 0, 0, 0.15);\n",
              "      filter: drop-shadow(0px 1px 2px rgba(0, 0, 0, 0.3));\n",
              "      fill: #FFFFFF;\n",
              "    }\n",
              "  </style>\n",
              "\n",
              "      <script>\n",
              "        const buttonEl =\n",
              "          document.querySelector('#df-6d80f3bf-45d4-44ac-a813-240d5afd2216 button.colab-df-convert');\n",
              "        buttonEl.style.display =\n",
              "          google.colab.kernel.accessAllowed ? 'block' : 'none';\n",
              "\n",
              "        async function convertToInteractive(key) {\n",
              "          const element = document.querySelector('#df-6d80f3bf-45d4-44ac-a813-240d5afd2216');\n",
              "          const dataTable =\n",
              "            await google.colab.kernel.invokeFunction('convertToInteractive',\n",
              "                                                     [key], {});\n",
              "          if (!dataTable) return;\n",
              "\n",
              "          const docLinkHtml = 'Like what you see? Visit the ' +\n",
              "            '<a target=\"_blank\" href=https://colab.research.google.com/notebooks/data_table.ipynb>data table notebook</a>'\n",
              "            + ' to learn more about interactive tables.';\n",
              "          element.innerHTML = '';\n",
              "          dataTable['output_type'] = 'display_data';\n",
              "          await google.colab.output.renderOutput(dataTable, element);\n",
              "          const docLink = document.createElement('div');\n",
              "          docLink.innerHTML = docLinkHtml;\n",
              "          element.appendChild(docLink);\n",
              "        }\n",
              "      </script>\n",
              "    </div>\n",
              "  </div>\n",
              "  "
            ]
          },
          "metadata": {},
          "execution_count": 14
        }
      ]
    },
    {
      "cell_type": "code",
      "source": [
        "df_target_companies.pivot_table(index='year_month', columns='type', values='loss', aggfunc=['sum','count'])"
      ],
      "metadata": {
        "colab": {
          "base_uri": "https://localhost:8080/",
          "height": 896
        },
        "id": "FtucTVCjKWrS",
        "outputId": "deab0889-6ca6-4e9a-9ada-1653cd4a0e9e"
      },
      "execution_count": null,
      "outputs": [
        {
          "output_type": "execute_result",
          "data": {
            "text/plain": [
              "                  sum                count      \n",
              "type       deductible      fact deductible  fact\n",
              "year_month                                      \n",
              "2017/05           NaN    2890.0        NaN   1.0\n",
              "2017/06           NaN    4950.0        NaN   1.0\n",
              "2017/07           NaN    6830.0        NaN   1.0\n",
              "2017/09           NaN    4440.0        NaN   1.0\n",
              "2017/10           NaN    7700.0        NaN   1.0\n",
              "2017/11           NaN    7050.0        NaN   1.0\n",
              "2017/12           NaN    3420.0        NaN   1.0\n",
              "2018/01           NaN    1040.0        NaN   1.0\n",
              "2018/03           NaN   99760.0        NaN  11.0\n",
              "2018/04           NaN   83120.0        NaN  16.0\n",
              "2018/05           NaN   99740.0        NaN  16.0\n",
              "2018/06           NaN   76270.0        NaN  11.0\n",
              "2018/07           NaN  121490.0        NaN  16.0\n",
              "2018/08        8086.0       NaN        2.0   NaN\n",
              "2018/09       35650.0       NaN        4.0   NaN\n",
              "2018/10       30575.0       NaN        6.0   NaN\n",
              "2018/11       28427.0       NaN        6.0   NaN\n",
              "2018/12       28165.0       NaN        6.0   NaN\n",
              "2019/01       10134.0       NaN        2.0   NaN\n",
              "2019/02       16840.0       NaN        5.0   NaN\n",
              "2019/03       34520.0       NaN        7.0   NaN\n",
              "2019/04       15013.0       NaN        6.0   NaN\n",
              "2019/05       15217.0       NaN        3.0   NaN\n",
              "2019/06       32287.0       NaN        5.0   NaN\n",
              "2019/07       37541.0       NaN        6.0   NaN"
            ],
            "text/html": [
              "\n",
              "  <div id=\"df-83e60360-a597-45ae-a1ff-a1bfc63e332c\">\n",
              "    <div class=\"colab-df-container\">\n",
              "      <div>\n",
              "<style scoped>\n",
              "    .dataframe tbody tr th:only-of-type {\n",
              "        vertical-align: middle;\n",
              "    }\n",
              "\n",
              "    .dataframe tbody tr th {\n",
              "        vertical-align: top;\n",
              "    }\n",
              "\n",
              "    .dataframe thead tr th {\n",
              "        text-align: left;\n",
              "    }\n",
              "\n",
              "    .dataframe thead tr:last-of-type th {\n",
              "        text-align: right;\n",
              "    }\n",
              "</style>\n",
              "<table border=\"1\" class=\"dataframe\">\n",
              "  <thead>\n",
              "    <tr>\n",
              "      <th></th>\n",
              "      <th colspan=\"2\" halign=\"left\">sum</th>\n",
              "      <th colspan=\"2\" halign=\"left\">count</th>\n",
              "    </tr>\n",
              "    <tr>\n",
              "      <th>type</th>\n",
              "      <th>deductible</th>\n",
              "      <th>fact</th>\n",
              "      <th>deductible</th>\n",
              "      <th>fact</th>\n",
              "    </tr>\n",
              "    <tr>\n",
              "      <th>year_month</th>\n",
              "      <th></th>\n",
              "      <th></th>\n",
              "      <th></th>\n",
              "      <th></th>\n",
              "    </tr>\n",
              "  </thead>\n",
              "  <tbody>\n",
              "    <tr>\n",
              "      <th>2017/05</th>\n",
              "      <td>NaN</td>\n",
              "      <td>2890.0</td>\n",
              "      <td>NaN</td>\n",
              "      <td>1.0</td>\n",
              "    </tr>\n",
              "    <tr>\n",
              "      <th>2017/06</th>\n",
              "      <td>NaN</td>\n",
              "      <td>4950.0</td>\n",
              "      <td>NaN</td>\n",
              "      <td>1.0</td>\n",
              "    </tr>\n",
              "    <tr>\n",
              "      <th>2017/07</th>\n",
              "      <td>NaN</td>\n",
              "      <td>6830.0</td>\n",
              "      <td>NaN</td>\n",
              "      <td>1.0</td>\n",
              "    </tr>\n",
              "    <tr>\n",
              "      <th>2017/09</th>\n",
              "      <td>NaN</td>\n",
              "      <td>4440.0</td>\n",
              "      <td>NaN</td>\n",
              "      <td>1.0</td>\n",
              "    </tr>\n",
              "    <tr>\n",
              "      <th>2017/10</th>\n",
              "      <td>NaN</td>\n",
              "      <td>7700.0</td>\n",
              "      <td>NaN</td>\n",
              "      <td>1.0</td>\n",
              "    </tr>\n",
              "    <tr>\n",
              "      <th>2017/11</th>\n",
              "      <td>NaN</td>\n",
              "      <td>7050.0</td>\n",
              "      <td>NaN</td>\n",
              "      <td>1.0</td>\n",
              "    </tr>\n",
              "    <tr>\n",
              "      <th>2017/12</th>\n",
              "      <td>NaN</td>\n",
              "      <td>3420.0</td>\n",
              "      <td>NaN</td>\n",
              "      <td>1.0</td>\n",
              "    </tr>\n",
              "    <tr>\n",
              "      <th>2018/01</th>\n",
              "      <td>NaN</td>\n",
              "      <td>1040.0</td>\n",
              "      <td>NaN</td>\n",
              "      <td>1.0</td>\n",
              "    </tr>\n",
              "    <tr>\n",
              "      <th>2018/03</th>\n",
              "      <td>NaN</td>\n",
              "      <td>99760.0</td>\n",
              "      <td>NaN</td>\n",
              "      <td>11.0</td>\n",
              "    </tr>\n",
              "    <tr>\n",
              "      <th>2018/04</th>\n",
              "      <td>NaN</td>\n",
              "      <td>83120.0</td>\n",
              "      <td>NaN</td>\n",
              "      <td>16.0</td>\n",
              "    </tr>\n",
              "    <tr>\n",
              "      <th>2018/05</th>\n",
              "      <td>NaN</td>\n",
              "      <td>99740.0</td>\n",
              "      <td>NaN</td>\n",
              "      <td>16.0</td>\n",
              "    </tr>\n",
              "    <tr>\n",
              "      <th>2018/06</th>\n",
              "      <td>NaN</td>\n",
              "      <td>76270.0</td>\n",
              "      <td>NaN</td>\n",
              "      <td>11.0</td>\n",
              "    </tr>\n",
              "    <tr>\n",
              "      <th>2018/07</th>\n",
              "      <td>NaN</td>\n",
              "      <td>121490.0</td>\n",
              "      <td>NaN</td>\n",
              "      <td>16.0</td>\n",
              "    </tr>\n",
              "    <tr>\n",
              "      <th>2018/08</th>\n",
              "      <td>8086.0</td>\n",
              "      <td>NaN</td>\n",
              "      <td>2.0</td>\n",
              "      <td>NaN</td>\n",
              "    </tr>\n",
              "    <tr>\n",
              "      <th>2018/09</th>\n",
              "      <td>35650.0</td>\n",
              "      <td>NaN</td>\n",
              "      <td>4.0</td>\n",
              "      <td>NaN</td>\n",
              "    </tr>\n",
              "    <tr>\n",
              "      <th>2018/10</th>\n",
              "      <td>30575.0</td>\n",
              "      <td>NaN</td>\n",
              "      <td>6.0</td>\n",
              "      <td>NaN</td>\n",
              "    </tr>\n",
              "    <tr>\n",
              "      <th>2018/11</th>\n",
              "      <td>28427.0</td>\n",
              "      <td>NaN</td>\n",
              "      <td>6.0</td>\n",
              "      <td>NaN</td>\n",
              "    </tr>\n",
              "    <tr>\n",
              "      <th>2018/12</th>\n",
              "      <td>28165.0</td>\n",
              "      <td>NaN</td>\n",
              "      <td>6.0</td>\n",
              "      <td>NaN</td>\n",
              "    </tr>\n",
              "    <tr>\n",
              "      <th>2019/01</th>\n",
              "      <td>10134.0</td>\n",
              "      <td>NaN</td>\n",
              "      <td>2.0</td>\n",
              "      <td>NaN</td>\n",
              "    </tr>\n",
              "    <tr>\n",
              "      <th>2019/02</th>\n",
              "      <td>16840.0</td>\n",
              "      <td>NaN</td>\n",
              "      <td>5.0</td>\n",
              "      <td>NaN</td>\n",
              "    </tr>\n",
              "    <tr>\n",
              "      <th>2019/03</th>\n",
              "      <td>34520.0</td>\n",
              "      <td>NaN</td>\n",
              "      <td>7.0</td>\n",
              "      <td>NaN</td>\n",
              "    </tr>\n",
              "    <tr>\n",
              "      <th>2019/04</th>\n",
              "      <td>15013.0</td>\n",
              "      <td>NaN</td>\n",
              "      <td>6.0</td>\n",
              "      <td>NaN</td>\n",
              "    </tr>\n",
              "    <tr>\n",
              "      <th>2019/05</th>\n",
              "      <td>15217.0</td>\n",
              "      <td>NaN</td>\n",
              "      <td>3.0</td>\n",
              "      <td>NaN</td>\n",
              "    </tr>\n",
              "    <tr>\n",
              "      <th>2019/06</th>\n",
              "      <td>32287.0</td>\n",
              "      <td>NaN</td>\n",
              "      <td>5.0</td>\n",
              "      <td>NaN</td>\n",
              "    </tr>\n",
              "    <tr>\n",
              "      <th>2019/07</th>\n",
              "      <td>37541.0</td>\n",
              "      <td>NaN</td>\n",
              "      <td>6.0</td>\n",
              "      <td>NaN</td>\n",
              "    </tr>\n",
              "  </tbody>\n",
              "</table>\n",
              "</div>\n",
              "      <button class=\"colab-df-convert\" onclick=\"convertToInteractive('df-83e60360-a597-45ae-a1ff-a1bfc63e332c')\"\n",
              "              title=\"Convert this dataframe to an interactive table.\"\n",
              "              style=\"display:none;\">\n",
              "        \n",
              "  <svg xmlns=\"http://www.w3.org/2000/svg\" height=\"24px\"viewBox=\"0 0 24 24\"\n",
              "       width=\"24px\">\n",
              "    <path d=\"M0 0h24v24H0V0z\" fill=\"none\"/>\n",
              "    <path d=\"M18.56 5.44l.94 2.06.94-2.06 2.06-.94-2.06-.94-.94-2.06-.94 2.06-2.06.94zm-11 1L8.5 8.5l.94-2.06 2.06-.94-2.06-.94L8.5 2.5l-.94 2.06-2.06.94zm10 10l.94 2.06.94-2.06 2.06-.94-2.06-.94-.94-2.06-.94 2.06-2.06.94z\"/><path d=\"M17.41 7.96l-1.37-1.37c-.4-.4-.92-.59-1.43-.59-.52 0-1.04.2-1.43.59L10.3 9.45l-7.72 7.72c-.78.78-.78 2.05 0 2.83L4 21.41c.39.39.9.59 1.41.59.51 0 1.02-.2 1.41-.59l7.78-7.78 2.81-2.81c.8-.78.8-2.07 0-2.86zM5.41 20L4 18.59l7.72-7.72 1.47 1.35L5.41 20z\"/>\n",
              "  </svg>\n",
              "      </button>\n",
              "      \n",
              "  <style>\n",
              "    .colab-df-container {\n",
              "      display:flex;\n",
              "      flex-wrap:wrap;\n",
              "      gap: 12px;\n",
              "    }\n",
              "\n",
              "    .colab-df-convert {\n",
              "      background-color: #E8F0FE;\n",
              "      border: none;\n",
              "      border-radius: 50%;\n",
              "      cursor: pointer;\n",
              "      display: none;\n",
              "      fill: #1967D2;\n",
              "      height: 32px;\n",
              "      padding: 0 0 0 0;\n",
              "      width: 32px;\n",
              "    }\n",
              "\n",
              "    .colab-df-convert:hover {\n",
              "      background-color: #E2EBFA;\n",
              "      box-shadow: 0px 1px 2px rgba(60, 64, 67, 0.3), 0px 1px 3px 1px rgba(60, 64, 67, 0.15);\n",
              "      fill: #174EA6;\n",
              "    }\n",
              "\n",
              "    [theme=dark] .colab-df-convert {\n",
              "      background-color: #3B4455;\n",
              "      fill: #D2E3FC;\n",
              "    }\n",
              "\n",
              "    [theme=dark] .colab-df-convert:hover {\n",
              "      background-color: #434B5C;\n",
              "      box-shadow: 0px 1px 3px 1px rgba(0, 0, 0, 0.15);\n",
              "      filter: drop-shadow(0px 1px 2px rgba(0, 0, 0, 0.3));\n",
              "      fill: #FFFFFF;\n",
              "    }\n",
              "  </style>\n",
              "\n",
              "      <script>\n",
              "        const buttonEl =\n",
              "          document.querySelector('#df-83e60360-a597-45ae-a1ff-a1bfc63e332c button.colab-df-convert');\n",
              "        buttonEl.style.display =\n",
              "          google.colab.kernel.accessAllowed ? 'block' : 'none';\n",
              "\n",
              "        async function convertToInteractive(key) {\n",
              "          const element = document.querySelector('#df-83e60360-a597-45ae-a1ff-a1bfc63e332c');\n",
              "          const dataTable =\n",
              "            await google.colab.kernel.invokeFunction('convertToInteractive',\n",
              "                                                     [key], {});\n",
              "          if (!dataTable) return;\n",
              "\n",
              "          const docLinkHtml = 'Like what you see? Visit the ' +\n",
              "            '<a target=\"_blank\" href=https://colab.research.google.com/notebooks/data_table.ipynb>data table notebook</a>'\n",
              "            + ' to learn more about interactive tables.';\n",
              "          element.innerHTML = '';\n",
              "          dataTable['output_type'] = 'display_data';\n",
              "          await google.colab.output.renderOutput(dataTable, element);\n",
              "          const docLink = document.createElement('div');\n",
              "          docLink.innerHTML = docLinkHtml;\n",
              "          element.appendChild(docLink);\n",
              "        }\n",
              "      </script>\n",
              "    </div>\n",
              "  </div>\n",
              "  "
            ]
          },
          "metadata": {},
          "execution_count": 15
        }
      ]
    },
    {
      "cell_type": "markdown",
      "source": [
        "Let's combine company 6, company 21  (in fact these are 2 contracts of 1 company). Period to test: 03-07.2018 and 03-07.2019 to avoid a seasonal factor"
      ],
      "metadata": {
        "id": "lRFI-iV4s-BM"
      }
    },
    {
      "cell_type": "markdown",
      "source": [
        "### Average loss per policyholder before and during the deductible period"
      ],
      "metadata": {
        "id": "3_bNIrSc60y-"
      }
    },
    {
      "cell_type": "markdown",
      "source": [
        "Define both periods"
      ],
      "metadata": {
        "id": "yVIsk03RnuEB"
      }
    },
    {
      "cell_type": "code",
      "source": [
        "control_period = ['2018/03','2018/04','2018/05','2018/06','2018/07']\n",
        "test_period = ['2019/03','2019/04','2019/05','2019/06','2019/07']"
      ],
      "metadata": {
        "id": "A4YboY1YvJ7s"
      },
      "execution_count": null,
      "outputs": []
    },
    {
      "cell_type": "markdown",
      "source": [
        "Make control (before an excess) and test (with an excess) groups"
      ],
      "metadata": {
        "id": "iD2oisM-nwXh"
      }
    },
    {
      "cell_type": "code",
      "source": [
        "control_sample = df_target_companies[df_target_companies['year_month'].isin(control_period)][['loss','ln_loss']]\n",
        "control_sample"
      ],
      "metadata": {
        "id": "uN0ebMvzK0sb",
        "colab": {
          "base_uri": "https://localhost:8080/",
          "height": 423
        },
        "outputId": "8272a0e5-b07a-4517-a9fb-3e71aa8b7835"
      },
      "execution_count": null,
      "outputs": [
        {
          "output_type": "execute_result",
          "data": {
            "text/plain": [
              "      loss    ln_loss\n",
              "629   3210   8.074026\n",
              "630   2590   7.859413\n",
              "631   6650   8.802372\n",
              "632   8130   9.003316\n",
              "633  31970  10.372553\n",
              "..     ...        ...\n",
              "771   6340   8.754634\n",
              "772   7870   8.970813\n",
              "773  20650   9.935471\n",
              "774   4080   8.313852\n",
              "775   2380   7.774856\n",
              "\n",
              "[70 rows x 2 columns]"
            ],
            "text/html": [
              "\n",
              "  <div id=\"df-083c3392-bb16-4f72-a750-13600b929f38\">\n",
              "    <div class=\"colab-df-container\">\n",
              "      <div>\n",
              "<style scoped>\n",
              "    .dataframe tbody tr th:only-of-type {\n",
              "        vertical-align: middle;\n",
              "    }\n",
              "\n",
              "    .dataframe tbody tr th {\n",
              "        vertical-align: top;\n",
              "    }\n",
              "\n",
              "    .dataframe thead th {\n",
              "        text-align: right;\n",
              "    }\n",
              "</style>\n",
              "<table border=\"1\" class=\"dataframe\">\n",
              "  <thead>\n",
              "    <tr style=\"text-align: right;\">\n",
              "      <th></th>\n",
              "      <th>loss</th>\n",
              "      <th>ln_loss</th>\n",
              "    </tr>\n",
              "  </thead>\n",
              "  <tbody>\n",
              "    <tr>\n",
              "      <th>629</th>\n",
              "      <td>3210</td>\n",
              "      <td>8.074026</td>\n",
              "    </tr>\n",
              "    <tr>\n",
              "      <th>630</th>\n",
              "      <td>2590</td>\n",
              "      <td>7.859413</td>\n",
              "    </tr>\n",
              "    <tr>\n",
              "      <th>631</th>\n",
              "      <td>6650</td>\n",
              "      <td>8.802372</td>\n",
              "    </tr>\n",
              "    <tr>\n",
              "      <th>632</th>\n",
              "      <td>8130</td>\n",
              "      <td>9.003316</td>\n",
              "    </tr>\n",
              "    <tr>\n",
              "      <th>633</th>\n",
              "      <td>31970</td>\n",
              "      <td>10.372553</td>\n",
              "    </tr>\n",
              "    <tr>\n",
              "      <th>...</th>\n",
              "      <td>...</td>\n",
              "      <td>...</td>\n",
              "    </tr>\n",
              "    <tr>\n",
              "      <th>771</th>\n",
              "      <td>6340</td>\n",
              "      <td>8.754634</td>\n",
              "    </tr>\n",
              "    <tr>\n",
              "      <th>772</th>\n",
              "      <td>7870</td>\n",
              "      <td>8.970813</td>\n",
              "    </tr>\n",
              "    <tr>\n",
              "      <th>773</th>\n",
              "      <td>20650</td>\n",
              "      <td>9.935471</td>\n",
              "    </tr>\n",
              "    <tr>\n",
              "      <th>774</th>\n",
              "      <td>4080</td>\n",
              "      <td>8.313852</td>\n",
              "    </tr>\n",
              "    <tr>\n",
              "      <th>775</th>\n",
              "      <td>2380</td>\n",
              "      <td>7.774856</td>\n",
              "    </tr>\n",
              "  </tbody>\n",
              "</table>\n",
              "<p>70 rows × 2 columns</p>\n",
              "</div>\n",
              "      <button class=\"colab-df-convert\" onclick=\"convertToInteractive('df-083c3392-bb16-4f72-a750-13600b929f38')\"\n",
              "              title=\"Convert this dataframe to an interactive table.\"\n",
              "              style=\"display:none;\">\n",
              "        \n",
              "  <svg xmlns=\"http://www.w3.org/2000/svg\" height=\"24px\"viewBox=\"0 0 24 24\"\n",
              "       width=\"24px\">\n",
              "    <path d=\"M0 0h24v24H0V0z\" fill=\"none\"/>\n",
              "    <path d=\"M18.56 5.44l.94 2.06.94-2.06 2.06-.94-2.06-.94-.94-2.06-.94 2.06-2.06.94zm-11 1L8.5 8.5l.94-2.06 2.06-.94-2.06-.94L8.5 2.5l-.94 2.06-2.06.94zm10 10l.94 2.06.94-2.06 2.06-.94-2.06-.94-.94-2.06-.94 2.06-2.06.94z\"/><path d=\"M17.41 7.96l-1.37-1.37c-.4-.4-.92-.59-1.43-.59-.52 0-1.04.2-1.43.59L10.3 9.45l-7.72 7.72c-.78.78-.78 2.05 0 2.83L4 21.41c.39.39.9.59 1.41.59.51 0 1.02-.2 1.41-.59l7.78-7.78 2.81-2.81c.8-.78.8-2.07 0-2.86zM5.41 20L4 18.59l7.72-7.72 1.47 1.35L5.41 20z\"/>\n",
              "  </svg>\n",
              "      </button>\n",
              "      \n",
              "  <style>\n",
              "    .colab-df-container {\n",
              "      display:flex;\n",
              "      flex-wrap:wrap;\n",
              "      gap: 12px;\n",
              "    }\n",
              "\n",
              "    .colab-df-convert {\n",
              "      background-color: #E8F0FE;\n",
              "      border: none;\n",
              "      border-radius: 50%;\n",
              "      cursor: pointer;\n",
              "      display: none;\n",
              "      fill: #1967D2;\n",
              "      height: 32px;\n",
              "      padding: 0 0 0 0;\n",
              "      width: 32px;\n",
              "    }\n",
              "\n",
              "    .colab-df-convert:hover {\n",
              "      background-color: #E2EBFA;\n",
              "      box-shadow: 0px 1px 2px rgba(60, 64, 67, 0.3), 0px 1px 3px 1px rgba(60, 64, 67, 0.15);\n",
              "      fill: #174EA6;\n",
              "    }\n",
              "\n",
              "    [theme=dark] .colab-df-convert {\n",
              "      background-color: #3B4455;\n",
              "      fill: #D2E3FC;\n",
              "    }\n",
              "\n",
              "    [theme=dark] .colab-df-convert:hover {\n",
              "      background-color: #434B5C;\n",
              "      box-shadow: 0px 1px 3px 1px rgba(0, 0, 0, 0.15);\n",
              "      filter: drop-shadow(0px 1px 2px rgba(0, 0, 0, 0.3));\n",
              "      fill: #FFFFFF;\n",
              "    }\n",
              "  </style>\n",
              "\n",
              "      <script>\n",
              "        const buttonEl =\n",
              "          document.querySelector('#df-083c3392-bb16-4f72-a750-13600b929f38 button.colab-df-convert');\n",
              "        buttonEl.style.display =\n",
              "          google.colab.kernel.accessAllowed ? 'block' : 'none';\n",
              "\n",
              "        async function convertToInteractive(key) {\n",
              "          const element = document.querySelector('#df-083c3392-bb16-4f72-a750-13600b929f38');\n",
              "          const dataTable =\n",
              "            await google.colab.kernel.invokeFunction('convertToInteractive',\n",
              "                                                     [key], {});\n",
              "          if (!dataTable) return;\n",
              "\n",
              "          const docLinkHtml = 'Like what you see? Visit the ' +\n",
              "            '<a target=\"_blank\" href=https://colab.research.google.com/notebooks/data_table.ipynb>data table notebook</a>'\n",
              "            + ' to learn more about interactive tables.';\n",
              "          element.innerHTML = '';\n",
              "          dataTable['output_type'] = 'display_data';\n",
              "          await google.colab.output.renderOutput(dataTable, element);\n",
              "          const docLink = document.createElement('div');\n",
              "          docLink.innerHTML = docLinkHtml;\n",
              "          element.appendChild(docLink);\n",
              "        }\n",
              "      </script>\n",
              "    </div>\n",
              "  </div>\n",
              "  "
            ]
          },
          "metadata": {},
          "execution_count": 17
        }
      ]
    },
    {
      "cell_type": "code",
      "source": [
        "test_sample = df_target_companies[df_target_companies['year_month'].isin(test_period)][['loss','ln_loss']]\n",
        "test_sample"
      ],
      "metadata": {
        "colab": {
          "base_uri": "https://localhost:8080/",
          "height": 896
        },
        "id": "CsuUojM4tRVT",
        "outputId": "15cbd145-db91-4861-c255-f98ad1867225"
      },
      "execution_count": null,
      "outputs": [
        {
          "output_type": "execute_result",
          "data": {
            "text/plain": [
              "      loss   ln_loss\n",
              "894   1012  6.919684\n",
              "895  10396  9.249176\n",
              "896   5875  8.678461\n",
              "897    884  6.784457\n",
              "898    884  6.784457\n",
              "899  12477  9.431642\n",
              "900   2992  8.003697\n",
              "910   3834  8.251664\n",
              "911    884  6.784457\n",
              "912   3766  8.233769\n",
              "913   1012  6.919684\n",
              "914   3230  8.080237\n",
              "915   2287  7.734996\n",
              "928    884  6.784457\n",
              "929   7218  8.884333\n",
              "930   7115  8.869961\n",
              "941   4887  8.494334\n",
              "942   2372  7.771489\n",
              "943   3715  8.220134\n",
              "944   7924  8.977651\n",
              "945  13389  9.502189\n",
              "950   4718  8.459140\n",
              "951   2372  7.771489\n",
              "952   4564  8.425955\n",
              "953    952  6.858565\n",
              "954   4726  8.460834\n",
              "955  20209  9.913883"
            ],
            "text/html": [
              "\n",
              "  <div id=\"df-a2f1f7c0-24c7-4c5c-99a7-ad1aa76b6745\">\n",
              "    <div class=\"colab-df-container\">\n",
              "      <div>\n",
              "<style scoped>\n",
              "    .dataframe tbody tr th:only-of-type {\n",
              "        vertical-align: middle;\n",
              "    }\n",
              "\n",
              "    .dataframe tbody tr th {\n",
              "        vertical-align: top;\n",
              "    }\n",
              "\n",
              "    .dataframe thead th {\n",
              "        text-align: right;\n",
              "    }\n",
              "</style>\n",
              "<table border=\"1\" class=\"dataframe\">\n",
              "  <thead>\n",
              "    <tr style=\"text-align: right;\">\n",
              "      <th></th>\n",
              "      <th>loss</th>\n",
              "      <th>ln_loss</th>\n",
              "    </tr>\n",
              "  </thead>\n",
              "  <tbody>\n",
              "    <tr>\n",
              "      <th>894</th>\n",
              "      <td>1012</td>\n",
              "      <td>6.919684</td>\n",
              "    </tr>\n",
              "    <tr>\n",
              "      <th>895</th>\n",
              "      <td>10396</td>\n",
              "      <td>9.249176</td>\n",
              "    </tr>\n",
              "    <tr>\n",
              "      <th>896</th>\n",
              "      <td>5875</td>\n",
              "      <td>8.678461</td>\n",
              "    </tr>\n",
              "    <tr>\n",
              "      <th>897</th>\n",
              "      <td>884</td>\n",
              "      <td>6.784457</td>\n",
              "    </tr>\n",
              "    <tr>\n",
              "      <th>898</th>\n",
              "      <td>884</td>\n",
              "      <td>6.784457</td>\n",
              "    </tr>\n",
              "    <tr>\n",
              "      <th>899</th>\n",
              "      <td>12477</td>\n",
              "      <td>9.431642</td>\n",
              "    </tr>\n",
              "    <tr>\n",
              "      <th>900</th>\n",
              "      <td>2992</td>\n",
              "      <td>8.003697</td>\n",
              "    </tr>\n",
              "    <tr>\n",
              "      <th>910</th>\n",
              "      <td>3834</td>\n",
              "      <td>8.251664</td>\n",
              "    </tr>\n",
              "    <tr>\n",
              "      <th>911</th>\n",
              "      <td>884</td>\n",
              "      <td>6.784457</td>\n",
              "    </tr>\n",
              "    <tr>\n",
              "      <th>912</th>\n",
              "      <td>3766</td>\n",
              "      <td>8.233769</td>\n",
              "    </tr>\n",
              "    <tr>\n",
              "      <th>913</th>\n",
              "      <td>1012</td>\n",
              "      <td>6.919684</td>\n",
              "    </tr>\n",
              "    <tr>\n",
              "      <th>914</th>\n",
              "      <td>3230</td>\n",
              "      <td>8.080237</td>\n",
              "    </tr>\n",
              "    <tr>\n",
              "      <th>915</th>\n",
              "      <td>2287</td>\n",
              "      <td>7.734996</td>\n",
              "    </tr>\n",
              "    <tr>\n",
              "      <th>928</th>\n",
              "      <td>884</td>\n",
              "      <td>6.784457</td>\n",
              "    </tr>\n",
              "    <tr>\n",
              "      <th>929</th>\n",
              "      <td>7218</td>\n",
              "      <td>8.884333</td>\n",
              "    </tr>\n",
              "    <tr>\n",
              "      <th>930</th>\n",
              "      <td>7115</td>\n",
              "      <td>8.869961</td>\n",
              "    </tr>\n",
              "    <tr>\n",
              "      <th>941</th>\n",
              "      <td>4887</td>\n",
              "      <td>8.494334</td>\n",
              "    </tr>\n",
              "    <tr>\n",
              "      <th>942</th>\n",
              "      <td>2372</td>\n",
              "      <td>7.771489</td>\n",
              "    </tr>\n",
              "    <tr>\n",
              "      <th>943</th>\n",
              "      <td>3715</td>\n",
              "      <td>8.220134</td>\n",
              "    </tr>\n",
              "    <tr>\n",
              "      <th>944</th>\n",
              "      <td>7924</td>\n",
              "      <td>8.977651</td>\n",
              "    </tr>\n",
              "    <tr>\n",
              "      <th>945</th>\n",
              "      <td>13389</td>\n",
              "      <td>9.502189</td>\n",
              "    </tr>\n",
              "    <tr>\n",
              "      <th>950</th>\n",
              "      <td>4718</td>\n",
              "      <td>8.459140</td>\n",
              "    </tr>\n",
              "    <tr>\n",
              "      <th>951</th>\n",
              "      <td>2372</td>\n",
              "      <td>7.771489</td>\n",
              "    </tr>\n",
              "    <tr>\n",
              "      <th>952</th>\n",
              "      <td>4564</td>\n",
              "      <td>8.425955</td>\n",
              "    </tr>\n",
              "    <tr>\n",
              "      <th>953</th>\n",
              "      <td>952</td>\n",
              "      <td>6.858565</td>\n",
              "    </tr>\n",
              "    <tr>\n",
              "      <th>954</th>\n",
              "      <td>4726</td>\n",
              "      <td>8.460834</td>\n",
              "    </tr>\n",
              "    <tr>\n",
              "      <th>955</th>\n",
              "      <td>20209</td>\n",
              "      <td>9.913883</td>\n",
              "    </tr>\n",
              "  </tbody>\n",
              "</table>\n",
              "</div>\n",
              "      <button class=\"colab-df-convert\" onclick=\"convertToInteractive('df-a2f1f7c0-24c7-4c5c-99a7-ad1aa76b6745')\"\n",
              "              title=\"Convert this dataframe to an interactive table.\"\n",
              "              style=\"display:none;\">\n",
              "        \n",
              "  <svg xmlns=\"http://www.w3.org/2000/svg\" height=\"24px\"viewBox=\"0 0 24 24\"\n",
              "       width=\"24px\">\n",
              "    <path d=\"M0 0h24v24H0V0z\" fill=\"none\"/>\n",
              "    <path d=\"M18.56 5.44l.94 2.06.94-2.06 2.06-.94-2.06-.94-.94-2.06-.94 2.06-2.06.94zm-11 1L8.5 8.5l.94-2.06 2.06-.94-2.06-.94L8.5 2.5l-.94 2.06-2.06.94zm10 10l.94 2.06.94-2.06 2.06-.94-2.06-.94-.94-2.06-.94 2.06-2.06.94z\"/><path d=\"M17.41 7.96l-1.37-1.37c-.4-.4-.92-.59-1.43-.59-.52 0-1.04.2-1.43.59L10.3 9.45l-7.72 7.72c-.78.78-.78 2.05 0 2.83L4 21.41c.39.39.9.59 1.41.59.51 0 1.02-.2 1.41-.59l7.78-7.78 2.81-2.81c.8-.78.8-2.07 0-2.86zM5.41 20L4 18.59l7.72-7.72 1.47 1.35L5.41 20z\"/>\n",
              "  </svg>\n",
              "      </button>\n",
              "      \n",
              "  <style>\n",
              "    .colab-df-container {\n",
              "      display:flex;\n",
              "      flex-wrap:wrap;\n",
              "      gap: 12px;\n",
              "    }\n",
              "\n",
              "    .colab-df-convert {\n",
              "      background-color: #E8F0FE;\n",
              "      border: none;\n",
              "      border-radius: 50%;\n",
              "      cursor: pointer;\n",
              "      display: none;\n",
              "      fill: #1967D2;\n",
              "      height: 32px;\n",
              "      padding: 0 0 0 0;\n",
              "      width: 32px;\n",
              "    }\n",
              "\n",
              "    .colab-df-convert:hover {\n",
              "      background-color: #E2EBFA;\n",
              "      box-shadow: 0px 1px 2px rgba(60, 64, 67, 0.3), 0px 1px 3px 1px rgba(60, 64, 67, 0.15);\n",
              "      fill: #174EA6;\n",
              "    }\n",
              "\n",
              "    [theme=dark] .colab-df-convert {\n",
              "      background-color: #3B4455;\n",
              "      fill: #D2E3FC;\n",
              "    }\n",
              "\n",
              "    [theme=dark] .colab-df-convert:hover {\n",
              "      background-color: #434B5C;\n",
              "      box-shadow: 0px 1px 3px 1px rgba(0, 0, 0, 0.15);\n",
              "      filter: drop-shadow(0px 1px 2px rgba(0, 0, 0, 0.3));\n",
              "      fill: #FFFFFF;\n",
              "    }\n",
              "  </style>\n",
              "\n",
              "      <script>\n",
              "        const buttonEl =\n",
              "          document.querySelector('#df-a2f1f7c0-24c7-4c5c-99a7-ad1aa76b6745 button.colab-df-convert');\n",
              "        buttonEl.style.display =\n",
              "          google.colab.kernel.accessAllowed ? 'block' : 'none';\n",
              "\n",
              "        async function convertToInteractive(key) {\n",
              "          const element = document.querySelector('#df-a2f1f7c0-24c7-4c5c-99a7-ad1aa76b6745');\n",
              "          const dataTable =\n",
              "            await google.colab.kernel.invokeFunction('convertToInteractive',\n",
              "                                                     [key], {});\n",
              "          if (!dataTable) return;\n",
              "\n",
              "          const docLinkHtml = 'Like what you see? Visit the ' +\n",
              "            '<a target=\"_blank\" href=https://colab.research.google.com/notebooks/data_table.ipynb>data table notebook</a>'\n",
              "            + ' to learn more about interactive tables.';\n",
              "          element.innerHTML = '';\n",
              "          dataTable['output_type'] = 'display_data';\n",
              "          await google.colab.output.renderOutput(dataTable, element);\n",
              "          const docLink = document.createElement('div');\n",
              "          docLink.innerHTML = docLinkHtml;\n",
              "          element.appendChild(docLink);\n",
              "        }\n",
              "      </script>\n",
              "    </div>\n",
              "  </div>\n",
              "  "
            ]
          },
          "metadata": {},
          "execution_count": 18
        }
      ]
    },
    {
      "cell_type": "markdown",
      "source": [
        "Let's look at the histograms of those groups"
      ],
      "metadata": {
        "id": "B1pnt2z5oDmP"
      }
    },
    {
      "cell_type": "code",
      "source": [
        "plt.figure(figsize=(14,4))\n",
        "\n",
        "plt.subplot(1,2,1)\n",
        "plt.hist(control_sample['loss'], label = '4Q2022', bins=10, alpha=0.7)\n",
        "plt.hist(test_sample['loss'], label = '1Q2023', bins=10, alpha=0.7)\n",
        "plt.title('Losses')\n",
        "plt.grid(True)\n",
        "plt.legend()\n",
        "plt.xlabel('loss')\n",
        "plt.ylabel('frequency')\n",
        "\n",
        "plt.subplot(1,2,2)\n",
        "plt.hist(control_sample['ln_loss'], label = '4Q2022', bins=10, alpha=0.7)\n",
        "plt.hist(test_sample['ln_loss'], label = '1Q2023', bins=10, alpha=0.7)\n",
        "plt.title('Logarithm of losses')\n",
        "plt.grid(True)\n",
        "plt.legend()\n",
        "plt.xlabel('ln_loss')\n",
        "plt.ylabel('frequency')\n",
        "plt.show()"
      ],
      "metadata": {
        "colab": {
          "base_uri": "https://localhost:8080/",
          "height": 394
        },
        "id": "vOVnmWs15PtP",
        "outputId": "ea802a98-14a3-4db8-e095-44b30ba9337a"
      },
      "execution_count": null,
      "outputs": [
        {
          "output_type": "display_data",
          "data": {
            "text/plain": [
              "<Figure size 1400x400 with 2 Axes>"
            ],
            "image/png": "[encoded data removed]"
          },
          "metadata": {}
        }
      ]
    },
    {
      "cell_type": "markdown",
      "source": [
        "There is no much difference between two periods. Let's run t-test with alpha = 0.05"
      ],
      "metadata": {
        "id": "-hQuB6FG5ln6"
      }
    },
    {
      "cell_type": "markdown",
      "source": [
        "#### t-test"
      ],
      "metadata": {
        "id": "DrYYMD9h5thN"
      }
    },
    {
      "cell_type": "markdown",
      "source": [
        "The difference of means:"
      ],
      "metadata": {
        "id": "xgWz3C6cJPJJ"
      }
    },
    {
      "cell_type": "code",
      "source": [
        "control_sample['loss'].mean() - test_sample['loss'].mean()"
      ],
      "metadata": {
        "colab": {
          "base_uri": "https://localhost:8080/"
        },
        "id": "5uZTfcnW5sxf",
        "outputId": "2a51b31b-300d-40bc-b860-62cff01d0dbb"
      },
      "execution_count": null,
      "outputs": [
        {
          "output_type": "execute_result",
          "data": {
            "text/plain": [
              "1878.201058201058"
            ]
          },
          "metadata": {},
          "execution_count": 20
        }
      ]
    },
    {
      "cell_type": "code",
      "source": [
        "test_sample['loss'].mean() / control_sample['loss'].mean() - 1"
      ],
      "metadata": {
        "colab": {
          "base_uri": "https://localhost:8080/"
        },
        "id": "mcXXlou6ldF5",
        "outputId": "c86099bf-7f7d-4a59-bab1-d2481345af3c"
      },
      "execution_count": null,
      "outputs": [
        {
          "output_type": "execute_result",
          "data": {
            "text/plain": [
              "-0.27368765159680686"
            ]
          },
          "metadata": {},
          "execution_count": 21
        }
      ]
    },
    {
      "cell_type": "code",
      "source": [
        "alpha = 0.05\n",
        "results = st.ttest_ind(control_sample['ln_loss'], test_sample['ln_loss'], equal_var=True)\n",
        "print('p-value:', round(results.pvalue,4))\n",
        "print('t-statistic:', round(results.statistic,4))\n",
        "\n",
        "if results.pvalue < alpha:\n",
        "    print(\"We reject the null hypothesis\")\n",
        "else:\n",
        "    print(\"We do not reject the null hypothesis\")"
      ],
      "metadata": {
        "colab": {
          "base_uri": "https://localhost:8080/"
        },
        "id": "zvB7PlSW42Vm",
        "outputId": "b5b7a8c0-2694-4b0c-d818-c746a12d6c83"
      },
      "execution_count": null,
      "outputs": [
        {
          "output_type": "stream",
          "name": "stdout",
          "text": [
            "p-value: 0.0359\n",
            "t-statistic: 2.1287\n",
            "We reject the null hypothesis\n"
          ]
        }
      ]
    },
    {
      "cell_type": "markdown",
      "source": [
        "The difference of 27% is statistically significant (p<0.05)"
      ],
      "metadata": {
        "id": "9PJ7ngnFpKsd"
      }
    },
    {
      "cell_type": "markdown",
      "source": [
        "### Percentage of policyholders who visited a health facility before and during the deductible period"
      ],
      "metadata": {
        "id": "9pDQxNa37Dzv"
      }
    },
    {
      "cell_type": "markdown",
      "source": [
        "The number of policyholders who visited the clinic in control group"
      ],
      "metadata": {
        "id": "P3Q-dz6JowIY"
      }
    },
    {
      "cell_type": "code",
      "source": [
        "n_control = df_target_companies[df_target_companies['year_month'].isin(control_period)]['policy_id'].nunique()\n",
        "n_control"
      ],
      "metadata": {
        "colab": {
          "base_uri": "https://localhost:8080/"
        },
        "id": "0vvYtRrC8opH",
        "outputId": "5c256575-cf12-4704-d543-a6cb63a4e5ba"
      },
      "execution_count": null,
      "outputs": [
        {
          "output_type": "execute_result",
          "data": {
            "text/plain": [
              "32"
            ]
          },
          "metadata": {},
          "execution_count": 23
        }
      ]
    },
    {
      "cell_type": "markdown",
      "source": [
        "The number of policyholders who visited the clinic in test group"
      ],
      "metadata": {
        "id": "thw_-LgVo5fH"
      }
    },
    {
      "cell_type": "code",
      "source": [
        "n_test = df_target_companies[df_target_companies['year_month'].isin(test_period)]['policy_id'].nunique()\n",
        "n_test"
      ],
      "metadata": {
        "colab": {
          "base_uri": "https://localhost:8080/"
        },
        "id": "9f_P_uiL9EI-",
        "outputId": "32ed73fa-0f3f-42d8-e263-006ab379d4ef"
      },
      "execution_count": null,
      "outputs": [
        {
          "output_type": "execute_result",
          "data": {
            "text/plain": [
              "15"
            ]
          },
          "metadata": {},
          "execution_count": 24
        }
      ]
    },
    {
      "cell_type": "markdown",
      "source": [
        "The number of visitors dropped by:"
      ],
      "metadata": {
        "id": "XmF4BjtA9VUG"
      }
    },
    {
      "cell_type": "code",
      "source": [
        "n_test/n_control - 1"
      ],
      "metadata": {
        "colab": {
          "base_uri": "https://localhost:8080/"
        },
        "id": "f21HvWRj9QsX",
        "outputId": "ee9310f4-655a-4b05-fe4b-179d14ed71b6"
      },
      "execution_count": null,
      "outputs": [
        {
          "output_type": "execute_result",
          "data": {
            "text/plain": [
              "-0.53125"
            ]
          },
          "metadata": {},
          "execution_count": 25
        }
      ]
    },
    {
      "cell_type": "markdown",
      "source": [
        "#### z-test"
      ],
      "metadata": {
        "id": "DJuUdXaz74kI"
      }
    },
    {
      "cell_type": "markdown",
      "source": [
        "The number of insured persons in the company we analysed:"
      ],
      "metadata": {
        "id": "-R9dnUr17Ssv"
      }
    },
    {
      "cell_type": "code",
      "source": [
        "n = 60"
      ],
      "metadata": {
        "id": "lkAIckkH7QGw"
      },
      "execution_count": null,
      "outputs": []
    },
    {
      "cell_type": "code",
      "source": [
        "p_test = n_test/n\n",
        "p_control = n_control/n\n",
        "p_pooled = (n_test + n_control) / (n + n)\n",
        "f'p_test: {round(p_test,2)}, p_control: {round(p_control,2)}, p_pooled: {round(p_pooled,2)}'"
      ],
      "metadata": {
        "colab": {
          "base_uri": "https://localhost:8080/",
          "height": 36
        },
        "id": "ecRn7DgR7hUC",
        "outputId": "b5d06793-1e3f-4c0f-a6bc-ad441b437562"
      },
      "execution_count": null,
      "outputs": [
        {
          "output_type": "execute_result",
          "data": {
            "text/plain": [
              "'p_test: 0.25, p_control: 0.53, p_pooled: 0.39'"
            ],
            "application/vnd.google.colaboratory.intrinsic+json": {
              "type": "string"
            }
          },
          "metadata": {},
          "execution_count": 27
        }
      ]
    },
    {
      "cell_type": "code",
      "source": [
        "z_value = (p_control - p_test) / (p_pooled*(1-p_pooled)*(1/n+1/n))**(1/2)\n",
        "z_value"
      ],
      "metadata": {
        "colab": {
          "base_uri": "https://localhost:8080/"
        },
        "id": "4G0k-EzwB55A",
        "outputId": "505e71c4-2d4b-4575-88dd-90b2896c1a72"
      },
      "execution_count": null,
      "outputs": [
        {
          "output_type": "execute_result",
          "data": {
            "text/plain": [
              "3.1792829820262627"
            ]
          },
          "metadata": {},
          "execution_count": 28
        }
      ]
    },
    {
      "cell_type": "code",
      "source": [
        "p_value = (1-st.norm.cdf(abs(z_value)))*2\n",
        "print('p-value: ', p_value)"
      ],
      "metadata": {
        "colab": {
          "base_uri": "https://localhost:8080/"
        },
        "id": "PyPcaDZRCZs2",
        "outputId": "ab10160c-8339-422c-93a0-94274b749956"
      },
      "execution_count": null,
      "outputs": [
        {
          "output_type": "stream",
          "name": "stdout",
          "text": [
            "p-value:  0.0014763987809316426\n"
          ]
        }
      ]
    },
    {
      "cell_type": "markdown",
      "source": [
        "The difference of 53% is statistically significant (p<0.01)"
      ],
      "metadata": {
        "id": "jENZg5CyDixX"
      }
    }
  ]
}
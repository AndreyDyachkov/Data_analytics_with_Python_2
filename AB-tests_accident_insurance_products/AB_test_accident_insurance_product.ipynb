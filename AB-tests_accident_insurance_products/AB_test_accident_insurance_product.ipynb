{
  "nbformat": 4,
  "nbformat_minor": 0,
  "metadata": {
    "colab": {
      "provenance": [],
      "toc_visible": true,
      "mount_file_id": "1PKRPjlMJsK2T0Os4jfvL5Uzv3X4FbR3P",
      "authorship_tag": "ABX9TyO03ORdzm/6RcbSyYM8tF3+",
      "include_colab_link": true
    },
    "kernelspec": {
      "name": "python3",
      "display_name": "Python 3"
    },
    "language_info": {
      "name": "python"
    }
  },
  "cells": [
    {
      "cell_type": "markdown",
      "metadata": {
        "id": "view-in-github",
        "colab_type": "text"
      },
      "source": [
        "<a href=\"https://colab.research.google.com/github/AndreyDyachkov/Data_analytics_with_Python_2/blob/main/AB-tests_accident_insurance_products/AB_test_accident_insurance_product.ipynb\" target=\"_parent\"><img src=\"https://colab.research.google.com/assets/colab-badge.svg\" alt=\"Open In Colab\"/></a>"
      ]
    },
    {
      "cell_type": "markdown",
      "source": [
        "# A/B test of a product modification in accident insurance"
      ],
      "metadata": {
        "id": "meDyrXX5j9e4"
      }
    },
    {
      "cell_type": "markdown",
      "source": [
        "### Background"
      ],
      "metadata": {
        "id": "zPfweyWYllMH"
      }
    },
    {
      "cell_type": "markdown",
      "source": [
        "A specific accident insurance product had a high frequency and high severity (average loss per claim), presumably due to fraud. In order to eradicate fraud the insurance program was cut and restrictions on sales were implemented."
      ],
      "metadata": {
        "id": "NxV8cCLqlpoX"
      }
    },
    {
      "cell_type": "markdown",
      "source": [
        "### Goal"
      ],
      "metadata": {
        "id": "aVQHraGUVTin"
      }
    },
    {
      "cell_type": "markdown",
      "source": [
        "Estimate the impact of change in sales policy and contract terms on frequency and severity."
      ],
      "metadata": {
        "id": "3SVZAzWgVfu_"
      }
    },
    {
      "cell_type": "markdown",
      "source": [
        "### Tasks"
      ],
      "metadata": {
        "id": "itamg6a-VdIw"
      }
    },
    {
      "cell_type": "markdown",
      "source": [
        "1. Define two cohorts of customers: those who bought a contract before the change and after it.\n",
        "2. Compare the average loss in cohorts.\n",
        "3. Compare frequency in cohorts.\n",
        "4. Calculate the statistical significance of the differences."
      ],
      "metadata": {
        "id": "JwaRzOpmWPp_"
      }
    },
    {
      "cell_type": "markdown",
      "source": [
        "### Results"
      ],
      "metadata": {
        "id": "SVnj61RRiMO1"
      }
    },
    {
      "cell_type": "markdown",
      "source": [
        "We found a statistically significant difference in average loss per client (p<0.05). However, frequency didn't change a lot."
      ],
      "metadata": {
        "id": "xI8Xm_eKiQXk"
      }
    },
    {
      "cell_type": "markdown",
      "source": [
        "### Imports and data processing"
      ],
      "metadata": {
        "id": "M-tBM52sjE87"
      }
    },
    {
      "cell_type": "code",
      "execution_count": null,
      "metadata": {
        "id": "lMi7zebyNA9k"
      },
      "outputs": [],
      "source": [
        "import pandas as pd\n",
        "import numpy as np\n",
        "import matplotlib.pyplot as plt\n",
        "import seaborn as sns\n",
        "from scipy import stats as st"
      ]
    },
    {
      "cell_type": "code",
      "source": [
        "df = pd.read_excel('/content/drive/MyDrive/Colab Notebooks/Data_analytics_with_Python_2/AB-tests_accident_insurance_products/data/accident_data.xlsx')\n",
        "df.head()"
      ],
      "metadata": {
        "colab": {
          "base_uri": "https://localhost:8080/",
          "height": 206
        },
        "id": "z-IKdR5PNFuq",
        "outputId": "2054dbd1-9b1d-4f5e-e897-90ec5fc8d951"
      },
      "execution_count": null,
      "outputs": [
        {
          "output_type": "execute_result",
          "data": {
            "text/plain": [
              "        contract_id start_date   end_date   GPW     DAC      Loss  count_loss  \\\n",
              "0   SI-E048-0001877 2021-02-27 2022-02-26  2999  1649.0 -500000.0         1.0   \n",
              "1  SI-102-MЗ-023060 2021-05-13 2022-05-12  1599  1231.0 -250000.0         1.0   \n",
              "2   SI-R031-0000136 2022-02-08 2023-02-07  3000     NaN -173000.0         1.0   \n",
              "3   SI-E030-0001418 2021-06-09 2022-06-08  2999  2309.0 -160000.0         3.0   \n",
              "4   SI-H030-0005506 2021-12-20 2022-12-19  2999  2309.0 -150000.0         1.0   \n",
              "\n",
              "   RBNS  count_rbns  \n",
              "0   NaN         NaN  \n",
              "1   NaN         NaN  \n",
              "2   NaN         NaN  \n",
              "3   NaN         NaN  \n",
              "4   NaN         NaN  "
            ],
            "text/html": [
              "\n",
              "  <div id=\"df-c7178d35-2e25-423c-9853-7a7b194b7090\">\n",
              "    <div class=\"colab-df-container\">\n",
              "      <div>\n",
              "<style scoped>\n",
              "    .dataframe tbody tr th:only-of-type {\n",
              "        vertical-align: middle;\n",
              "    }\n",
              "\n",
              "    .dataframe tbody tr th {\n",
              "        vertical-align: top;\n",
              "    }\n",
              "\n",
              "    .dataframe thead th {\n",
              "        text-align: right;\n",
              "    }\n",
              "</style>\n",
              "<table border=\"1\" class=\"dataframe\">\n",
              "  <thead>\n",
              "    <tr style=\"text-align: right;\">\n",
              "      <th></th>\n",
              "      <th>contract_id</th>\n",
              "      <th>start_date</th>\n",
              "      <th>end_date</th>\n",
              "      <th>GPW</th>\n",
              "      <th>DAC</th>\n",
              "      <th>Loss</th>\n",
              "      <th>count_loss</th>\n",
              "      <th>RBNS</th>\n",
              "      <th>count_rbns</th>\n",
              "    </tr>\n",
              "  </thead>\n",
              "  <tbody>\n",
              "    <tr>\n",
              "      <th>0</th>\n",
              "      <td>SI-E048-0001877</td>\n",
              "      <td>2021-02-27</td>\n",
              "      <td>2022-02-26</td>\n",
              "      <td>2999</td>\n",
              "      <td>1649.0</td>\n",
              "      <td>-500000.0</td>\n",
              "      <td>1.0</td>\n",
              "      <td>NaN</td>\n",
              "      <td>NaN</td>\n",
              "    </tr>\n",
              "    <tr>\n",
              "      <th>1</th>\n",
              "      <td>SI-102-MЗ-023060</td>\n",
              "      <td>2021-05-13</td>\n",
              "      <td>2022-05-12</td>\n",
              "      <td>1599</td>\n",
              "      <td>1231.0</td>\n",
              "      <td>-250000.0</td>\n",
              "      <td>1.0</td>\n",
              "      <td>NaN</td>\n",
              "      <td>NaN</td>\n",
              "    </tr>\n",
              "    <tr>\n",
              "      <th>2</th>\n",
              "      <td>SI-R031-0000136</td>\n",
              "      <td>2022-02-08</td>\n",
              "      <td>2023-02-07</td>\n",
              "      <td>3000</td>\n",
              "      <td>NaN</td>\n",
              "      <td>-173000.0</td>\n",
              "      <td>1.0</td>\n",
              "      <td>NaN</td>\n",
              "      <td>NaN</td>\n",
              "    </tr>\n",
              "    <tr>\n",
              "      <th>3</th>\n",
              "      <td>SI-E030-0001418</td>\n",
              "      <td>2021-06-09</td>\n",
              "      <td>2022-06-08</td>\n",
              "      <td>2999</td>\n",
              "      <td>2309.0</td>\n",
              "      <td>-160000.0</td>\n",
              "      <td>3.0</td>\n",
              "      <td>NaN</td>\n",
              "      <td>NaN</td>\n",
              "    </tr>\n",
              "    <tr>\n",
              "      <th>4</th>\n",
              "      <td>SI-H030-0005506</td>\n",
              "      <td>2021-12-20</td>\n",
              "      <td>2022-12-19</td>\n",
              "      <td>2999</td>\n",
              "      <td>2309.0</td>\n",
              "      <td>-150000.0</td>\n",
              "      <td>1.0</td>\n",
              "      <td>NaN</td>\n",
              "      <td>NaN</td>\n",
              "    </tr>\n",
              "  </tbody>\n",
              "</table>\n",
              "</div>\n",
              "      <button class=\"colab-df-convert\" onclick=\"convertToInteractive('df-c7178d35-2e25-423c-9853-7a7b194b7090')\"\n",
              "              title=\"Convert this dataframe to an interactive table.\"\n",
              "              style=\"display:none;\">\n",
              "        \n",
              "  <svg xmlns=\"http://www.w3.org/2000/svg\" height=\"24px\"viewBox=\"0 0 24 24\"\n",
              "       width=\"24px\">\n",
              "    <path d=\"M0 0h24v24H0V0z\" fill=\"none\"/>\n",
              "    <path d=\"M18.56 5.44l.94 2.06.94-2.06 2.06-.94-2.06-.94-.94-2.06-.94 2.06-2.06.94zm-11 1L8.5 8.5l.94-2.06 2.06-.94-2.06-.94L8.5 2.5l-.94 2.06-2.06.94zm10 10l.94 2.06.94-2.06 2.06-.94-2.06-.94-.94-2.06-.94 2.06-2.06.94z\"/><path d=\"M17.41 7.96l-1.37-1.37c-.4-.4-.92-.59-1.43-.59-.52 0-1.04.2-1.43.59L10.3 9.45l-7.72 7.72c-.78.78-.78 2.05 0 2.83L4 21.41c.39.39.9.59 1.41.59.51 0 1.02-.2 1.41-.59l7.78-7.78 2.81-2.81c.8-.78.8-2.07 0-2.86zM5.41 20L4 18.59l7.72-7.72 1.47 1.35L5.41 20z\"/>\n",
              "  </svg>\n",
              "      </button>\n",
              "      \n",
              "  <style>\n",
              "    .colab-df-container {\n",
              "      display:flex;\n",
              "      flex-wrap:wrap;\n",
              "      gap: 12px;\n",
              "    }\n",
              "\n",
              "    .colab-df-convert {\n",
              "      background-color: #E8F0FE;\n",
              "      border: none;\n",
              "      border-radius: 50%;\n",
              "      cursor: pointer;\n",
              "      display: none;\n",
              "      fill: #1967D2;\n",
              "      height: 32px;\n",
              "      padding: 0 0 0 0;\n",
              "      width: 32px;\n",
              "    }\n",
              "\n",
              "    .colab-df-convert:hover {\n",
              "      background-color: #E2EBFA;\n",
              "      box-shadow: 0px 1px 2px rgba(60, 64, 67, 0.3), 0px 1px 3px 1px rgba(60, 64, 67, 0.15);\n",
              "      fill: #174EA6;\n",
              "    }\n",
              "\n",
              "    [theme=dark] .colab-df-convert {\n",
              "      background-color: #3B4455;\n",
              "      fill: #D2E3FC;\n",
              "    }\n",
              "\n",
              "    [theme=dark] .colab-df-convert:hover {\n",
              "      background-color: #434B5C;\n",
              "      box-shadow: 0px 1px 3px 1px rgba(0, 0, 0, 0.15);\n",
              "      filter: drop-shadow(0px 1px 2px rgba(0, 0, 0, 0.3));\n",
              "      fill: #FFFFFF;\n",
              "    }\n",
              "  </style>\n",
              "\n",
              "      <script>\n",
              "        const buttonEl =\n",
              "          document.querySelector('#df-c7178d35-2e25-423c-9853-7a7b194b7090 button.colab-df-convert');\n",
              "        buttonEl.style.display =\n",
              "          google.colab.kernel.accessAllowed ? 'block' : 'none';\n",
              "\n",
              "        async function convertToInteractive(key) {\n",
              "          const element = document.querySelector('#df-c7178d35-2e25-423c-9853-7a7b194b7090');\n",
              "          const dataTable =\n",
              "            await google.colab.kernel.invokeFunction('convertToInteractive',\n",
              "                                                     [key], {});\n",
              "          if (!dataTable) return;\n",
              "\n",
              "          const docLinkHtml = 'Like what you see? Visit the ' +\n",
              "            '<a target=\"_blank\" href=https://colab.research.google.com/notebooks/data_table.ipynb>data table notebook</a>'\n",
              "            + ' to learn more about interactive tables.';\n",
              "          element.innerHTML = '';\n",
              "          dataTable['output_type'] = 'display_data';\n",
              "          await google.colab.output.renderOutput(dataTable, element);\n",
              "          const docLink = document.createElement('div');\n",
              "          docLink.innerHTML = docLinkHtml;\n",
              "          element.appendChild(docLink);\n",
              "        }\n",
              "      </script>\n",
              "    </div>\n",
              "  </div>\n",
              "  "
            ]
          },
          "metadata": {},
          "execution_count": 2
        }
      ]
    },
    {
      "cell_type": "code",
      "source": [
        "df.info()"
      ],
      "metadata": {
        "id": "aEWuNTdpNVkJ",
        "colab": {
          "base_uri": "https://localhost:8080/"
        },
        "outputId": "33446b0e-e03f-4c1e-9c13-e777e53441ee"
      },
      "execution_count": null,
      "outputs": [
        {
          "output_type": "stream",
          "name": "stdout",
          "text": [
            "<class 'pandas.core.frame.DataFrame'>\n",
            "RangeIndex: 12360 entries, 0 to 12359\n",
            "Data columns (total 9 columns):\n",
            " #   Column       Non-Null Count  Dtype         \n",
            "---  ------       --------------  -----         \n",
            " 0   contract_id  12360 non-null  object        \n",
            " 1   start_date   12360 non-null  datetime64[ns]\n",
            " 2   end_date     12360 non-null  datetime64[ns]\n",
            " 3   GPW          12360 non-null  int64         \n",
            " 4   DAC          12052 non-null  float64       \n",
            " 5   Loss         144 non-null    float64       \n",
            " 6   count_loss   144 non-null    float64       \n",
            " 7   RBNS         39 non-null     float64       \n",
            " 8   count_rbns   39 non-null     float64       \n",
            "dtypes: datetime64[ns](2), float64(5), int64(1), object(1)\n",
            "memory usage: 869.2+ KB\n"
          ]
        }
      ]
    },
    {
      "cell_type": "markdown",
      "source": [
        "Remove unnecessary periods"
      ],
      "metadata": {
        "id": "hDpsiSeQ1oS0"
      }
    },
    {
      "cell_type": "code",
      "source": [
        "df = df[(df['start_date']>='2021-01-01') & (df['start_date']<'2023-04-01')]"
      ],
      "metadata": {
        "id": "blQuiXPEyo2q"
      },
      "execution_count": null,
      "outputs": []
    },
    {
      "cell_type": "code",
      "source": [
        "df.describe()"
      ],
      "metadata": {
        "colab": {
          "base_uri": "https://localhost:8080/",
          "height": 300
        },
        "id": "jx0kDoRQoXa8",
        "outputId": "7ab0a538-7cfc-48a1-aa80-59b85c9e770d"
      },
      "execution_count": null,
      "outputs": [
        {
          "output_type": "execute_result",
          "data": {
            "text/plain": [
              "                GPW           DAC           Loss  count_loss           RBNS  \\\n",
              "count  12120.000000  11818.000000     144.000000  144.000000      39.000000   \n",
              "mean    1933.268482   1457.147148  -34710.777778    1.083333  -46371.794872   \n",
              "std     1064.449818    564.258223   53642.452292    0.301511  107864.298149   \n",
              "min   -13800.000000  -1231.000000 -500000.000000    1.000000 -500000.000000   \n",
              "25%     1599.000000   1231.000000  -42500.000000    1.000000  -22500.000000   \n",
              "50%     1599.000000   1231.000000  -15000.000000    1.000000  -15000.000000   \n",
              "75%     2100.000000   1617.000000   -9562.500000    1.000000  -15000.000000   \n",
              "max     6900.000000   4485.000000   -3000.000000    3.000000   -1000.000000   \n",
              "\n",
              "       count_rbns  \n",
              "count        39.0  \n",
              "mean          1.0  \n",
              "std           0.0  \n",
              "min           1.0  \n",
              "25%           1.0  \n",
              "50%           1.0  \n",
              "75%           1.0  \n",
              "max           1.0  "
            ],
            "text/html": [
              "\n",
              "  <div id=\"df-eabb3b8c-8fd1-4658-80d6-739e448d10c3\">\n",
              "    <div class=\"colab-df-container\">\n",
              "      <div>\n",
              "<style scoped>\n",
              "    .dataframe tbody tr th:only-of-type {\n",
              "        vertical-align: middle;\n",
              "    }\n",
              "\n",
              "    .dataframe tbody tr th {\n",
              "        vertical-align: top;\n",
              "    }\n",
              "\n",
              "    .dataframe thead th {\n",
              "        text-align: right;\n",
              "    }\n",
              "</style>\n",
              "<table border=\"1\" class=\"dataframe\">\n",
              "  <thead>\n",
              "    <tr style=\"text-align: right;\">\n",
              "      <th></th>\n",
              "      <th>GPW</th>\n",
              "      <th>DAC</th>\n",
              "      <th>Loss</th>\n",
              "      <th>count_loss</th>\n",
              "      <th>RBNS</th>\n",
              "      <th>count_rbns</th>\n",
              "    </tr>\n",
              "  </thead>\n",
              "  <tbody>\n",
              "    <tr>\n",
              "      <th>count</th>\n",
              "      <td>12120.000000</td>\n",
              "      <td>11818.000000</td>\n",
              "      <td>144.000000</td>\n",
              "      <td>144.000000</td>\n",
              "      <td>39.000000</td>\n",
              "      <td>39.0</td>\n",
              "    </tr>\n",
              "    <tr>\n",
              "      <th>mean</th>\n",
              "      <td>1933.268482</td>\n",
              "      <td>1457.147148</td>\n",
              "      <td>-34710.777778</td>\n",
              "      <td>1.083333</td>\n",
              "      <td>-46371.794872</td>\n",
              "      <td>1.0</td>\n",
              "    </tr>\n",
              "    <tr>\n",
              "      <th>std</th>\n",
              "      <td>1064.449818</td>\n",
              "      <td>564.258223</td>\n",
              "      <td>53642.452292</td>\n",
              "      <td>0.301511</td>\n",
              "      <td>107864.298149</td>\n",
              "      <td>0.0</td>\n",
              "    </tr>\n",
              "    <tr>\n",
              "      <th>min</th>\n",
              "      <td>-13800.000000</td>\n",
              "      <td>-1231.000000</td>\n",
              "      <td>-500000.000000</td>\n",
              "      <td>1.000000</td>\n",
              "      <td>-500000.000000</td>\n",
              "      <td>1.0</td>\n",
              "    </tr>\n",
              "    <tr>\n",
              "      <th>25%</th>\n",
              "      <td>1599.000000</td>\n",
              "      <td>1231.000000</td>\n",
              "      <td>-42500.000000</td>\n",
              "      <td>1.000000</td>\n",
              "      <td>-22500.000000</td>\n",
              "      <td>1.0</td>\n",
              "    </tr>\n",
              "    <tr>\n",
              "      <th>50%</th>\n",
              "      <td>1599.000000</td>\n",
              "      <td>1231.000000</td>\n",
              "      <td>-15000.000000</td>\n",
              "      <td>1.000000</td>\n",
              "      <td>-15000.000000</td>\n",
              "      <td>1.0</td>\n",
              "    </tr>\n",
              "    <tr>\n",
              "      <th>75%</th>\n",
              "      <td>2100.000000</td>\n",
              "      <td>1617.000000</td>\n",
              "      <td>-9562.500000</td>\n",
              "      <td>1.000000</td>\n",
              "      <td>-15000.000000</td>\n",
              "      <td>1.0</td>\n",
              "    </tr>\n",
              "    <tr>\n",
              "      <th>max</th>\n",
              "      <td>6900.000000</td>\n",
              "      <td>4485.000000</td>\n",
              "      <td>-3000.000000</td>\n",
              "      <td>3.000000</td>\n",
              "      <td>-1000.000000</td>\n",
              "      <td>1.0</td>\n",
              "    </tr>\n",
              "  </tbody>\n",
              "</table>\n",
              "</div>\n",
              "      <button class=\"colab-df-convert\" onclick=\"convertToInteractive('df-eabb3b8c-8fd1-4658-80d6-739e448d10c3')\"\n",
              "              title=\"Convert this dataframe to an interactive table.\"\n",
              "              style=\"display:none;\">\n",
              "        \n",
              "  <svg xmlns=\"http://www.w3.org/2000/svg\" height=\"24px\"viewBox=\"0 0 24 24\"\n",
              "       width=\"24px\">\n",
              "    <path d=\"M0 0h24v24H0V0z\" fill=\"none\"/>\n",
              "    <path d=\"M18.56 5.44l.94 2.06.94-2.06 2.06-.94-2.06-.94-.94-2.06-.94 2.06-2.06.94zm-11 1L8.5 8.5l.94-2.06 2.06-.94-2.06-.94L8.5 2.5l-.94 2.06-2.06.94zm10 10l.94 2.06.94-2.06 2.06-.94-2.06-.94-.94-2.06-.94 2.06-2.06.94z\"/><path d=\"M17.41 7.96l-1.37-1.37c-.4-.4-.92-.59-1.43-.59-.52 0-1.04.2-1.43.59L10.3 9.45l-7.72 7.72c-.78.78-.78 2.05 0 2.83L4 21.41c.39.39.9.59 1.41.59.51 0 1.02-.2 1.41-.59l7.78-7.78 2.81-2.81c.8-.78.8-2.07 0-2.86zM5.41 20L4 18.59l7.72-7.72 1.47 1.35L5.41 20z\"/>\n",
              "  </svg>\n",
              "      </button>\n",
              "      \n",
              "  <style>\n",
              "    .colab-df-container {\n",
              "      display:flex;\n",
              "      flex-wrap:wrap;\n",
              "      gap: 12px;\n",
              "    }\n",
              "\n",
              "    .colab-df-convert {\n",
              "      background-color: #E8F0FE;\n",
              "      border: none;\n",
              "      border-radius: 50%;\n",
              "      cursor: pointer;\n",
              "      display: none;\n",
              "      fill: #1967D2;\n",
              "      height: 32px;\n",
              "      padding: 0 0 0 0;\n",
              "      width: 32px;\n",
              "    }\n",
              "\n",
              "    .colab-df-convert:hover {\n",
              "      background-color: #E2EBFA;\n",
              "      box-shadow: 0px 1px 2px rgba(60, 64, 67, 0.3), 0px 1px 3px 1px rgba(60, 64, 67, 0.15);\n",
              "      fill: #174EA6;\n",
              "    }\n",
              "\n",
              "    [theme=dark] .colab-df-convert {\n",
              "      background-color: #3B4455;\n",
              "      fill: #D2E3FC;\n",
              "    }\n",
              "\n",
              "    [theme=dark] .colab-df-convert:hover {\n",
              "      background-color: #434B5C;\n",
              "      box-shadow: 0px 1px 3px 1px rgba(0, 0, 0, 0.15);\n",
              "      filter: drop-shadow(0px 1px 2px rgba(0, 0, 0, 0.3));\n",
              "      fill: #FFFFFF;\n",
              "    }\n",
              "  </style>\n",
              "\n",
              "      <script>\n",
              "        const buttonEl =\n",
              "          document.querySelector('#df-eabb3b8c-8fd1-4658-80d6-739e448d10c3 button.colab-df-convert');\n",
              "        buttonEl.style.display =\n",
              "          google.colab.kernel.accessAllowed ? 'block' : 'none';\n",
              "\n",
              "        async function convertToInteractive(key) {\n",
              "          const element = document.querySelector('#df-eabb3b8c-8fd1-4658-80d6-739e448d10c3');\n",
              "          const dataTable =\n",
              "            await google.colab.kernel.invokeFunction('convertToInteractive',\n",
              "                                                     [key], {});\n",
              "          if (!dataTable) return;\n",
              "\n",
              "          const docLinkHtml = 'Like what you see? Visit the ' +\n",
              "            '<a target=\"_blank\" href=https://colab.research.google.com/notebooks/data_table.ipynb>data table notebook</a>'\n",
              "            + ' to learn more about interactive tables.';\n",
              "          element.innerHTML = '';\n",
              "          dataTable['output_type'] = 'display_data';\n",
              "          await google.colab.output.renderOutput(dataTable, element);\n",
              "          const docLink = document.createElement('div');\n",
              "          docLink.innerHTML = docLinkHtml;\n",
              "          element.appendChild(docLink);\n",
              "        }\n",
              "      </script>\n",
              "    </div>\n",
              "  </div>\n",
              "  "
            ]
          },
          "metadata": {},
          "execution_count": 5
        }
      ]
    },
    {
      "cell_type": "markdown",
      "source": [
        "Remove negative GPW ( cancelations show in this way)"
      ],
      "metadata": {
        "id": "NPjuocdVzbZK"
      }
    },
    {
      "cell_type": "code",
      "source": [
        "df = df[(df['GPW']>0)]"
      ],
      "metadata": {
        "id": "9hWbnEcEzDi6"
      },
      "execution_count": null,
      "outputs": []
    },
    {
      "cell_type": "markdown",
      "source": [
        "Change sign for losses and RBNS"
      ],
      "metadata": {
        "id": "swQPJmwqQh9J"
      }
    },
    {
      "cell_type": "code",
      "source": [
        "df['Loss'] = df['Loss'].abs()\n",
        "df['RBNS'] = df['RBNS'].abs()"
      ],
      "metadata": {
        "id": "5aEgWPrDQms0"
      },
      "execution_count": null,
      "outputs": []
    },
    {
      "cell_type": "markdown",
      "source": [
        "Fill empty values with 0"
      ],
      "metadata": {
        "id": "bjZQpO2r16rZ"
      }
    },
    {
      "cell_type": "code",
      "source": [
        "df.fillna(0, inplace=True)"
      ],
      "metadata": {
        "id": "hPmrGi84shno"
      },
      "execution_count": null,
      "outputs": []
    },
    {
      "cell_type": "markdown",
      "source": [
        "### EDA"
      ],
      "metadata": {
        "id": "QznlqbK4M1L1"
      }
    },
    {
      "cell_type": "markdown",
      "source": [
        "Let's group by quarter and also combine losses and RBNS and calculate: LR, frequency and average loss per policy"
      ],
      "metadata": {
        "id": "WY1pzmAh2ICR"
      }
    },
    {
      "cell_type": "code",
      "source": [
        "#df['start_date_month'] = df['start_date'].astype('datetime64[M]')\n",
        "df['start_date_quarter'] = df['start_date'].dt.to_period('Q')\n",
        "df['Loss+RBNS'] = df['Loss'] + df['RBNS']\n",
        "df['count_claims'] = df['count_loss'] + df['count_rbns']\n",
        "df.head()"
      ],
      "metadata": {
        "colab": {
          "base_uri": "https://localhost:8080/",
          "height": 250
        },
        "id": "UdsIPDnuqruJ",
        "outputId": "94a817cd-5d82-4e26-c359-41cacf439890"
      },
      "execution_count": null,
      "outputs": [
        {
          "output_type": "execute_result",
          "data": {
            "text/plain": [
              "        contract_id start_date   end_date   GPW     DAC      Loss  count_loss  \\\n",
              "0   SI-E048-0001877 2021-02-27 2022-02-26  2999  1649.0  500000.0         1.0   \n",
              "1  SI-102-MЗ-023060 2021-05-13 2022-05-12  1599  1231.0  250000.0         1.0   \n",
              "2   SI-R031-0000136 2022-02-08 2023-02-07  3000     0.0  173000.0         1.0   \n",
              "3   SI-E030-0001418 2021-06-09 2022-06-08  2999  2309.0  160000.0         3.0   \n",
              "4   SI-H030-0005506 2021-12-20 2022-12-19  2999  2309.0  150000.0         1.0   \n",
              "\n",
              "   RBNS  count_rbns start_date_quarter  Loss+RBNS  count_claims  \n",
              "0   0.0         0.0             2021Q1   500000.0           1.0  \n",
              "1   0.0         0.0             2021Q2   250000.0           1.0  \n",
              "2   0.0         0.0             2022Q1   173000.0           1.0  \n",
              "3   0.0         0.0             2021Q2   160000.0           3.0  \n",
              "4   0.0         0.0             2021Q4   150000.0           1.0  "
            ],
            "text/html": [
              "\n",
              "  <div id=\"df-25d19074-7bad-40a4-bd43-15842122928c\">\n",
              "    <div class=\"colab-df-container\">\n",
              "      <div>\n",
              "<style scoped>\n",
              "    .dataframe tbody tr th:only-of-type {\n",
              "        vertical-align: middle;\n",
              "    }\n",
              "\n",
              "    .dataframe tbody tr th {\n",
              "        vertical-align: top;\n",
              "    }\n",
              "\n",
              "    .dataframe thead th {\n",
              "        text-align: right;\n",
              "    }\n",
              "</style>\n",
              "<table border=\"1\" class=\"dataframe\">\n",
              "  <thead>\n",
              "    <tr style=\"text-align: right;\">\n",
              "      <th></th>\n",
              "      <th>contract_id</th>\n",
              "      <th>start_date</th>\n",
              "      <th>end_date</th>\n",
              "      <th>GPW</th>\n",
              "      <th>DAC</th>\n",
              "      <th>Loss</th>\n",
              "      <th>count_loss</th>\n",
              "      <th>RBNS</th>\n",
              "      <th>count_rbns</th>\n",
              "      <th>start_date_quarter</th>\n",
              "      <th>Loss+RBNS</th>\n",
              "      <th>count_claims</th>\n",
              "    </tr>\n",
              "  </thead>\n",
              "  <tbody>\n",
              "    <tr>\n",
              "      <th>0</th>\n",
              "      <td>SI-E048-0001877</td>\n",
              "      <td>2021-02-27</td>\n",
              "      <td>2022-02-26</td>\n",
              "      <td>2999</td>\n",
              "      <td>1649.0</td>\n",
              "      <td>500000.0</td>\n",
              "      <td>1.0</td>\n",
              "      <td>0.0</td>\n",
              "      <td>0.0</td>\n",
              "      <td>2021Q1</td>\n",
              "      <td>500000.0</td>\n",
              "      <td>1.0</td>\n",
              "    </tr>\n",
              "    <tr>\n",
              "      <th>1</th>\n",
              "      <td>SI-102-MЗ-023060</td>\n",
              "      <td>2021-05-13</td>\n",
              "      <td>2022-05-12</td>\n",
              "      <td>1599</td>\n",
              "      <td>1231.0</td>\n",
              "      <td>250000.0</td>\n",
              "      <td>1.0</td>\n",
              "      <td>0.0</td>\n",
              "      <td>0.0</td>\n",
              "      <td>2021Q2</td>\n",
              "      <td>250000.0</td>\n",
              "      <td>1.0</td>\n",
              "    </tr>\n",
              "    <tr>\n",
              "      <th>2</th>\n",
              "      <td>SI-R031-0000136</td>\n",
              "      <td>2022-02-08</td>\n",
              "      <td>2023-02-07</td>\n",
              "      <td>3000</td>\n",
              "      <td>0.0</td>\n",
              "      <td>173000.0</td>\n",
              "      <td>1.0</td>\n",
              "      <td>0.0</td>\n",
              "      <td>0.0</td>\n",
              "      <td>2022Q1</td>\n",
              "      <td>173000.0</td>\n",
              "      <td>1.0</td>\n",
              "    </tr>\n",
              "    <tr>\n",
              "      <th>3</th>\n",
              "      <td>SI-E030-0001418</td>\n",
              "      <td>2021-06-09</td>\n",
              "      <td>2022-06-08</td>\n",
              "      <td>2999</td>\n",
              "      <td>2309.0</td>\n",
              "      <td>160000.0</td>\n",
              "      <td>3.0</td>\n",
              "      <td>0.0</td>\n",
              "      <td>0.0</td>\n",
              "      <td>2021Q2</td>\n",
              "      <td>160000.0</td>\n",
              "      <td>3.0</td>\n",
              "    </tr>\n",
              "    <tr>\n",
              "      <th>4</th>\n",
              "      <td>SI-H030-0005506</td>\n",
              "      <td>2021-12-20</td>\n",
              "      <td>2022-12-19</td>\n",
              "      <td>2999</td>\n",
              "      <td>2309.0</td>\n",
              "      <td>150000.0</td>\n",
              "      <td>1.0</td>\n",
              "      <td>0.0</td>\n",
              "      <td>0.0</td>\n",
              "      <td>2021Q4</td>\n",
              "      <td>150000.0</td>\n",
              "      <td>1.0</td>\n",
              "    </tr>\n",
              "  </tbody>\n",
              "</table>\n",
              "</div>\n",
              "      <button class=\"colab-df-convert\" onclick=\"convertToInteractive('df-25d19074-7bad-40a4-bd43-15842122928c')\"\n",
              "              title=\"Convert this dataframe to an interactive table.\"\n",
              "              style=\"display:none;\">\n",
              "        \n",
              "  <svg xmlns=\"http://www.w3.org/2000/svg\" height=\"24px\"viewBox=\"0 0 24 24\"\n",
              "       width=\"24px\">\n",
              "    <path d=\"M0 0h24v24H0V0z\" fill=\"none\"/>\n",
              "    <path d=\"M18.56 5.44l.94 2.06.94-2.06 2.06-.94-2.06-.94-.94-2.06-.94 2.06-2.06.94zm-11 1L8.5 8.5l.94-2.06 2.06-.94-2.06-.94L8.5 2.5l-.94 2.06-2.06.94zm10 10l.94 2.06.94-2.06 2.06-.94-2.06-.94-.94-2.06-.94 2.06-2.06.94z\"/><path d=\"M17.41 7.96l-1.37-1.37c-.4-.4-.92-.59-1.43-.59-.52 0-1.04.2-1.43.59L10.3 9.45l-7.72 7.72c-.78.78-.78 2.05 0 2.83L4 21.41c.39.39.9.59 1.41.59.51 0 1.02-.2 1.41-.59l7.78-7.78 2.81-2.81c.8-.78.8-2.07 0-2.86zM5.41 20L4 18.59l7.72-7.72 1.47 1.35L5.41 20z\"/>\n",
              "  </svg>\n",
              "      </button>\n",
              "      \n",
              "  <style>\n",
              "    .colab-df-container {\n",
              "      display:flex;\n",
              "      flex-wrap:wrap;\n",
              "      gap: 12px;\n",
              "    }\n",
              "\n",
              "    .colab-df-convert {\n",
              "      background-color: #E8F0FE;\n",
              "      border: none;\n",
              "      border-radius: 50%;\n",
              "      cursor: pointer;\n",
              "      display: none;\n",
              "      fill: #1967D2;\n",
              "      height: 32px;\n",
              "      padding: 0 0 0 0;\n",
              "      width: 32px;\n",
              "    }\n",
              "\n",
              "    .colab-df-convert:hover {\n",
              "      background-color: #E2EBFA;\n",
              "      box-shadow: 0px 1px 2px rgba(60, 64, 67, 0.3), 0px 1px 3px 1px rgba(60, 64, 67, 0.15);\n",
              "      fill: #174EA6;\n",
              "    }\n",
              "\n",
              "    [theme=dark] .colab-df-convert {\n",
              "      background-color: #3B4455;\n",
              "      fill: #D2E3FC;\n",
              "    }\n",
              "\n",
              "    [theme=dark] .colab-df-convert:hover {\n",
              "      background-color: #434B5C;\n",
              "      box-shadow: 0px 1px 3px 1px rgba(0, 0, 0, 0.15);\n",
              "      filter: drop-shadow(0px 1px 2px rgba(0, 0, 0, 0.3));\n",
              "      fill: #FFFFFF;\n",
              "    }\n",
              "  </style>\n",
              "\n",
              "      <script>\n",
              "        const buttonEl =\n",
              "          document.querySelector('#df-25d19074-7bad-40a4-bd43-15842122928c button.colab-df-convert');\n",
              "        buttonEl.style.display =\n",
              "          google.colab.kernel.accessAllowed ? 'block' : 'none';\n",
              "\n",
              "        async function convertToInteractive(key) {\n",
              "          const element = document.querySelector('#df-25d19074-7bad-40a4-bd43-15842122928c');\n",
              "          const dataTable =\n",
              "            await google.colab.kernel.invokeFunction('convertToInteractive',\n",
              "                                                     [key], {});\n",
              "          if (!dataTable) return;\n",
              "\n",
              "          const docLinkHtml = 'Like what you see? Visit the ' +\n",
              "            '<a target=\"_blank\" href=https://colab.research.google.com/notebooks/data_table.ipynb>data table notebook</a>'\n",
              "            + ' to learn more about interactive tables.';\n",
              "          element.innerHTML = '';\n",
              "          dataTable['output_type'] = 'display_data';\n",
              "          await google.colab.output.renderOutput(dataTable, element);\n",
              "          const docLink = document.createElement('div');\n",
              "          docLink.innerHTML = docLinkHtml;\n",
              "          element.appendChild(docLink);\n",
              "        }\n",
              "      </script>\n",
              "    </div>\n",
              "  </div>\n",
              "  "
            ]
          },
          "metadata": {},
          "execution_count": 9
        }
      ]
    },
    {
      "cell_type": "code",
      "source": [
        "df_grouped = df.groupby(['start_date_quarter'], as_index=False).agg(count_contract_id=('contract_id','count'),\n",
        "                                                                     total_gpw=('GPW','sum'),\n",
        "                                                                     total_ar=('DAC','sum'),\n",
        "                                                                     total_loss=('Loss+RBNS','sum'),\n",
        "                                                                     avg_loss_per_policy=('Loss+RBNS','mean'),\n",
        "                                                                     total_claims=('count_claims','sum'))\n",
        "\n",
        "df_grouped['LR'] = -df_grouped['total_loss'] / df_grouped['total_gpw']\n",
        "df_grouped['frequency'] = df_grouped['total_claims'] / df_grouped['count_contract_id']\n",
        "df_grouped"
      ],
      "metadata": {
        "colab": {
          "base_uri": "https://localhost:8080/",
          "height": 331
        },
        "id": "eLVW3CyuHKhf",
        "outputId": "a09916e8-3302-452f-a6fe-455d0ecefa46"
      },
      "execution_count": null,
      "outputs": [
        {
          "output_type": "execute_result",
          "data": {
            "text/plain": [
              "  start_date_quarter  count_contract_id  total_gpw   total_ar  total_loss  \\\n",
              "0             2021Q1               1693    3181037  2281520.0   1348602.0   \n",
              "1             2021Q2               1795    3304557  2377698.0   1280000.0   \n",
              "2             2021Q3               1691    3162516  2306386.0   1232500.0   \n",
              "3             2021Q4               1562    2919334  2155296.0    915000.0   \n",
              "4             2022Q1               1122    2334961  1673143.0    720500.0   \n",
              "5             2022Q2               1137    2077149  1500726.0    335000.0   \n",
              "6             2022Q3               1301    2615660  1816930.0    684500.0   \n",
              "7             2022Q4                962    2436606  1732333.0    158750.0   \n",
              "8             2023Q1                690    1955677  1380226.0    132000.0   \n",
              "\n",
              "   avg_loss_per_policy  total_claims        LR  frequency  \n",
              "0           796.575310          40.0 -0.423950   0.023627  \n",
              "1           713.091922          23.0 -0.387344   0.012813  \n",
              "2           728.858664          16.0 -0.389721   0.009462  \n",
              "3           585.787452          33.0 -0.313428   0.021127  \n",
              "4           642.156863          20.0 -0.308570   0.017825  \n",
              "5           294.635004          22.0 -0.161279   0.019349  \n",
              "6           526.133743          28.0 -0.261693   0.021522  \n",
              "7           165.020790           9.0 -0.065152   0.009356  \n",
              "8           191.304348           4.0 -0.067496   0.005797  "
            ],
            "text/html": [
              "\n",
              "  <div id=\"df-d00f57e6-4001-43b3-ba04-0215861cccd0\">\n",
              "    <div class=\"colab-df-container\">\n",
              "      <div>\n",
              "<style scoped>\n",
              "    .dataframe tbody tr th:only-of-type {\n",
              "        vertical-align: middle;\n",
              "    }\n",
              "\n",
              "    .dataframe tbody tr th {\n",
              "        vertical-align: top;\n",
              "    }\n",
              "\n",
              "    .dataframe thead th {\n",
              "        text-align: right;\n",
              "    }\n",
              "</style>\n",
              "<table border=\"1\" class=\"dataframe\">\n",
              "  <thead>\n",
              "    <tr style=\"text-align: right;\">\n",
              "      <th></th>\n",
              "      <th>start_date_quarter</th>\n",
              "      <th>count_contract_id</th>\n",
              "      <th>total_gpw</th>\n",
              "      <th>total_ar</th>\n",
              "      <th>total_loss</th>\n",
              "      <th>avg_loss_per_policy</th>\n",
              "      <th>total_claims</th>\n",
              "      <th>LR</th>\n",
              "      <th>frequency</th>\n",
              "    </tr>\n",
              "  </thead>\n",
              "  <tbody>\n",
              "    <tr>\n",
              "      <th>0</th>\n",
              "      <td>2021Q1</td>\n",
              "      <td>1693</td>\n",
              "      <td>3181037</td>\n",
              "      <td>2281520.0</td>\n",
              "      <td>1348602.0</td>\n",
              "      <td>796.575310</td>\n",
              "      <td>40.0</td>\n",
              "      <td>-0.423950</td>\n",
              "      <td>0.023627</td>\n",
              "    </tr>\n",
              "    <tr>\n",
              "      <th>1</th>\n",
              "      <td>2021Q2</td>\n",
              "      <td>1795</td>\n",
              "      <td>3304557</td>\n",
              "      <td>2377698.0</td>\n",
              "      <td>1280000.0</td>\n",
              "      <td>713.091922</td>\n",
              "      <td>23.0</td>\n",
              "      <td>-0.387344</td>\n",
              "      <td>0.012813</td>\n",
              "    </tr>\n",
              "    <tr>\n",
              "      <th>2</th>\n",
              "      <td>2021Q3</td>\n",
              "      <td>1691</td>\n",
              "      <td>3162516</td>\n",
              "      <td>2306386.0</td>\n",
              "      <td>1232500.0</td>\n",
              "      <td>728.858664</td>\n",
              "      <td>16.0</td>\n",
              "      <td>-0.389721</td>\n",
              "      <td>0.009462</td>\n",
              "    </tr>\n",
              "    <tr>\n",
              "      <th>3</th>\n",
              "      <td>2021Q4</td>\n",
              "      <td>1562</td>\n",
              "      <td>2919334</td>\n",
              "      <td>2155296.0</td>\n",
              "      <td>915000.0</td>\n",
              "      <td>585.787452</td>\n",
              "      <td>33.0</td>\n",
              "      <td>-0.313428</td>\n",
              "      <td>0.021127</td>\n",
              "    </tr>\n",
              "    <tr>\n",
              "      <th>4</th>\n",
              "      <td>2022Q1</td>\n",
              "      <td>1122</td>\n",
              "      <td>2334961</td>\n",
              "      <td>1673143.0</td>\n",
              "      <td>720500.0</td>\n",
              "      <td>642.156863</td>\n",
              "      <td>20.0</td>\n",
              "      <td>-0.308570</td>\n",
              "      <td>0.017825</td>\n",
              "    </tr>\n",
              "    <tr>\n",
              "      <th>5</th>\n",
              "      <td>2022Q2</td>\n",
              "      <td>1137</td>\n",
              "      <td>2077149</td>\n",
              "      <td>1500726.0</td>\n",
              "      <td>335000.0</td>\n",
              "      <td>294.635004</td>\n",
              "      <td>22.0</td>\n",
              "      <td>-0.161279</td>\n",
              "      <td>0.019349</td>\n",
              "    </tr>\n",
              "    <tr>\n",
              "      <th>6</th>\n",
              "      <td>2022Q3</td>\n",
              "      <td>1301</td>\n",
              "      <td>2615660</td>\n",
              "      <td>1816930.0</td>\n",
              "      <td>684500.0</td>\n",
              "      <td>526.133743</td>\n",
              "      <td>28.0</td>\n",
              "      <td>-0.261693</td>\n",
              "      <td>0.021522</td>\n",
              "    </tr>\n",
              "    <tr>\n",
              "      <th>7</th>\n",
              "      <td>2022Q4</td>\n",
              "      <td>962</td>\n",
              "      <td>2436606</td>\n",
              "      <td>1732333.0</td>\n",
              "      <td>158750.0</td>\n",
              "      <td>165.020790</td>\n",
              "      <td>9.0</td>\n",
              "      <td>-0.065152</td>\n",
              "      <td>0.009356</td>\n",
              "    </tr>\n",
              "    <tr>\n",
              "      <th>8</th>\n",
              "      <td>2023Q1</td>\n",
              "      <td>690</td>\n",
              "      <td>1955677</td>\n",
              "      <td>1380226.0</td>\n",
              "      <td>132000.0</td>\n",
              "      <td>191.304348</td>\n",
              "      <td>4.0</td>\n",
              "      <td>-0.067496</td>\n",
              "      <td>0.005797</td>\n",
              "    </tr>\n",
              "  </tbody>\n",
              "</table>\n",
              "</div>\n",
              "      <button class=\"colab-df-convert\" onclick=\"convertToInteractive('df-d00f57e6-4001-43b3-ba04-0215861cccd0')\"\n",
              "              title=\"Convert this dataframe to an interactive table.\"\n",
              "              style=\"display:none;\">\n",
              "        \n",
              "  <svg xmlns=\"http://www.w3.org/2000/svg\" height=\"24px\"viewBox=\"0 0 24 24\"\n",
              "       width=\"24px\">\n",
              "    <path d=\"M0 0h24v24H0V0z\" fill=\"none\"/>\n",
              "    <path d=\"M18.56 5.44l.94 2.06.94-2.06 2.06-.94-2.06-.94-.94-2.06-.94 2.06-2.06.94zm-11 1L8.5 8.5l.94-2.06 2.06-.94-2.06-.94L8.5 2.5l-.94 2.06-2.06.94zm10 10l.94 2.06.94-2.06 2.06-.94-2.06-.94-.94-2.06-.94 2.06-2.06.94z\"/><path d=\"M17.41 7.96l-1.37-1.37c-.4-.4-.92-.59-1.43-.59-.52 0-1.04.2-1.43.59L10.3 9.45l-7.72 7.72c-.78.78-.78 2.05 0 2.83L4 21.41c.39.39.9.59 1.41.59.51 0 1.02-.2 1.41-.59l7.78-7.78 2.81-2.81c.8-.78.8-2.07 0-2.86zM5.41 20L4 18.59l7.72-7.72 1.47 1.35L5.41 20z\"/>\n",
              "  </svg>\n",
              "      </button>\n",
              "      \n",
              "  <style>\n",
              "    .colab-df-container {\n",
              "      display:flex;\n",
              "      flex-wrap:wrap;\n",
              "      gap: 12px;\n",
              "    }\n",
              "\n",
              "    .colab-df-convert {\n",
              "      background-color: #E8F0FE;\n",
              "      border: none;\n",
              "      border-radius: 50%;\n",
              "      cursor: pointer;\n",
              "      display: none;\n",
              "      fill: #1967D2;\n",
              "      height: 32px;\n",
              "      padding: 0 0 0 0;\n",
              "      width: 32px;\n",
              "    }\n",
              "\n",
              "    .colab-df-convert:hover {\n",
              "      background-color: #E2EBFA;\n",
              "      box-shadow: 0px 1px 2px rgba(60, 64, 67, 0.3), 0px 1px 3px 1px rgba(60, 64, 67, 0.15);\n",
              "      fill: #174EA6;\n",
              "    }\n",
              "\n",
              "    [theme=dark] .colab-df-convert {\n",
              "      background-color: #3B4455;\n",
              "      fill: #D2E3FC;\n",
              "    }\n",
              "\n",
              "    [theme=dark] .colab-df-convert:hover {\n",
              "      background-color: #434B5C;\n",
              "      box-shadow: 0px 1px 3px 1px rgba(0, 0, 0, 0.15);\n",
              "      filter: drop-shadow(0px 1px 2px rgba(0, 0, 0, 0.3));\n",
              "      fill: #FFFFFF;\n",
              "    }\n",
              "  </style>\n",
              "\n",
              "      <script>\n",
              "        const buttonEl =\n",
              "          document.querySelector('#df-d00f57e6-4001-43b3-ba04-0215861cccd0 button.colab-df-convert');\n",
              "        buttonEl.style.display =\n",
              "          google.colab.kernel.accessAllowed ? 'block' : 'none';\n",
              "\n",
              "        async function convertToInteractive(key) {\n",
              "          const element = document.querySelector('#df-d00f57e6-4001-43b3-ba04-0215861cccd0');\n",
              "          const dataTable =\n",
              "            await google.colab.kernel.invokeFunction('convertToInteractive',\n",
              "                                                     [key], {});\n",
              "          if (!dataTable) return;\n",
              "\n",
              "          const docLinkHtml = 'Like what you see? Visit the ' +\n",
              "            '<a target=\"_blank\" href=https://colab.research.google.com/notebooks/data_table.ipynb>data table notebook</a>'\n",
              "            + ' to learn more about interactive tables.';\n",
              "          element.innerHTML = '';\n",
              "          dataTable['output_type'] = 'display_data';\n",
              "          await google.colab.output.renderOutput(dataTable, element);\n",
              "          const docLink = document.createElement('div');\n",
              "          docLink.innerHTML = docLinkHtml;\n",
              "          element.appendChild(docLink);\n",
              "        }\n",
              "      </script>\n",
              "    </div>\n",
              "  </div>\n",
              "  "
            ]
          },
          "metadata": {},
          "execution_count": 10
        }
      ]
    },
    {
      "cell_type": "markdown",
      "source": [
        "#### Visualization"
      ],
      "metadata": {
        "id": "UuXhlusFM67s"
      }
    },
    {
      "cell_type": "markdown",
      "source": [
        "Let's look at basic insurance metrics: LR, GPW"
      ],
      "metadata": {
        "id": "0s3IYxHzNGW7"
      }
    },
    {
      "cell_type": "code",
      "source": [
        "figure, axes = plt.subplots(2, 1, figsize=(10, 7))\n",
        "\n",
        "df_grouped.plot(x=\"start_date_quarter\", y=\"LR\", kind=\"line\", ax=axes[0])\n",
        "df_grouped.plot(x=\"start_date_quarter\", y=\"total_gpw\", kind=\"bar\", ax=axes[1])\n",
        "\n",
        "plt.show()"
      ],
      "metadata": {
        "colab": {
          "base_uri": "https://localhost:8080/",
          "height": 664
        },
        "id": "klLK_00cK0l-",
        "outputId": "91a383eb-72c0-4e21-c02e-354de78fd1d2"
      },
      "execution_count": null,
      "outputs": [
        {
          "output_type": "display_data",
          "data": {
            "text/plain": [
              "<Figure size 1000x700 with 2 Axes>"
            ],
            "image/png": "[encoded data removed]"
          },
          "metadata": {}
        }
      ]
    },
    {
      "cell_type": "markdown",
      "source": [
        "We can see that in 2022 LR decreased which could be a result of strict measures. However, GPW decreased as well, which is not good, but it can be a result of the same measures. Let's look at frequency and average loss per policy."
      ],
      "metadata": {
        "id": "eGy5t6urNPwT"
      }
    },
    {
      "cell_type": "code",
      "source": [
        "figure, axes = plt.subplots(2, 1, figsize=(10, 7))\n",
        "\n",
        "df_grouped.plot(x=\"start_date_quarter\", y=\"frequency\", kind=\"line\", ax=axes[0])\n",
        "df_grouped.plot(x=\"start_date_quarter\", y=\"avg_loss_per_policy\", kind=\"bar\", ax=axes[1])\n",
        "\n",
        "plt.show()"
      ],
      "metadata": {
        "colab": {
          "base_uri": "https://localhost:8080/",
          "height": 660
        },
        "id": "NuQt4n-aMI-J",
        "outputId": "e12722be-1680-469d-8b11-8a75ec45123c"
      },
      "execution_count": null,
      "outputs": [
        {
          "output_type": "display_data",
          "data": {
            "text/plain": [
              "<Figure size 1000x700 with 2 Axes>"
            ],
            "image/png": "[encoded data removed]"
          },
          "metadata": {}
        }
      ]
    },
    {
      "cell_type": "markdown",
      "source": [
        "We don't see the drop in frequency in 2022, on contrary the measure increased. As for the average loss per policy there is a positive tendency, however we should test its significance."
      ],
      "metadata": {
        "id": "TycZ5oTdNzpx"
      }
    },
    {
      "cell_type": "markdown",
      "source": [
        "### AB test of average loss per customer"
      ],
      "metadata": {
        "id": "rM24CCDVPeRb"
      }
    },
    {
      "cell_type": "markdown",
      "source": [
        "Let's look at the distribution of losses. It shoud be lognormal."
      ],
      "metadata": {
        "id": "DC9uyzcGPijv"
      }
    },
    {
      "cell_type": "code",
      "source": [
        "df[df['Loss+RBNS']>0].plot(kind='hist', y='Loss+RBNS', bins=30, grid=True, figsize=(9,3), title='Distribution of losses')\n",
        "plt.xlabel('loss')\n",
        "plt.ylabel('Frequency')\n",
        "plt.show()"
      ],
      "metadata": {
        "id": "jauykhSnx-bU",
        "colab": {
          "base_uri": "https://localhost:8080/",
          "height": 333
        },
        "outputId": "33953acb-3267-40e9-ca28-2aa8b9a2d649"
      },
      "execution_count": null,
      "outputs": [
        {
          "output_type": "display_data",
          "data": {
            "text/plain": [
              "<Figure size 900x300 with 1 Axes>"
            ],
            "image/png": "[encoded data removed]"
          },
          "metadata": {}
        }
      ]
    },
    {
      "cell_type": "markdown",
      "source": [
        "Let's draw a boxplot as well"
      ],
      "metadata": {
        "id": "Ur2St36qSwo_"
      }
    },
    {
      "cell_type": "code",
      "source": [
        "plt.figure(figsize=(9,3))\n",
        "sns.boxplot(x='start_date_quarter', y='Loss+RBNS', data=df[df['Loss+RBNS']>0], palette='rainbow').set(\n",
        "    xlabel='years',\n",
        "    ylabel='loss')\n",
        "plt.title('Loss over years')\n",
        "plt.show()"
      ],
      "metadata": {
        "colab": {
          "base_uri": "https://localhost:8080/",
          "height": 333
        },
        "id": "H-qtrsqYP7Pm",
        "outputId": "56e6f80d-f704-48b8-bde1-c51b8c8d6f3e"
      },
      "execution_count": null,
      "outputs": [
        {
          "output_type": "display_data",
          "data": {
            "text/plain": [
              "<Figure size 900x300 with 1 Axes>"
            ],
            "image/png": "[encoded data removed]"
          },
          "metadata": {}
        }
      ]
    },
    {
      "cell_type": "markdown",
      "source": [
        "Let's make a dataset with losses only, remove outliers and add logarithm of losses to come to normal distribution"
      ],
      "metadata": {
        "id": "yFTyna-pTB_n"
      }
    },
    {
      "cell_type": "code",
      "source": [
        "Q1,Q3 = df[df['Loss+RBNS']>0]['Loss+RBNS'].quantile(0.25), df[df['Loss+RBNS']>0]['Loss+RBNS'].quantile(0.75)\n",
        "IQR = Q3 - Q1\n",
        "cut_off = IQR * 1.5\n",
        "lower, upper = Q1 - cut_off, Q3 + cut_off\n",
        "print(\"Lower cut off:\", lower,\"Upper cut off:\", upper)"
      ],
      "metadata": {
        "colab": {
          "base_uri": "https://localhost:8080/"
        },
        "id": "8lnFKrE8b731",
        "outputId": "15b33ade-8fa6-4a40-ce23-56c055120cbd"
      },
      "execution_count": null,
      "outputs": [
        {
          "output_type": "stream",
          "name": "stdout",
          "text": [
            "Lower cut off: -28750.0 Upper cut off: 81250.0\n"
          ]
        }
      ]
    },
    {
      "cell_type": "code",
      "source": [
        "fixed_df = df[(df['Loss+RBNS'] < upper) & (df['Loss+RBNS']>0)]\n",
        "fixed_df['ln_loss'] = np.log(fixed_df['Loss+RBNS'])\n",
        "fixed_df"
      ],
      "metadata": {
        "colab": {
          "base_uri": "https://localhost:8080/",
          "height": 765
        },
        "id": "C6PBiSubTH9R",
        "outputId": "784a63dc-5bfe-4591-f861-3099f162e75a"
      },
      "execution_count": null,
      "outputs": [
        {
          "output_type": "stream",
          "name": "stderr",
          "text": [
            "<ipython-input-16-9f34e9f7039f>:2: SettingWithCopyWarning: \n",
            "A value is trying to be set on a copy of a slice from a DataFrame.\n",
            "Try using .loc[row_indexer,col_indexer] = value instead\n",
            "\n",
            "See the caveats in the documentation: https://pandas.pydata.org/pandas-docs/stable/user_guide/indexing.html#returning-a-view-versus-a-copy\n",
            "  fixed_df['ln_loss'] = np.log(fixed_df['Loss+RBNS'])\n"
          ]
        },
        {
          "output_type": "execute_result",
          "data": {
            "text/plain": [
              "           contract_id start_date   end_date   GPW     DAC     Loss  \\\n",
              "12     SI-E030-0001216 2021-04-24 2022-04-23  2999  2309.0  75000.0   \n",
              "13     SI-E030-0001416 2021-06-09 2022-06-08  2999  2309.0  75000.0   \n",
              "14     FD-E030-0001982 2021-10-22 2022-10-21  1599  1231.0  75000.0   \n",
              "15     SI-R031-0000139 2022-02-13 2023-02-12  2700     0.0  75000.0   \n",
              "16     SI-E048-0002682 2022-09-14 2023-09-13  2999  1649.0  75000.0   \n",
              "...                ...        ...        ...   ...     ...      ...   \n",
              "9610   SI-E030-0003244 2022-08-02 2023-08-01  2999  2309.0      0.0   \n",
              "10035  SI-E030-0003563 2022-09-03 2023-09-02  2999  2309.0      0.0   \n",
              "10337  SI-R031-0000186 2022-09-22 2023-09-21  5400     0.0      0.0   \n",
              "11890  SI-E057-0000282 2023-02-24 2024-02-23  3950     0.0      0.0   \n",
              "11988  SI-E030-0005110 2023-03-08 2024-03-07  2100  1617.0      0.0   \n",
              "\n",
              "       count_loss     RBNS  count_rbns start_date_quarter  Loss+RBNS  \\\n",
              "12            1.0      0.0         0.0             2021Q2    75000.0   \n",
              "13            1.0      0.0         0.0             2021Q2    75000.0   \n",
              "14            1.0      0.0         0.0             2021Q4    75000.0   \n",
              "15            1.0      0.0         0.0             2022Q1    75000.0   \n",
              "16            1.0      0.0         0.0             2022Q3    75000.0   \n",
              "...           ...      ...         ...                ...        ...   \n",
              "9610          0.0  10000.0         1.0             2022Q3    10000.0   \n",
              "10035         0.0  20000.0         1.0             2022Q3    20000.0   \n",
              "10337         0.0   1000.0         1.0             2022Q3     1000.0   \n",
              "11890         0.0  55000.0         1.0             2023Q1    55000.0   \n",
              "11988         0.0  55000.0         1.0             2023Q1    55000.0   \n",
              "\n",
              "       count_claims    ln_loss  \n",
              "12              1.0  11.225243  \n",
              "13              1.0  11.225243  \n",
              "14              1.0  11.225243  \n",
              "15              1.0  11.225243  \n",
              "16              1.0  11.225243  \n",
              "...             ...        ...  \n",
              "9610            1.0   9.210340  \n",
              "10035           1.0   9.903488  \n",
              "10337           1.0   6.907755  \n",
              "11890           1.0  10.915088  \n",
              "11988           1.0  10.915088  \n",
              "\n",
              "[168 rows x 13 columns]"
            ],
            "text/html": [
              "\n",
              "  <div id=\"df-a59a8e48-aaf6-460e-9b94-c0d0805d66a2\">\n",
              "    <div class=\"colab-df-container\">\n",
              "      <div>\n",
              "<style scoped>\n",
              "    .dataframe tbody tr th:only-of-type {\n",
              "        vertical-align: middle;\n",
              "    }\n",
              "\n",
              "    .dataframe tbody tr th {\n",
              "        vertical-align: top;\n",
              "    }\n",
              "\n",
              "    .dataframe thead th {\n",
              "        text-align: right;\n",
              "    }\n",
              "</style>\n",
              "<table border=\"1\" class=\"dataframe\">\n",
              "  <thead>\n",
              "    <tr style=\"text-align: right;\">\n",
              "      <th></th>\n",
              "      <th>contract_id</th>\n",
              "      <th>start_date</th>\n",
              "      <th>end_date</th>\n",
              "      <th>GPW</th>\n",
              "      <th>DAC</th>\n",
              "      <th>Loss</th>\n",
              "      <th>count_loss</th>\n",
              "      <th>RBNS</th>\n",
              "      <th>count_rbns</th>\n",
              "      <th>start_date_quarter</th>\n",
              "      <th>Loss+RBNS</th>\n",
              "      <th>count_claims</th>\n",
              "      <th>ln_loss</th>\n",
              "    </tr>\n",
              "  </thead>\n",
              "  <tbody>\n",
              "    <tr>\n",
              "      <th>12</th>\n",
              "      <td>SI-E030-0001216</td>\n",
              "      <td>2021-04-24</td>\n",
              "      <td>2022-04-23</td>\n",
              "      <td>2999</td>\n",
              "      <td>2309.0</td>\n",
              "      <td>75000.0</td>\n",
              "      <td>1.0</td>\n",
              "      <td>0.0</td>\n",
              "      <td>0.0</td>\n",
              "      <td>2021Q2</td>\n",
              "      <td>75000.0</td>\n",
              "      <td>1.0</td>\n",
              "      <td>11.225243</td>\n",
              "    </tr>\n",
              "    <tr>\n",
              "      <th>13</th>\n",
              "      <td>SI-E030-0001416</td>\n",
              "      <td>2021-06-09</td>\n",
              "      <td>2022-06-08</td>\n",
              "      <td>2999</td>\n",
              "      <td>2309.0</td>\n",
              "      <td>75000.0</td>\n",
              "      <td>1.0</td>\n",
              "      <td>0.0</td>\n",
              "      <td>0.0</td>\n",
              "      <td>2021Q2</td>\n",
              "      <td>75000.0</td>\n",
              "      <td>1.0</td>\n",
              "      <td>11.225243</td>\n",
              "    </tr>\n",
              "    <tr>\n",
              "      <th>14</th>\n",
              "      <td>FD-E030-0001982</td>\n",
              "      <td>2021-10-22</td>\n",
              "      <td>2022-10-21</td>\n",
              "      <td>1599</td>\n",
              "      <td>1231.0</td>\n",
              "      <td>75000.0</td>\n",
              "      <td>1.0</td>\n",
              "      <td>0.0</td>\n",
              "      <td>0.0</td>\n",
              "      <td>2021Q4</td>\n",
              "      <td>75000.0</td>\n",
              "      <td>1.0</td>\n",
              "      <td>11.225243</td>\n",
              "    </tr>\n",
              "    <tr>\n",
              "      <th>15</th>\n",
              "      <td>SI-R031-0000139</td>\n",
              "      <td>2022-02-13</td>\n",
              "      <td>2023-02-12</td>\n",
              "      <td>2700</td>\n",
              "      <td>0.0</td>\n",
              "      <td>75000.0</td>\n",
              "      <td>1.0</td>\n",
              "      <td>0.0</td>\n",
              "      <td>0.0</td>\n",
              "      <td>2022Q1</td>\n",
              "      <td>75000.0</td>\n",
              "      <td>1.0</td>\n",
              "      <td>11.225243</td>\n",
              "    </tr>\n",
              "    <tr>\n",
              "      <th>16</th>\n",
              "      <td>SI-E048-0002682</td>\n",
              "      <td>2022-09-14</td>\n",
              "      <td>2023-09-13</td>\n",
              "      <td>2999</td>\n",
              "      <td>1649.0</td>\n",
              "      <td>75000.0</td>\n",
              "      <td>1.0</td>\n",
              "      <td>0.0</td>\n",
              "      <td>0.0</td>\n",
              "      <td>2022Q3</td>\n",
              "      <td>75000.0</td>\n",
              "      <td>1.0</td>\n",
              "      <td>11.225243</td>\n",
              "    </tr>\n",
              "    <tr>\n",
              "      <th>...</th>\n",
              "      <td>...</td>\n",
              "      <td>...</td>\n",
              "      <td>...</td>\n",
              "      <td>...</td>\n",
              "      <td>...</td>\n",
              "      <td>...</td>\n",
              "      <td>...</td>\n",
              "      <td>...</td>\n",
              "      <td>...</td>\n",
              "      <td>...</td>\n",
              "      <td>...</td>\n",
              "      <td>...</td>\n",
              "      <td>...</td>\n",
              "    </tr>\n",
              "    <tr>\n",
              "      <th>9610</th>\n",
              "      <td>SI-E030-0003244</td>\n",
              "      <td>2022-08-02</td>\n",
              "      <td>2023-08-01</td>\n",
              "      <td>2999</td>\n",
              "      <td>2309.0</td>\n",
              "      <td>0.0</td>\n",
              "      <td>0.0</td>\n",
              "      <td>10000.0</td>\n",
              "      <td>1.0</td>\n",
              "      <td>2022Q3</td>\n",
              "      <td>10000.0</td>\n",
              "      <td>1.0</td>\n",
              "      <td>9.210340</td>\n",
              "    </tr>\n",
              "    <tr>\n",
              "      <th>10035</th>\n",
              "      <td>SI-E030-0003563</td>\n",
              "      <td>2022-09-03</td>\n",
              "      <td>2023-09-02</td>\n",
              "      <td>2999</td>\n",
              "      <td>2309.0</td>\n",
              "      <td>0.0</td>\n",
              "      <td>0.0</td>\n",
              "      <td>20000.0</td>\n",
              "      <td>1.0</td>\n",
              "      <td>2022Q3</td>\n",
              "      <td>20000.0</td>\n",
              "      <td>1.0</td>\n",
              "      <td>9.903488</td>\n",
              "    </tr>\n",
              "    <tr>\n",
              "      <th>10337</th>\n",
              "      <td>SI-R031-0000186</td>\n",
              "      <td>2022-09-22</td>\n",
              "      <td>2023-09-21</td>\n",
              "      <td>5400</td>\n",
              "      <td>0.0</td>\n",
              "      <td>0.0</td>\n",
              "      <td>0.0</td>\n",
              "      <td>1000.0</td>\n",
              "      <td>1.0</td>\n",
              "      <td>2022Q3</td>\n",
              "      <td>1000.0</td>\n",
              "      <td>1.0</td>\n",
              "      <td>6.907755</td>\n",
              "    </tr>\n",
              "    <tr>\n",
              "      <th>11890</th>\n",
              "      <td>SI-E057-0000282</td>\n",
              "      <td>2023-02-24</td>\n",
              "      <td>2024-02-23</td>\n",
              "      <td>3950</td>\n",
              "      <td>0.0</td>\n",
              "      <td>0.0</td>\n",
              "      <td>0.0</td>\n",
              "      <td>55000.0</td>\n",
              "      <td>1.0</td>\n",
              "      <td>2023Q1</td>\n",
              "      <td>55000.0</td>\n",
              "      <td>1.0</td>\n",
              "      <td>10.915088</td>\n",
              "    </tr>\n",
              "    <tr>\n",
              "      <th>11988</th>\n",
              "      <td>SI-E030-0005110</td>\n",
              "      <td>2023-03-08</td>\n",
              "      <td>2024-03-07</td>\n",
              "      <td>2100</td>\n",
              "      <td>1617.0</td>\n",
              "      <td>0.0</td>\n",
              "      <td>0.0</td>\n",
              "      <td>55000.0</td>\n",
              "      <td>1.0</td>\n",
              "      <td>2023Q1</td>\n",
              "      <td>55000.0</td>\n",
              "      <td>1.0</td>\n",
              "      <td>10.915088</td>\n",
              "    </tr>\n",
              "  </tbody>\n",
              "</table>\n",
              "<p>168 rows × 13 columns</p>\n",
              "</div>\n",
              "      <button class=\"colab-df-convert\" onclick=\"convertToInteractive('df-a59a8e48-aaf6-460e-9b94-c0d0805d66a2')\"\n",
              "              title=\"Convert this dataframe to an interactive table.\"\n",
              "              style=\"display:none;\">\n",
              "        \n",
              "  <svg xmlns=\"http://www.w3.org/2000/svg\" height=\"24px\"viewBox=\"0 0 24 24\"\n",
              "       width=\"24px\">\n",
              "    <path d=\"M0 0h24v24H0V0z\" fill=\"none\"/>\n",
              "    <path d=\"M18.56 5.44l.94 2.06.94-2.06 2.06-.94-2.06-.94-.94-2.06-.94 2.06-2.06.94zm-11 1L8.5 8.5l.94-2.06 2.06-.94-2.06-.94L8.5 2.5l-.94 2.06-2.06.94zm10 10l.94 2.06.94-2.06 2.06-.94-2.06-.94-.94-2.06-.94 2.06-2.06.94z\"/><path d=\"M17.41 7.96l-1.37-1.37c-.4-.4-.92-.59-1.43-.59-.52 0-1.04.2-1.43.59L10.3 9.45l-7.72 7.72c-.78.78-.78 2.05 0 2.83L4 21.41c.39.39.9.59 1.41.59.51 0 1.02-.2 1.41-.59l7.78-7.78 2.81-2.81c.8-.78.8-2.07 0-2.86zM5.41 20L4 18.59l7.72-7.72 1.47 1.35L5.41 20z\"/>\n",
              "  </svg>\n",
              "      </button>\n",
              "      \n",
              "  <style>\n",
              "    .colab-df-container {\n",
              "      display:flex;\n",
              "      flex-wrap:wrap;\n",
              "      gap: 12px;\n",
              "    }\n",
              "\n",
              "    .colab-df-convert {\n",
              "      background-color: #E8F0FE;\n",
              "      border: none;\n",
              "      border-radius: 50%;\n",
              "      cursor: pointer;\n",
              "      display: none;\n",
              "      fill: #1967D2;\n",
              "      height: 32px;\n",
              "      padding: 0 0 0 0;\n",
              "      width: 32px;\n",
              "    }\n",
              "\n",
              "    .colab-df-convert:hover {\n",
              "      background-color: #E2EBFA;\n",
              "      box-shadow: 0px 1px 2px rgba(60, 64, 67, 0.3), 0px 1px 3px 1px rgba(60, 64, 67, 0.15);\n",
              "      fill: #174EA6;\n",
              "    }\n",
              "\n",
              "    [theme=dark] .colab-df-convert {\n",
              "      background-color: #3B4455;\n",
              "      fill: #D2E3FC;\n",
              "    }\n",
              "\n",
              "    [theme=dark] .colab-df-convert:hover {\n",
              "      background-color: #434B5C;\n",
              "      box-shadow: 0px 1px 3px 1px rgba(0, 0, 0, 0.15);\n",
              "      filter: drop-shadow(0px 1px 2px rgba(0, 0, 0, 0.3));\n",
              "      fill: #FFFFFF;\n",
              "    }\n",
              "  </style>\n",
              "\n",
              "      <script>\n",
              "        const buttonEl =\n",
              "          document.querySelector('#df-a59a8e48-aaf6-460e-9b94-c0d0805d66a2 button.colab-df-convert');\n",
              "        buttonEl.style.display =\n",
              "          google.colab.kernel.accessAllowed ? 'block' : 'none';\n",
              "\n",
              "        async function convertToInteractive(key) {\n",
              "          const element = document.querySelector('#df-a59a8e48-aaf6-460e-9b94-c0d0805d66a2');\n",
              "          const dataTable =\n",
              "            await google.colab.kernel.invokeFunction('convertToInteractive',\n",
              "                                                     [key], {});\n",
              "          if (!dataTable) return;\n",
              "\n",
              "          const docLinkHtml = 'Like what you see? Visit the ' +\n",
              "            '<a target=\"_blank\" href=https://colab.research.google.com/notebooks/data_table.ipynb>data table notebook</a>'\n",
              "            + ' to learn more about interactive tables.';\n",
              "          element.innerHTML = '';\n",
              "          dataTable['output_type'] = 'display_data';\n",
              "          await google.colab.output.renderOutput(dataTable, element);\n",
              "          const docLink = document.createElement('div');\n",
              "          docLink.innerHTML = docLinkHtml;\n",
              "          element.appendChild(docLink);\n",
              "        }\n",
              "      </script>\n",
              "    </div>\n",
              "  </div>\n",
              "  "
            ]
          },
          "metadata": {},
          "execution_count": 16
        }
      ]
    },
    {
      "cell_type": "markdown",
      "source": [
        "check distribution"
      ],
      "metadata": {
        "id": "3kTCDoIZUTCQ"
      }
    },
    {
      "cell_type": "code",
      "source": [
        "fixed_df.plot(kind='hist', y='ln_loss', bins=30, grid=True, figsize=(9,3), title='Distribution of losses')\n",
        "plt.xlabel('ln_loss')\n",
        "plt.ylabel('Frequency')\n",
        "plt.show()"
      ],
      "metadata": {
        "colab": {
          "base_uri": "https://localhost:8080/",
          "height": 333
        },
        "id": "wDtRD12CTfO2",
        "outputId": "d91f69bc-0e11-4c1e-b882-61c6a165b78a"
      },
      "execution_count": null,
      "outputs": [
        {
          "output_type": "display_data",
          "data": {
            "text/plain": [
              "<Figure size 900x300 with 1 Axes>"
            ],
            "image/png": "[encoded data removed]"
          },
          "metadata": {}
        }
      ]
    },
    {
      "cell_type": "markdown",
      "source": [
        "Looks good to use t-test. We create two group: control - before the product modification, test - after it."
      ],
      "metadata": {
        "id": "25yF5LdbUl1m"
      }
    },
    {
      "cell_type": "code",
      "source": [
        "control_sample = fixed_df[fixed_df['start_date'].dt.year==2021][['Loss+RBNS','ln_loss']]\n",
        "control_sample"
      ],
      "metadata": {
        "id": "uN0ebMvzK0sb",
        "colab": {
          "base_uri": "https://localhost:8080/",
          "height": 423
        },
        "outputId": "167265d3-6d5b-4779-aec2-6ad44b781292"
      },
      "execution_count": null,
      "outputs": [
        {
          "output_type": "execute_result",
          "data": {
            "text/plain": [
              "      Loss+RBNS    ln_loss\n",
              "12      75000.0  11.225243\n",
              "13      75000.0  11.225243\n",
              "14      75000.0  11.225243\n",
              "17      62500.0  11.042922\n",
              "20      50602.0  10.831746\n",
              "...         ...        ...\n",
              "532     15000.0   9.615805\n",
              "533     15000.0   9.615805\n",
              "534     15000.0   9.615805\n",
              "535     15000.0   9.615805\n",
              "2691    50000.0  10.819778\n",
              "\n",
              "[95 rows x 2 columns]"
            ],
            "text/html": [
              "\n",
              "  <div id=\"df-fd4a0215-40e0-4fba-abc1-75672fc97435\">\n",
              "    <div class=\"colab-df-container\">\n",
              "      <div>\n",
              "<style scoped>\n",
              "    .dataframe tbody tr th:only-of-type {\n",
              "        vertical-align: middle;\n",
              "    }\n",
              "\n",
              "    .dataframe tbody tr th {\n",
              "        vertical-align: top;\n",
              "    }\n",
              "\n",
              "    .dataframe thead th {\n",
              "        text-align: right;\n",
              "    }\n",
              "</style>\n",
              "<table border=\"1\" class=\"dataframe\">\n",
              "  <thead>\n",
              "    <tr style=\"text-align: right;\">\n",
              "      <th></th>\n",
              "      <th>Loss+RBNS</th>\n",
              "      <th>ln_loss</th>\n",
              "    </tr>\n",
              "  </thead>\n",
              "  <tbody>\n",
              "    <tr>\n",
              "      <th>12</th>\n",
              "      <td>75000.0</td>\n",
              "      <td>11.225243</td>\n",
              "    </tr>\n",
              "    <tr>\n",
              "      <th>13</th>\n",
              "      <td>75000.0</td>\n",
              "      <td>11.225243</td>\n",
              "    </tr>\n",
              "    <tr>\n",
              "      <th>14</th>\n",
              "      <td>75000.0</td>\n",
              "      <td>11.225243</td>\n",
              "    </tr>\n",
              "    <tr>\n",
              "      <th>17</th>\n",
              "      <td>62500.0</td>\n",
              "      <td>11.042922</td>\n",
              "    </tr>\n",
              "    <tr>\n",
              "      <th>20</th>\n",
              "      <td>50602.0</td>\n",
              "      <td>10.831746</td>\n",
              "    </tr>\n",
              "    <tr>\n",
              "      <th>...</th>\n",
              "      <td>...</td>\n",
              "      <td>...</td>\n",
              "    </tr>\n",
              "    <tr>\n",
              "      <th>532</th>\n",
              "      <td>15000.0</td>\n",
              "      <td>9.615805</td>\n",
              "    </tr>\n",
              "    <tr>\n",
              "      <th>533</th>\n",
              "      <td>15000.0</td>\n",
              "      <td>9.615805</td>\n",
              "    </tr>\n",
              "    <tr>\n",
              "      <th>534</th>\n",
              "      <td>15000.0</td>\n",
              "      <td>9.615805</td>\n",
              "    </tr>\n",
              "    <tr>\n",
              "      <th>535</th>\n",
              "      <td>15000.0</td>\n",
              "      <td>9.615805</td>\n",
              "    </tr>\n",
              "    <tr>\n",
              "      <th>2691</th>\n",
              "      <td>50000.0</td>\n",
              "      <td>10.819778</td>\n",
              "    </tr>\n",
              "  </tbody>\n",
              "</table>\n",
              "<p>95 rows × 2 columns</p>\n",
              "</div>\n",
              "      <button class=\"colab-df-convert\" onclick=\"convertToInteractive('df-fd4a0215-40e0-4fba-abc1-75672fc97435')\"\n",
              "              title=\"Convert this dataframe to an interactive table.\"\n",
              "              style=\"display:none;\">\n",
              "        \n",
              "  <svg xmlns=\"http://www.w3.org/2000/svg\" height=\"24px\"viewBox=\"0 0 24 24\"\n",
              "       width=\"24px\">\n",
              "    <path d=\"M0 0h24v24H0V0z\" fill=\"none\"/>\n",
              "    <path d=\"M18.56 5.44l.94 2.06.94-2.06 2.06-.94-2.06-.94-.94-2.06-.94 2.06-2.06.94zm-11 1L8.5 8.5l.94-2.06 2.06-.94-2.06-.94L8.5 2.5l-.94 2.06-2.06.94zm10 10l.94 2.06.94-2.06 2.06-.94-2.06-.94-.94-2.06-.94 2.06-2.06.94z\"/><path d=\"M17.41 7.96l-1.37-1.37c-.4-.4-.92-.59-1.43-.59-.52 0-1.04.2-1.43.59L10.3 9.45l-7.72 7.72c-.78.78-.78 2.05 0 2.83L4 21.41c.39.39.9.59 1.41.59.51 0 1.02-.2 1.41-.59l7.78-7.78 2.81-2.81c.8-.78.8-2.07 0-2.86zM5.41 20L4 18.59l7.72-7.72 1.47 1.35L5.41 20z\"/>\n",
              "  </svg>\n",
              "      </button>\n",
              "      \n",
              "  <style>\n",
              "    .colab-df-container {\n",
              "      display:flex;\n",
              "      flex-wrap:wrap;\n",
              "      gap: 12px;\n",
              "    }\n",
              "\n",
              "    .colab-df-convert {\n",
              "      background-color: #E8F0FE;\n",
              "      border: none;\n",
              "      border-radius: 50%;\n",
              "      cursor: pointer;\n",
              "      display: none;\n",
              "      fill: #1967D2;\n",
              "      height: 32px;\n",
              "      padding: 0 0 0 0;\n",
              "      width: 32px;\n",
              "    }\n",
              "\n",
              "    .colab-df-convert:hover {\n",
              "      background-color: #E2EBFA;\n",
              "      box-shadow: 0px 1px 2px rgba(60, 64, 67, 0.3), 0px 1px 3px 1px rgba(60, 64, 67, 0.15);\n",
              "      fill: #174EA6;\n",
              "    }\n",
              "\n",
              "    [theme=dark] .colab-df-convert {\n",
              "      background-color: #3B4455;\n",
              "      fill: #D2E3FC;\n",
              "    }\n",
              "\n",
              "    [theme=dark] .colab-df-convert:hover {\n",
              "      background-color: #434B5C;\n",
              "      box-shadow: 0px 1px 3px 1px rgba(0, 0, 0, 0.15);\n",
              "      filter: drop-shadow(0px 1px 2px rgba(0, 0, 0, 0.3));\n",
              "      fill: #FFFFFF;\n",
              "    }\n",
              "  </style>\n",
              "\n",
              "      <script>\n",
              "        const buttonEl =\n",
              "          document.querySelector('#df-fd4a0215-40e0-4fba-abc1-75672fc97435 button.colab-df-convert');\n",
              "        buttonEl.style.display =\n",
              "          google.colab.kernel.accessAllowed ? 'block' : 'none';\n",
              "\n",
              "        async function convertToInteractive(key) {\n",
              "          const element = document.querySelector('#df-fd4a0215-40e0-4fba-abc1-75672fc97435');\n",
              "          const dataTable =\n",
              "            await google.colab.kernel.invokeFunction('convertToInteractive',\n",
              "                                                     [key], {});\n",
              "          if (!dataTable) return;\n",
              "\n",
              "          const docLinkHtml = 'Like what you see? Visit the ' +\n",
              "            '<a target=\"_blank\" href=https://colab.research.google.com/notebooks/data_table.ipynb>data table notebook</a>'\n",
              "            + ' to learn more about interactive tables.';\n",
              "          element.innerHTML = '';\n",
              "          dataTable['output_type'] = 'display_data';\n",
              "          await google.colab.output.renderOutput(dataTable, element);\n",
              "          const docLink = document.createElement('div');\n",
              "          docLink.innerHTML = docLinkHtml;\n",
              "          element.appendChild(docLink);\n",
              "        }\n",
              "      </script>\n",
              "    </div>\n",
              "  </div>\n",
              "  "
            ]
          },
          "metadata": {},
          "execution_count": 18
        }
      ]
    },
    {
      "cell_type": "code",
      "source": [
        "test_sample = fixed_df[fixed_df['start_date'].dt.year==2022][['Loss+RBNS','ln_loss']]\n",
        "test_sample"
      ],
      "metadata": {
        "colab": {
          "base_uri": "https://localhost:8080/",
          "height": 423
        },
        "id": "CsuUojM4tRVT",
        "outputId": "dc30de3f-5c3e-4b44-dc38-42763f716061"
      },
      "execution_count": null,
      "outputs": [
        {
          "output_type": "execute_result",
          "data": {
            "text/plain": [
              "       Loss+RBNS    ln_loss\n",
              "15       75000.0  11.225243\n",
              "16       75000.0  11.225243\n",
              "18       60000.0  11.002100\n",
              "19       55000.0  10.915088\n",
              "38       40000.0  10.596635\n",
              "...          ...        ...\n",
              "8907     25000.0  10.126631\n",
              "9444     12500.0   9.433484\n",
              "9610     10000.0   9.210340\n",
              "10035    20000.0   9.903488\n",
              "10337     1000.0   6.907755\n",
              "\n",
              "[69 rows x 2 columns]"
            ],
            "text/html": [
              "\n",
              "  <div id=\"df-ad9b0df8-0817-400d-8861-87323241f66b\">\n",
              "    <div class=\"colab-df-container\">\n",
              "      <div>\n",
              "<style scoped>\n",
              "    .dataframe tbody tr th:only-of-type {\n",
              "        vertical-align: middle;\n",
              "    }\n",
              "\n",
              "    .dataframe tbody tr th {\n",
              "        vertical-align: top;\n",
              "    }\n",
              "\n",
              "    .dataframe thead th {\n",
              "        text-align: right;\n",
              "    }\n",
              "</style>\n",
              "<table border=\"1\" class=\"dataframe\">\n",
              "  <thead>\n",
              "    <tr style=\"text-align: right;\">\n",
              "      <th></th>\n",
              "      <th>Loss+RBNS</th>\n",
              "      <th>ln_loss</th>\n",
              "    </tr>\n",
              "  </thead>\n",
              "  <tbody>\n",
              "    <tr>\n",
              "      <th>15</th>\n",
              "      <td>75000.0</td>\n",
              "      <td>11.225243</td>\n",
              "    </tr>\n",
              "    <tr>\n",
              "      <th>16</th>\n",
              "      <td>75000.0</td>\n",
              "      <td>11.225243</td>\n",
              "    </tr>\n",
              "    <tr>\n",
              "      <th>18</th>\n",
              "      <td>60000.0</td>\n",
              "      <td>11.002100</td>\n",
              "    </tr>\n",
              "    <tr>\n",
              "      <th>19</th>\n",
              "      <td>55000.0</td>\n",
              "      <td>10.915088</td>\n",
              "    </tr>\n",
              "    <tr>\n",
              "      <th>38</th>\n",
              "      <td>40000.0</td>\n",
              "      <td>10.596635</td>\n",
              "    </tr>\n",
              "    <tr>\n",
              "      <th>...</th>\n",
              "      <td>...</td>\n",
              "      <td>...</td>\n",
              "    </tr>\n",
              "    <tr>\n",
              "      <th>8907</th>\n",
              "      <td>25000.0</td>\n",
              "      <td>10.126631</td>\n",
              "    </tr>\n",
              "    <tr>\n",
              "      <th>9444</th>\n",
              "      <td>12500.0</td>\n",
              "      <td>9.433484</td>\n",
              "    </tr>\n",
              "    <tr>\n",
              "      <th>9610</th>\n",
              "      <td>10000.0</td>\n",
              "      <td>9.210340</td>\n",
              "    </tr>\n",
              "    <tr>\n",
              "      <th>10035</th>\n",
              "      <td>20000.0</td>\n",
              "      <td>9.903488</td>\n",
              "    </tr>\n",
              "    <tr>\n",
              "      <th>10337</th>\n",
              "      <td>1000.0</td>\n",
              "      <td>6.907755</td>\n",
              "    </tr>\n",
              "  </tbody>\n",
              "</table>\n",
              "<p>69 rows × 2 columns</p>\n",
              "</div>\n",
              "      <button class=\"colab-df-convert\" onclick=\"convertToInteractive('df-ad9b0df8-0817-400d-8861-87323241f66b')\"\n",
              "              title=\"Convert this dataframe to an interactive table.\"\n",
              "              style=\"display:none;\">\n",
              "        \n",
              "  <svg xmlns=\"http://www.w3.org/2000/svg\" height=\"24px\"viewBox=\"0 0 24 24\"\n",
              "       width=\"24px\">\n",
              "    <path d=\"M0 0h24v24H0V0z\" fill=\"none\"/>\n",
              "    <path d=\"M18.56 5.44l.94 2.06.94-2.06 2.06-.94-2.06-.94-.94-2.06-.94 2.06-2.06.94zm-11 1L8.5 8.5l.94-2.06 2.06-.94-2.06-.94L8.5 2.5l-.94 2.06-2.06.94zm10 10l.94 2.06.94-2.06 2.06-.94-2.06-.94-.94-2.06-.94 2.06-2.06.94z\"/><path d=\"M17.41 7.96l-1.37-1.37c-.4-.4-.92-.59-1.43-.59-.52 0-1.04.2-1.43.59L10.3 9.45l-7.72 7.72c-.78.78-.78 2.05 0 2.83L4 21.41c.39.39.9.59 1.41.59.51 0 1.02-.2 1.41-.59l7.78-7.78 2.81-2.81c.8-.78.8-2.07 0-2.86zM5.41 20L4 18.59l7.72-7.72 1.47 1.35L5.41 20z\"/>\n",
              "  </svg>\n",
              "      </button>\n",
              "      \n",
              "  <style>\n",
              "    .colab-df-container {\n",
              "      display:flex;\n",
              "      flex-wrap:wrap;\n",
              "      gap: 12px;\n",
              "    }\n",
              "\n",
              "    .colab-df-convert {\n",
              "      background-color: #E8F0FE;\n",
              "      border: none;\n",
              "      border-radius: 50%;\n",
              "      cursor: pointer;\n",
              "      display: none;\n",
              "      fill: #1967D2;\n",
              "      height: 32px;\n",
              "      padding: 0 0 0 0;\n",
              "      width: 32px;\n",
              "    }\n",
              "\n",
              "    .colab-df-convert:hover {\n",
              "      background-color: #E2EBFA;\n",
              "      box-shadow: 0px 1px 2px rgba(60, 64, 67, 0.3), 0px 1px 3px 1px rgba(60, 64, 67, 0.15);\n",
              "      fill: #174EA6;\n",
              "    }\n",
              "\n",
              "    [theme=dark] .colab-df-convert {\n",
              "      background-color: #3B4455;\n",
              "      fill: #D2E3FC;\n",
              "    }\n",
              "\n",
              "    [theme=dark] .colab-df-convert:hover {\n",
              "      background-color: #434B5C;\n",
              "      box-shadow: 0px 1px 3px 1px rgba(0, 0, 0, 0.15);\n",
              "      filter: drop-shadow(0px 1px 2px rgba(0, 0, 0, 0.3));\n",
              "      fill: #FFFFFF;\n",
              "    }\n",
              "  </style>\n",
              "\n",
              "      <script>\n",
              "        const buttonEl =\n",
              "          document.querySelector('#df-ad9b0df8-0817-400d-8861-87323241f66b button.colab-df-convert');\n",
              "        buttonEl.style.display =\n",
              "          google.colab.kernel.accessAllowed ? 'block' : 'none';\n",
              "\n",
              "        async function convertToInteractive(key) {\n",
              "          const element = document.querySelector('#df-ad9b0df8-0817-400d-8861-87323241f66b');\n",
              "          const dataTable =\n",
              "            await google.colab.kernel.invokeFunction('convertToInteractive',\n",
              "                                                     [key], {});\n",
              "          if (!dataTable) return;\n",
              "\n",
              "          const docLinkHtml = 'Like what you see? Visit the ' +\n",
              "            '<a target=\"_blank\" href=https://colab.research.google.com/notebooks/data_table.ipynb>data table notebook</a>'\n",
              "            + ' to learn more about interactive tables.';\n",
              "          element.innerHTML = '';\n",
              "          dataTable['output_type'] = 'display_data';\n",
              "          await google.colab.output.renderOutput(dataTable, element);\n",
              "          const docLink = document.createElement('div');\n",
              "          docLink.innerHTML = docLinkHtml;\n",
              "          element.appendChild(docLink);\n",
              "        }\n",
              "      </script>\n",
              "    </div>\n",
              "  </div>\n",
              "  "
            ]
          },
          "metadata": {},
          "execution_count": 19
        }
      ]
    },
    {
      "cell_type": "code",
      "source": [
        "plt.figure(figsize=(14,4))\n",
        "\n",
        "plt.subplot(1,2,1)\n",
        "plt.hist(control_sample['Loss+RBNS'], label = 'control', bins=10, alpha=0.7)\n",
        "plt.hist(test_sample['Loss+RBNS'], label = 'test', bins=10, alpha=0.7)\n",
        "plt.title('Losses')\n",
        "plt.grid(True)\n",
        "plt.legend()\n",
        "plt.xlabel('loss')\n",
        "plt.ylabel('frequency')\n",
        "\n",
        "plt.subplot(1,2,2)\n",
        "plt.hist(control_sample['ln_loss'], label = 'control', bins=10, alpha=0.7)\n",
        "plt.hist(test_sample['ln_loss'], label = 'test', bins=10, alpha=0.7)\n",
        "plt.title('Logarithm of losses')\n",
        "plt.grid(True)\n",
        "plt.legend()\n",
        "plt.xlabel('ln_loss')\n",
        "plt.ylabel('frequency')\n",
        "plt.show()"
      ],
      "metadata": {
        "colab": {
          "base_uri": "https://localhost:8080/",
          "height": 397
        },
        "id": "vOVnmWs15PtP",
        "outputId": "2923674f-ee61-4ed9-cb13-5e3d055d1f7b"
      },
      "execution_count": null,
      "outputs": [
        {
          "output_type": "display_data",
          "data": {
            "text/plain": [
              "<Figure size 1400x400 with 2 Axes>"
            ],
            "image/png": "[encoded data removed]"
          },
          "metadata": {}
        }
      ]
    },
    {
      "cell_type": "markdown",
      "source": [
        "There is no much difference between two periods. Let's run t-test with alpha = 0.05"
      ],
      "metadata": {
        "id": "-hQuB6FG5ln6"
      }
    },
    {
      "cell_type": "markdown",
      "source": [
        "#### t-test"
      ],
      "metadata": {
        "id": "DrYYMD9h5thN"
      }
    },
    {
      "cell_type": "markdown",
      "source": [
        "The difference of means:"
      ],
      "metadata": {
        "id": "xgWz3C6cJPJJ"
      }
    },
    {
      "cell_type": "code",
      "source": [
        "control_sample['Loss+RBNS'].mean() - test_sample['Loss+RBNS'].mean()"
      ],
      "metadata": {
        "colab": {
          "base_uri": "https://localhost:8080/"
        },
        "id": "5uZTfcnW5sxf",
        "outputId": "94ebea16-f01f-4b48-e4eb-f855359a6678"
      },
      "execution_count": null,
      "outputs": [
        {
          "output_type": "execute_result",
          "data": {
            "text/plain": [
              "5643.751029748284"
            ]
          },
          "metadata": {},
          "execution_count": 21
        }
      ]
    },
    {
      "cell_type": "code",
      "source": [
        "test_sample['Loss+RBNS'].mean() / control_sample['Loss+RBNS'].mean() -1"
      ],
      "metadata": {
        "colab": {
          "base_uri": "https://localhost:8080/"
        },
        "id": "rUAZC--0YlRJ",
        "outputId": "d82d07c0-aefc-4e10-ac17-93e368722040"
      },
      "execution_count": null,
      "outputs": [
        {
          "output_type": "execute_result",
          "data": {
            "text/plain": [
              "-0.22612116552813288"
            ]
          },
          "metadata": {},
          "execution_count": 22
        }
      ]
    },
    {
      "cell_type": "code",
      "source": [
        "alpha = 0.05\n",
        "results = st.ttest_ind(control_sample['ln_loss'], test_sample['ln_loss'], equal_var=True)\n",
        "print('p-value:', round(results.pvalue,4))\n",
        "print('t-statistic:', round(results.statistic,4))\n",
        "\n",
        "if results.pvalue < alpha:\n",
        "    print(\"We reject the null hypothesis\")\n",
        "else:\n",
        "    print(\"We do not reject the null hypothesis\")"
      ],
      "metadata": {
        "colab": {
          "base_uri": "https://localhost:8080/"
        },
        "id": "zvB7PlSW42Vm",
        "outputId": "7ce7eab3-0eef-4058-a0e7-e37728dfa724"
      },
      "execution_count": null,
      "outputs": [
        {
          "output_type": "stream",
          "name": "stdout",
          "text": [
            "p-value: 0.0203\n",
            "t-statistic: 2.3432\n",
            "We reject the null hypothesis\n"
          ]
        }
      ]
    },
    {
      "cell_type": "markdown",
      "source": [
        "Let's check manually"
      ],
      "metadata": {
        "id": "2mzY9r0zakHy"
      }
    },
    {
      "cell_type": "code",
      "source": [
        "control_n = len(control_sample['ln_loss'])\n",
        "test_n = len(test_sample['ln_loss'])\n",
        "\n",
        "control_mean = control_sample['ln_loss'].mean()\n",
        "test_mean = test_sample['ln_loss'].mean()\n",
        "\n",
        "control_std = control_sample['ln_loss'].std()\n",
        "test_std = test_sample['ln_loss'].std()\n",
        "\n",
        "pooled_variance = (control_std**2 + test_std**2)/2"
      ],
      "metadata": {
        "id": "7eHpr2_Uarqe"
      },
      "execution_count": null,
      "outputs": []
    },
    {
      "cell_type": "code",
      "source": [
        "t_value = (control_mean - test_mean) / ((pooled_variance/control_n) + (pooled_variance/test_n))**(1/2)\n",
        "t_value"
      ],
      "metadata": {
        "colab": {
          "base_uri": "https://localhost:8080/"
        },
        "id": "2QmD8iRbrhXm",
        "outputId": "406b9aed-16f9-43ef-f583-e5212a0e4c58"
      },
      "execution_count": null,
      "outputs": [
        {
          "output_type": "execute_result",
          "data": {
            "text/plain": [
              "2.333210061338331"
            ]
          },
          "metadata": {},
          "execution_count": 25
        }
      ]
    },
    {
      "cell_type": "code",
      "source": [
        "Df = control_n + test_n - 2"
      ],
      "metadata": {
        "id": "MUc_YqENbdyj"
      },
      "execution_count": null,
      "outputs": []
    },
    {
      "cell_type": "code",
      "source": [
        "p_value = (1 - st.t.cdf(abs(t_value),df=Df))*2\n",
        "p_value"
      ],
      "metadata": {
        "colab": {
          "base_uri": "https://localhost:8080/"
        },
        "id": "fRZfvU_xPE8Q",
        "outputId": "35eaefd6-44b6-46e3-949c-b064f0624e9b"
      },
      "execution_count": null,
      "outputs": [
        {
          "output_type": "execute_result",
          "data": {
            "text/plain": [
              "0.020866057370770852"
            ]
          },
          "metadata": {},
          "execution_count": 27
        }
      ]
    },
    {
      "cell_type": "markdown",
      "source": [
        "The drop in avg loss per customer is statistically significant (p<0.05)"
      ],
      "metadata": {
        "id": "Po72JhSsc6k1"
      }
    },
    {
      "cell_type": "markdown",
      "source": [
        "### AB test of frequency"
      ],
      "metadata": {
        "id": "hRCpglZrdT4B"
      }
    },
    {
      "cell_type": "markdown",
      "source": [
        "Since frequency is a ratio we can use z-test"
      ],
      "metadata": {
        "id": "rOym4_ajdY67"
      }
    },
    {
      "cell_type": "code",
      "source": [
        "df_grouped['start_date_year'] = df_grouped['start_date_quarter'].dt.year\n",
        "df_grouped"
      ],
      "metadata": {
        "colab": {
          "base_uri": "https://localhost:8080/",
          "height": 395
        },
        "id": "_hbWRpUvk7-0",
        "outputId": "2ee31cca-01ef-45b2-8c97-6c8b1a8d1b33"
      },
      "execution_count": null,
      "outputs": [
        {
          "output_type": "execute_result",
          "data": {
            "text/plain": [
              "  start_date_quarter  count_contract_id  total_gpw   total_ar  total_loss  \\\n",
              "0             2021Q1               1693    3181037  2281520.0   1348602.0   \n",
              "1             2021Q2               1795    3304557  2377698.0   1280000.0   \n",
              "2             2021Q3               1691    3162516  2306386.0   1232500.0   \n",
              "3             2021Q4               1562    2919334  2155296.0    915000.0   \n",
              "4             2022Q1               1122    2334961  1673143.0    720500.0   \n",
              "5             2022Q2               1137    2077149  1500726.0    335000.0   \n",
              "6             2022Q3               1301    2615660  1816930.0    684500.0   \n",
              "7             2022Q4                962    2436606  1732333.0    158750.0   \n",
              "8             2023Q1                690    1955677  1380226.0    132000.0   \n",
              "\n",
              "   avg_loss_per_policy  total_claims        LR  frequency  start_date_year  \n",
              "0           796.575310          40.0 -0.423950   0.023627             2021  \n",
              "1           713.091922          23.0 -0.387344   0.012813             2021  \n",
              "2           728.858664          16.0 -0.389721   0.009462             2021  \n",
              "3           585.787452          33.0 -0.313428   0.021127             2021  \n",
              "4           642.156863          20.0 -0.308570   0.017825             2022  \n",
              "5           294.635004          22.0 -0.161279   0.019349             2022  \n",
              "6           526.133743          28.0 -0.261693   0.021522             2022  \n",
              "7           165.020790           9.0 -0.065152   0.009356             2022  \n",
              "8           191.304348           4.0 -0.067496   0.005797             2023  "
            ],
            "text/html": [
              "\n",
              "  <div id=\"df-7302c2cc-f9c7-4a87-ae30-adc9fea46c92\">\n",
              "    <div class=\"colab-df-container\">\n",
              "      <div>\n",
              "<style scoped>\n",
              "    .dataframe tbody tr th:only-of-type {\n",
              "        vertical-align: middle;\n",
              "    }\n",
              "\n",
              "    .dataframe tbody tr th {\n",
              "        vertical-align: top;\n",
              "    }\n",
              "\n",
              "    .dataframe thead th {\n",
              "        text-align: right;\n",
              "    }\n",
              "</style>\n",
              "<table border=\"1\" class=\"dataframe\">\n",
              "  <thead>\n",
              "    <tr style=\"text-align: right;\">\n",
              "      <th></th>\n",
              "      <th>start_date_quarter</th>\n",
              "      <th>count_contract_id</th>\n",
              "      <th>total_gpw</th>\n",
              "      <th>total_ar</th>\n",
              "      <th>total_loss</th>\n",
              "      <th>avg_loss_per_policy</th>\n",
              "      <th>total_claims</th>\n",
              "      <th>LR</th>\n",
              "      <th>frequency</th>\n",
              "      <th>start_date_year</th>\n",
              "    </tr>\n",
              "  </thead>\n",
              "  <tbody>\n",
              "    <tr>\n",
              "      <th>0</th>\n",
              "      <td>2021Q1</td>\n",
              "      <td>1693</td>\n",
              "      <td>3181037</td>\n",
              "      <td>2281520.0</td>\n",
              "      <td>1348602.0</td>\n",
              "      <td>796.575310</td>\n",
              "      <td>40.0</td>\n",
              "      <td>-0.423950</td>\n",
              "      <td>0.023627</td>\n",
              "      <td>2021</td>\n",
              "    </tr>\n",
              "    <tr>\n",
              "      <th>1</th>\n",
              "      <td>2021Q2</td>\n",
              "      <td>1795</td>\n",
              "      <td>3304557</td>\n",
              "      <td>2377698.0</td>\n",
              "      <td>1280000.0</td>\n",
              "      <td>713.091922</td>\n",
              "      <td>23.0</td>\n",
              "      <td>-0.387344</td>\n",
              "      <td>0.012813</td>\n",
              "      <td>2021</td>\n",
              "    </tr>\n",
              "    <tr>\n",
              "      <th>2</th>\n",
              "      <td>2021Q3</td>\n",
              "      <td>1691</td>\n",
              "      <td>3162516</td>\n",
              "      <td>2306386.0</td>\n",
              "      <td>1232500.0</td>\n",
              "      <td>728.858664</td>\n",
              "      <td>16.0</td>\n",
              "      <td>-0.389721</td>\n",
              "      <td>0.009462</td>\n",
              "      <td>2021</td>\n",
              "    </tr>\n",
              "    <tr>\n",
              "      <th>3</th>\n",
              "      <td>2021Q4</td>\n",
              "      <td>1562</td>\n",
              "      <td>2919334</td>\n",
              "      <td>2155296.0</td>\n",
              "      <td>915000.0</td>\n",
              "      <td>585.787452</td>\n",
              "      <td>33.0</td>\n",
              "      <td>-0.313428</td>\n",
              "      <td>0.021127</td>\n",
              "      <td>2021</td>\n",
              "    </tr>\n",
              "    <tr>\n",
              "      <th>4</th>\n",
              "      <td>2022Q1</td>\n",
              "      <td>1122</td>\n",
              "      <td>2334961</td>\n",
              "      <td>1673143.0</td>\n",
              "      <td>720500.0</td>\n",
              "      <td>642.156863</td>\n",
              "      <td>20.0</td>\n",
              "      <td>-0.308570</td>\n",
              "      <td>0.017825</td>\n",
              "      <td>2022</td>\n",
              "    </tr>\n",
              "    <tr>\n",
              "      <th>5</th>\n",
              "      <td>2022Q2</td>\n",
              "      <td>1137</td>\n",
              "      <td>2077149</td>\n",
              "      <td>1500726.0</td>\n",
              "      <td>335000.0</td>\n",
              "      <td>294.635004</td>\n",
              "      <td>22.0</td>\n",
              "      <td>-0.161279</td>\n",
              "      <td>0.019349</td>\n",
              "      <td>2022</td>\n",
              "    </tr>\n",
              "    <tr>\n",
              "      <th>6</th>\n",
              "      <td>2022Q3</td>\n",
              "      <td>1301</td>\n",
              "      <td>2615660</td>\n",
              "      <td>1816930.0</td>\n",
              "      <td>684500.0</td>\n",
              "      <td>526.133743</td>\n",
              "      <td>28.0</td>\n",
              "      <td>-0.261693</td>\n",
              "      <td>0.021522</td>\n",
              "      <td>2022</td>\n",
              "    </tr>\n",
              "    <tr>\n",
              "      <th>7</th>\n",
              "      <td>2022Q4</td>\n",
              "      <td>962</td>\n",
              "      <td>2436606</td>\n",
              "      <td>1732333.0</td>\n",
              "      <td>158750.0</td>\n",
              "      <td>165.020790</td>\n",
              "      <td>9.0</td>\n",
              "      <td>-0.065152</td>\n",
              "      <td>0.009356</td>\n",
              "      <td>2022</td>\n",
              "    </tr>\n",
              "    <tr>\n",
              "      <th>8</th>\n",
              "      <td>2023Q1</td>\n",
              "      <td>690</td>\n",
              "      <td>1955677</td>\n",
              "      <td>1380226.0</td>\n",
              "      <td>132000.0</td>\n",
              "      <td>191.304348</td>\n",
              "      <td>4.0</td>\n",
              "      <td>-0.067496</td>\n",
              "      <td>0.005797</td>\n",
              "      <td>2023</td>\n",
              "    </tr>\n",
              "  </tbody>\n",
              "</table>\n",
              "</div>\n",
              "      <button class=\"colab-df-convert\" onclick=\"convertToInteractive('df-7302c2cc-f9c7-4a87-ae30-adc9fea46c92')\"\n",
              "              title=\"Convert this dataframe to an interactive table.\"\n",
              "              style=\"display:none;\">\n",
              "        \n",
              "  <svg xmlns=\"http://www.w3.org/2000/svg\" height=\"24px\"viewBox=\"0 0 24 24\"\n",
              "       width=\"24px\">\n",
              "    <path d=\"M0 0h24v24H0V0z\" fill=\"none\"/>\n",
              "    <path d=\"M18.56 5.44l.94 2.06.94-2.06 2.06-.94-2.06-.94-.94-2.06-.94 2.06-2.06.94zm-11 1L8.5 8.5l.94-2.06 2.06-.94-2.06-.94L8.5 2.5l-.94 2.06-2.06.94zm10 10l.94 2.06.94-2.06 2.06-.94-2.06-.94-.94-2.06-.94 2.06-2.06.94z\"/><path d=\"M17.41 7.96l-1.37-1.37c-.4-.4-.92-.59-1.43-.59-.52 0-1.04.2-1.43.59L10.3 9.45l-7.72 7.72c-.78.78-.78 2.05 0 2.83L4 21.41c.39.39.9.59 1.41.59.51 0 1.02-.2 1.41-.59l7.78-7.78 2.81-2.81c.8-.78.8-2.07 0-2.86zM5.41 20L4 18.59l7.72-7.72 1.47 1.35L5.41 20z\"/>\n",
              "  </svg>\n",
              "      </button>\n",
              "      \n",
              "  <style>\n",
              "    .colab-df-container {\n",
              "      display:flex;\n",
              "      flex-wrap:wrap;\n",
              "      gap: 12px;\n",
              "    }\n",
              "\n",
              "    .colab-df-convert {\n",
              "      background-color: #E8F0FE;\n",
              "      border: none;\n",
              "      border-radius: 50%;\n",
              "      cursor: pointer;\n",
              "      display: none;\n",
              "      fill: #1967D2;\n",
              "      height: 32px;\n",
              "      padding: 0 0 0 0;\n",
              "      width: 32px;\n",
              "    }\n",
              "\n",
              "    .colab-df-convert:hover {\n",
              "      background-color: #E2EBFA;\n",
              "      box-shadow: 0px 1px 2px rgba(60, 64, 67, 0.3), 0px 1px 3px 1px rgba(60, 64, 67, 0.15);\n",
              "      fill: #174EA6;\n",
              "    }\n",
              "\n",
              "    [theme=dark] .colab-df-convert {\n",
              "      background-color: #3B4455;\n",
              "      fill: #D2E3FC;\n",
              "    }\n",
              "\n",
              "    [theme=dark] .colab-df-convert:hover {\n",
              "      background-color: #434B5C;\n",
              "      box-shadow: 0px 1px 3px 1px rgba(0, 0, 0, 0.15);\n",
              "      filter: drop-shadow(0px 1px 2px rgba(0, 0, 0, 0.3));\n",
              "      fill: #FFFFFF;\n",
              "    }\n",
              "  </style>\n",
              "\n",
              "      <script>\n",
              "        const buttonEl =\n",
              "          document.querySelector('#df-7302c2cc-f9c7-4a87-ae30-adc9fea46c92 button.colab-df-convert');\n",
              "        buttonEl.style.display =\n",
              "          google.colab.kernel.accessAllowed ? 'block' : 'none';\n",
              "\n",
              "        async function convertToInteractive(key) {\n",
              "          const element = document.querySelector('#df-7302c2cc-f9c7-4a87-ae30-adc9fea46c92');\n",
              "          const dataTable =\n",
              "            await google.colab.kernel.invokeFunction('convertToInteractive',\n",
              "                                                     [key], {});\n",
              "          if (!dataTable) return;\n",
              "\n",
              "          const docLinkHtml = 'Like what you see? Visit the ' +\n",
              "            '<a target=\"_blank\" href=https://colab.research.google.com/notebooks/data_table.ipynb>data table notebook</a>'\n",
              "            + ' to learn more about interactive tables.';\n",
              "          element.innerHTML = '';\n",
              "          dataTable['output_type'] = 'display_data';\n",
              "          await google.colab.output.renderOutput(dataTable, element);\n",
              "          const docLink = document.createElement('div');\n",
              "          docLink.innerHTML = docLinkHtml;\n",
              "          element.appendChild(docLink);\n",
              "        }\n",
              "      </script>\n",
              "    </div>\n",
              "  </div>\n",
              "  "
            ]
          },
          "metadata": {},
          "execution_count": 28
        }
      ]
    },
    {
      "cell_type": "code",
      "source": [
        "df_frequency = df_grouped.groupby('start_date_year', as_index=False)[['count_contract_id','total_claims']].sum()\n",
        "df_frequency['frequency'] = df_frequency['total_claims'] / df_frequency['count_contract_id']\n",
        "df_frequency"
      ],
      "metadata": {
        "colab": {
          "base_uri": "https://localhost:8080/",
          "height": 143
        },
        "id": "jepk1iBAlNPx",
        "outputId": "f6cfe024-9ab3-4413-d3df-723be46d894f"
      },
      "execution_count": null,
      "outputs": [
        {
          "output_type": "execute_result",
          "data": {
            "text/plain": [
              "   start_date_year  count_contract_id  total_claims  frequency\n",
              "0             2021               6741         112.0   0.016615\n",
              "1             2022               4522          79.0   0.017470\n",
              "2             2023                690           4.0   0.005797"
            ],
            "text/html": [
              "\n",
              "  <div id=\"df-75c42fef-0442-4615-ab7b-e95e939e6298\">\n",
              "    <div class=\"colab-df-container\">\n",
              "      <div>\n",
              "<style scoped>\n",
              "    .dataframe tbody tr th:only-of-type {\n",
              "        vertical-align: middle;\n",
              "    }\n",
              "\n",
              "    .dataframe tbody tr th {\n",
              "        vertical-align: top;\n",
              "    }\n",
              "\n",
              "    .dataframe thead th {\n",
              "        text-align: right;\n",
              "    }\n",
              "</style>\n",
              "<table border=\"1\" class=\"dataframe\">\n",
              "  <thead>\n",
              "    <tr style=\"text-align: right;\">\n",
              "      <th></th>\n",
              "      <th>start_date_year</th>\n",
              "      <th>count_contract_id</th>\n",
              "      <th>total_claims</th>\n",
              "      <th>frequency</th>\n",
              "    </tr>\n",
              "  </thead>\n",
              "  <tbody>\n",
              "    <tr>\n",
              "      <th>0</th>\n",
              "      <td>2021</td>\n",
              "      <td>6741</td>\n",
              "      <td>112.0</td>\n",
              "      <td>0.016615</td>\n",
              "    </tr>\n",
              "    <tr>\n",
              "      <th>1</th>\n",
              "      <td>2022</td>\n",
              "      <td>4522</td>\n",
              "      <td>79.0</td>\n",
              "      <td>0.017470</td>\n",
              "    </tr>\n",
              "    <tr>\n",
              "      <th>2</th>\n",
              "      <td>2023</td>\n",
              "      <td>690</td>\n",
              "      <td>4.0</td>\n",
              "      <td>0.005797</td>\n",
              "    </tr>\n",
              "  </tbody>\n",
              "</table>\n",
              "</div>\n",
              "      <button class=\"colab-df-convert\" onclick=\"convertToInteractive('df-75c42fef-0442-4615-ab7b-e95e939e6298')\"\n",
              "              title=\"Convert this dataframe to an interactive table.\"\n",
              "              style=\"display:none;\">\n",
              "        \n",
              "  <svg xmlns=\"http://www.w3.org/2000/svg\" height=\"24px\"viewBox=\"0 0 24 24\"\n",
              "       width=\"24px\">\n",
              "    <path d=\"M0 0h24v24H0V0z\" fill=\"none\"/>\n",
              "    <path d=\"M18.56 5.44l.94 2.06.94-2.06 2.06-.94-2.06-.94-.94-2.06-.94 2.06-2.06.94zm-11 1L8.5 8.5l.94-2.06 2.06-.94-2.06-.94L8.5 2.5l-.94 2.06-2.06.94zm10 10l.94 2.06.94-2.06 2.06-.94-2.06-.94-.94-2.06-.94 2.06-2.06.94z\"/><path d=\"M17.41 7.96l-1.37-1.37c-.4-.4-.92-.59-1.43-.59-.52 0-1.04.2-1.43.59L10.3 9.45l-7.72 7.72c-.78.78-.78 2.05 0 2.83L4 21.41c.39.39.9.59 1.41.59.51 0 1.02-.2 1.41-.59l7.78-7.78 2.81-2.81c.8-.78.8-2.07 0-2.86zM5.41 20L4 18.59l7.72-7.72 1.47 1.35L5.41 20z\"/>\n",
              "  </svg>\n",
              "      </button>\n",
              "      \n",
              "  <style>\n",
              "    .colab-df-container {\n",
              "      display:flex;\n",
              "      flex-wrap:wrap;\n",
              "      gap: 12px;\n",
              "    }\n",
              "\n",
              "    .colab-df-convert {\n",
              "      background-color: #E8F0FE;\n",
              "      border: none;\n",
              "      border-radius: 50%;\n",
              "      cursor: pointer;\n",
              "      display: none;\n",
              "      fill: #1967D2;\n",
              "      height: 32px;\n",
              "      padding: 0 0 0 0;\n",
              "      width: 32px;\n",
              "    }\n",
              "\n",
              "    .colab-df-convert:hover {\n",
              "      background-color: #E2EBFA;\n",
              "      box-shadow: 0px 1px 2px rgba(60, 64, 67, 0.3), 0px 1px 3px 1px rgba(60, 64, 67, 0.15);\n",
              "      fill: #174EA6;\n",
              "    }\n",
              "\n",
              "    [theme=dark] .colab-df-convert {\n",
              "      background-color: #3B4455;\n",
              "      fill: #D2E3FC;\n",
              "    }\n",
              "\n",
              "    [theme=dark] .colab-df-convert:hover {\n",
              "      background-color: #434B5C;\n",
              "      box-shadow: 0px 1px 3px 1px rgba(0, 0, 0, 0.15);\n",
              "      filter: drop-shadow(0px 1px 2px rgba(0, 0, 0, 0.3));\n",
              "      fill: #FFFFFF;\n",
              "    }\n",
              "  </style>\n",
              "\n",
              "      <script>\n",
              "        const buttonEl =\n",
              "          document.querySelector('#df-75c42fef-0442-4615-ab7b-e95e939e6298 button.colab-df-convert');\n",
              "        buttonEl.style.display =\n",
              "          google.colab.kernel.accessAllowed ? 'block' : 'none';\n",
              "\n",
              "        async function convertToInteractive(key) {\n",
              "          const element = document.querySelector('#df-75c42fef-0442-4615-ab7b-e95e939e6298');\n",
              "          const dataTable =\n",
              "            await google.colab.kernel.invokeFunction('convertToInteractive',\n",
              "                                                     [key], {});\n",
              "          if (!dataTable) return;\n",
              "\n",
              "          const docLinkHtml = 'Like what you see? Visit the ' +\n",
              "            '<a target=\"_blank\" href=https://colab.research.google.com/notebooks/data_table.ipynb>data table notebook</a>'\n",
              "            + ' to learn more about interactive tables.';\n",
              "          element.innerHTML = '';\n",
              "          dataTable['output_type'] = 'display_data';\n",
              "          await google.colab.output.renderOutput(dataTable, element);\n",
              "          const docLink = document.createElement('div');\n",
              "          docLink.innerHTML = docLinkHtml;\n",
              "          element.appendChild(docLink);\n",
              "        }\n",
              "      </script>\n",
              "    </div>\n",
              "  </div>\n",
              "  "
            ]
          },
          "metadata": {},
          "execution_count": 29
        }
      ]
    },
    {
      "cell_type": "markdown",
      "source": [
        "There is almost no difference in frequency between 2022 and 2021. We don't need test it, but let's run z-test"
      ],
      "metadata": {
        "id": "u4hqN_Fxl9Oi"
      }
    },
    {
      "cell_type": "markdown",
      "source": [
        "#### z-test"
      ],
      "metadata": {
        "id": "DJuUdXaz74kI"
      }
    },
    {
      "cell_type": "code",
      "source": [
        "m_control = df_frequency[df_frequency['start_date_year']==2021]['total_claims'].values[0]\n",
        "m_test = df_frequency[df_frequency['start_date_year']==2022]['total_claims'].values[0]\n",
        "\n",
        "n_control = df_frequency[df_frequency['start_date_year']==2021]['count_contract_id'].values[0]\n",
        "n_test = df_frequency[df_frequency['start_date_year']==2022]['count_contract_id'].values[0]"
      ],
      "metadata": {
        "id": "0vvYtRrC8opH"
      },
      "execution_count": null,
      "outputs": []
    },
    {
      "cell_type": "code",
      "source": [
        "p_test = m_test / n_test\n",
        "p_control = m_control / n_control\n",
        "p_pooled = (m_test + m_control) / (n_control + n_test)\n",
        "f'p_test: {round(p_test,4)}, p_control: {round(p_control,4)}, p_pooled: {round(p_pooled,4)}'"
      ],
      "metadata": {
        "colab": {
          "base_uri": "https://localhost:8080/",
          "height": 36
        },
        "id": "ecRn7DgR7hUC",
        "outputId": "c6b8a884-1793-44c0-9b0e-48b2f9b8dbe7"
      },
      "execution_count": null,
      "outputs": [
        {
          "output_type": "execute_result",
          "data": {
            "text/plain": [
              "'p_test: 0.0175, p_control: 0.0166, p_pooled: 0.017'"
            ],
            "application/vnd.google.colaboratory.intrinsic+json": {
              "type": "string"
            }
          },
          "metadata": {},
          "execution_count": 31
        }
      ]
    },
    {
      "cell_type": "code",
      "source": [
        "z_value = (p_control - p_test) / (p_pooled*(1-p_pooled)*(1/n_control+1/n_test))**(1/2)\n",
        "z_value"
      ],
      "metadata": {
        "colab": {
          "base_uri": "https://localhost:8080/"
        },
        "id": "4G0k-EzwB55A",
        "outputId": "ecaa2848-27e6-4ec1-b17d-9ea2d84fd219"
      },
      "execution_count": null,
      "outputs": [
        {
          "output_type": "execute_result",
          "data": {
            "text/plain": [
              "-0.34466262743033393"
            ]
          },
          "metadata": {},
          "execution_count": 32
        }
      ]
    },
    {
      "cell_type": "code",
      "source": [
        "p_value = (1-st.norm.cdf(abs(z_value)))*2\n",
        "print('p-value: ', p_value)"
      ],
      "metadata": {
        "colab": {
          "base_uri": "https://localhost:8080/"
        },
        "id": "PyPcaDZRCZs2",
        "outputId": "5a5db6a8-96b2-4cab-b98d-2f2572234e43"
      },
      "execution_count": null,
      "outputs": [
        {
          "output_type": "stream",
          "name": "stdout",
          "text": [
            "p-value:  0.7303480173908923\n"
          ]
        }
      ]
    },
    {
      "cell_type": "markdown",
      "source": [
        "The is no significant difference as we expected before"
      ],
      "metadata": {
        "id": "jENZg5CyDixX"
      }
    },
    {
      "cell_type": "code",
      "source": [],
      "metadata": {
        "id": "DAJEyJwYqZbn"
      },
      "execution_count": null,
      "outputs": []
    }
  ]
}